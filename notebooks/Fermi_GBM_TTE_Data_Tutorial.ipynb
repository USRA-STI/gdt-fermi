{
 "cells": [
  {
   "cell_type": "markdown",
   "id": "829d041e-c5c5-4433-ac48-f217db2fe3ca",
   "metadata": {},
   "source": [
    "# Tutorial: Fermi GBM TTE Data"
   ]
  },
  {
   "cell_type": "markdown",
   "id": "fbd3fed5-e3f5-4d82-8425-ac385c19283f",
   "metadata": {},
   "source": [
    "Adapted from \"TTE Data\" in the Fermi GBM Data Tools documentation and \"Fermi GBM TTE Data\" in the Fermi Gamma-ray Data Tools documentation.\n",
    "\n",
    "TTE (Time-Tagged Event) data is basically a time-series of “counts” where each count is mapped to an energy channel. It is the temporally unbinned representation of CSPEC data (128 energy channels). \n",
    "\n",
    "In this tutorial, we will go through an example of how to use the Fermi Gamma-Ray Tools (GDT) toolkit as well as the core GDT toolkit to plot the lightcurves and count spectra of gamma-ray bursts using TTE data from the Fermi Gamma-ray Burst Monitor."
   ]
  },
  {
   "cell_type": "code",
   "execution_count": 1,
   "id": "dbd3a5e8-9d30-47be-8d20-fd75faf72a1c",
   "metadata": {},
   "outputs": [],
   "source": [
    "import matplotlib.pyplot as plt \n",
    "import numpy as np\n",
    "import gdt.missions.fermi \n",
    "import gdt.core "
   ]
  },
  {
   "cell_type": "markdown",
   "id": "243d70cb-283c-4c8e-932b-f13050e83a82",
   "metadata": {},
   "source": [
    "First we must download and read our TTE data. We can download TTE files with the `TriggerFtp` class from the GDT Fermi toolkit, then read the files with the `GbmTte` class from the same toolkit, similar to how we can read Fermi GBM PHAII Data. We will use event **090131090** as our example event for the rest of this tutorial."
   ]
  },
  {
   "cell_type": "code",
   "execution_count": 2,
   "id": "4247318c-e820-494a-8cae-5f96252dd0b8",
   "metadata": {},
   "outputs": [
    {
     "data": {
      "application/vnd.jupyter.widget-view+json": {
       "model_id": "2e829e7622f243fa9b75986f2db21a28",
       "version_major": 2,
       "version_minor": 0
      },
      "text/plain": [
       "Output()"
      ]
     },
     "metadata": {},
     "output_type": "display_data"
    },
    {
     "data": {
      "text/html": [
       "<pre style=\"white-space:pre;overflow-x:auto;line-height:normal;font-family:Menlo,'DejaVu Sans Mono',consolas,'Courier New',monospace\"></pre>\n"
      ],
      "text/plain": []
     },
     "metadata": {},
     "output_type": "display_data"
    },
    {
     "data": {
      "text/html": [
       "<pre style=\"white-space:pre;overflow-x:auto;line-height:normal;font-family:Menlo,'DejaVu Sans Mono',consolas,'Courier New',monospace\">\n",
       "</pre>\n"
      ],
      "text/plain": [
       "\n"
      ]
     },
     "metadata": {},
     "output_type": "display_data"
    }
   ],
   "source": [
    "from gdt.missions.fermi.gbm.tte import GbmTte\n",
    "from gdt.missions.fermi.gbm.finders import TriggerFtp\n",
    "from gdt.core import data_path\n",
    "\n",
    "# initialize TriggerFtp to pull data from event 090131090\n",
    "tte_finder = TriggerFtp('090131090')\n",
    "\n",
    "# download tte data for the n9 detector\n",
    "tte_finder.get_tte(download_dir=data_path.joinpath('090131090'), dets=['n9'])\n",
    "\n",
    "# create a path to open the tte data from your directory\n",
    "tte = GbmTte.open(data_path.joinpath('090131090/glg_tte_n9_bn090131090_v01.fit'))"
   ]
  },
  {
   "cell_type": "markdown",
   "id": "0f1720f3-0de5-4a0e-8420-4e757422d7ad",
   "metadata": {},
   "source": [
    "Since GBM uses the FITS format, the data files have multiple data extensions, each with metadata information in a header. There is also a primary header that contains metadata relevant to the overall file. You can access this metadata information like so:"
   ]
  },
  {
   "cell_type": "code",
   "execution_count": 3,
   "id": "973ca00a-4321-4fb3-8557-8aa3a5c1cdaa",
   "metadata": {},
   "outputs": [
    {
     "data": {
      "text/plain": [
       "['PRIMARY', 'EBOUNDS', 'EVENTS', 'GTI']"
      ]
     },
     "execution_count": 3,
     "metadata": {},
     "output_type": "execute_result"
    }
   ],
   "source": [
    "tte.headers.keys()"
   ]
  },
  {
   "cell_type": "code",
   "execution_count": 4,
   "id": "94a07ac7-bb4c-4d1f-b677-743e3125650b",
   "metadata": {},
   "outputs": [
    {
     "name": "stderr",
     "output_type": "stream",
     "text": [
      "WARNING: VerifyWarning: Card is too long, comment will be truncated. [astropy.io.fits.card]\n"
     ]
    },
    {
     "data": {
      "text/plain": [
       "CREATOR = 'GBM_TTE_Reader.pl v2.10' / Software and version creating file        \n",
       "FILETYPE= 'GBM PHOTON LIST'    / Name for this type of FITS file                \n",
       "FILE-VER= '1.0.0   '           / Version of the format for this filetype        \n",
       "TELESCOP= 'GLAST   '           / Name of mission/satellite                      \n",
       "INSTRUME= 'GBM     '           / Specific instrument used for observation       \n",
       "DETNAM  = 'NAI_09  '           / Individual detector name                       \n",
       "OBSERVER= 'Meegan  '           / GLAST Burst Monitor P.I.                       \n",
       "ORIGIN  = 'GIOC    '           / Name of organization making file               \n",
       "DATE    = '2009-04-27T13:55:31' / file creation date (YYYY-MM-DDThh:mm:ss UT)   \n",
       "DATE-OBS= '2009-01-31T02:10:01.842' / Date of start of observation              \n",
       "DATE-END= '2009-01-31T02:15:28.069' / Date of end of observation                \n",
       "TIMESYS = 'TT      '           / Time system used in time keywords              \n",
       "TIMEUNIT= 's       '           / Time since MJDREF, used in TSTART and TSTOP    \n",
       "MJDREFI =                51910 / MJD of GLAST reference epoch, integer part     \n",
       "MJDREFF = '0.0007428703703703703' / MJD of GLAST reference epoch, fractional par\n",
       "TSTART  =     255060537.657974 / [GLAST MET] Observation start time             \n",
       "TSTOP   =     255060863.884596 / [GLAST MET] Observation stop time              \n",
       "FILENAME= 'glg_tte_n9_bn090131090_v01.fit' / Name of this file                  \n",
       "DATATYPE= 'TTE     '           / GBM datatype used for this file                \n",
       "TRIGTIME=     255060563.149072 / Trigger time relative to MJDREF, double precisi\n",
       "OBJECT  = 'GRB090131090'       / Burst name in standard format, yymmddfff       \n",
       "RADECSYS= 'FK5     '           / Stellar reference frame                        \n",
       "EQUINOX =               2000.0 / Equinox for RA and Dec                         \n",
       "RA_OBJ  =                 30.0 / Calculated RA of burst                         \n",
       "DEC_OBJ =                -15.0 / Calculated Dec of burst                        \n",
       "ERR_RAD =                  3.0 / Calculated Location Error Radius               "
      ]
     },
     "execution_count": 4,
     "metadata": {},
     "output_type": "execute_result"
    }
   ],
   "source": [
    "tte.headers['PRIMARY']"
   ]
  },
  {
   "cell_type": "markdown",
   "id": "8e957ed3-43bb-43aa-8239-41fa3a586772",
   "metadata": {},
   "source": [
    "You can also easily access certain important properties of the data:"
   ]
  },
  {
   "cell_type": "code",
   "execution_count": 5,
   "id": "22b3b6f0-83c0-4f90-87cf-1b8750e9be43",
   "metadata": {},
   "outputs": [
    {
     "name": "stdout",
     "output_type": "stream",
     "text": [
      "GTI: <Gti: 1 intervals; range (-25.49109798669815, 300.73552399873734)>\n",
      "Trigger time: 255060563.149072\n",
      "Time Range: (-25.49109798669815, 300.73552399873734)\n",
      "Energy Range: (4.380217552185059, 2000.0)\n",
      "# of Energy Channels: 128\n"
     ]
    }
   ],
   "source": [
    "# the good time intervals for the data\n",
    "print(\"GTI: {}\".format(tte.gti))\n",
    "\n",
    "# the trigger time\n",
    "print(\"Trigger time: {}\".format(tte.trigtime))\n",
    "\n",
    "# the time range\n",
    "print(\"Time Range: {}\".format(tte.time_range))\n",
    "\n",
    "# the energy range\n",
    "print(\"Energy Range: {}\".format(tte.energy_range))\n",
    "\n",
    "# the number of energy channels\n",
    "print('# of Energy Channels: {}'.format(tte.num_chans))"
   ]
  },
  {
   "cell_type": "markdown",
   "id": "8f6de1b2-3226-4525-8f51-de5f0fe0addd",
   "metadata": {},
   "source": [
    "We can retrieve the time-tagged events data contained within the file, which is an `EventList` class."
   ]
  },
  {
   "cell_type": "code",
   "execution_count": 6,
   "id": "7b403523-5968-4e79-81ce-619e03a72efa",
   "metadata": {},
   "outputs": [
    {
     "data": {
      "text/plain": [
       "<EventList: 422405 events;\n",
       " time range (-25.49109798669815, 300.73552399873734);\n",
       " channel range (0, 127)>"
      ]
     },
     "execution_count": 6,
     "metadata": {},
     "output_type": "execute_result"
    }
   ],
   "source": [
    "tte.data"
   ]
  },
  {
   "cell_type": "markdown",
   "id": "57e0bf55-288e-4992-a4fa-9840df70a925",
   "metadata": {},
   "source": [
    "Through the `PhotonList` base class, the TTE data objects contain the high-level functionality to perform a lot of common data reduction. For example, if we only want to work with a short time segment of TTE data in the file, we can take a slice of the data and return a new fully-functional data object with the time-sliced data."
   ]
  },
  {
   "cell_type": "code",
   "execution_count": 7,
   "id": "f062cf6a-3c75-4322-be3d-4035277497f9",
   "metadata": {},
   "outputs": [
    {
     "name": "stdout",
     "output_type": "stream",
     "text": [
      "(-9.999035984277725, 9.998922020196915)\n"
     ]
    }
   ],
   "source": [
    "# slice the data in time from -10 to 10 seconds, and return the resulting time range\n",
    "time_sliced_tte = tte.slice_time([-10.0, 10.0])\n",
    "print(time_sliced_tte.time_range)"
   ]
  },
  {
   "cell_type": "markdown",
   "id": "209a5967-c10a-423a-97ff-bb4d8baac88a",
   "metadata": {},
   "source": [
    "You can also slice the data in energy, like so:"
   ]
  },
  {
   "cell_type": "code",
   "execution_count": 8,
   "id": "1bb54d48-abfe-417c-a029-ee7d4affd487",
   "metadata": {},
   "outputs": [
    {
     "name": "stdout",
     "output_type": "stream",
     "text": [
      "(48.388710021972656, 305.1512451171875)\n"
     ]
    }
   ],
   "source": [
    "# slice the data in energy from 50 to 300 keV, and return the resulting energy range\n",
    "energy_sliced_tte = tte.slice_energy((50.0, 300.0))\n",
    "print(energy_sliced_tte.energy_range)"
   ]
  },
  {
   "cell_type": "markdown",
   "id": "eefafd43-34e4-4927-b30d-f8d4739f623a",
   "metadata": {},
   "source": [
    "Making a lightcurve using TTE data is slightly more complicated than it is for the pre-binned data because the TTE is temporally unbinned. First, the data has to be binned, and then it can be displayed. Here, we want to bin unbinned data, so we choose from the Binning Algorithms for Unbinned Data. For this example, let’s choose the `bin_by_time()` function from the GDT Core toolkit, which simply bins the TTE to the prescribed time resolution. Then we can use our chosen binning algorithm to convert the TTE data to a PHAII object."
   ]
  },
  {
   "cell_type": "code",
   "execution_count": 9,
   "id": "316bd389-80b7-4cf8-b687-7b02c4924aa9",
   "metadata": {},
   "outputs": [
    {
     "data": {
      "text/plain": [
       "gdt.missions.fermi.gbm.phaii.GbmPhaii"
      ]
     },
     "execution_count": 9,
     "metadata": {},
     "output_type": "execute_result"
    }
   ],
   "source": [
    "from gdt.core.binning.unbinned import bin_by_time\n",
    "\n",
    "# convert the tte data to a phaii object while binning it to 1.024 second resolution\n",
    "phaii = tte.to_phaii(bin_by_time, 1.024, time_ref=0.0)\n",
    "type(phaii)"
   ]
  },
  {
   "cell_type": "markdown",
   "id": "41ed09bc-6705-430e-a4f6-5a7e84d84268",
   "metadata": {},
   "source": [
    "Here, we binned the data to 1.024 s resolution, and our reference point at which to start the binning (in both directions) was at T0=0 s. Now that our data is a `GbmPhaii` object, we can do all of the same operations that we could with CTIME or CSPEC data. For example, we can plot the lightcurve using the `Lightcurve` class:"
   ]
  },
  {
   "cell_type": "code",
   "execution_count": 10,
   "id": "dd0a9391-4c69-4c94-951c-63276db48dd3",
   "metadata": {},
   "outputs": [
    {
     "data": {
      "image/png": "[encoded data removed]",
      "text/plain": [
       "<Figure size 770x470 with 1 Axes>"
      ]
     },
     "metadata": {},
     "output_type": "display_data"
    }
   ],
   "source": [
    "from gdt.core.plot.lightcurve import Lightcurve\n",
    "\n",
    "# convert the data into a lightcurce and plot it\n",
    "lcplot = Lightcurve(data=phaii.to_lightcurve())\n",
    "plt.show()"
   ]
  },
  {
   "cell_type": "markdown",
   "id": "e3c5d1c8-d471-43a0-8a52-febc4c70710e",
   "metadata": {},
   "source": [
    "One thing to note: if we want to temporally rebin the data, we could certainly rebin the PHAII object, but in order to leverage the full power and flexibility of TTE, it would be good to (re)bin the TTE data instead to create a new PHAII object.\n",
    "\n",
    "To plot the spectrum, we don’t have to worry about binning the data, since the TTE is already necessarily pre-binned in energy. So, we can make a spectrum plot directly from the TTE object without any extra steps using the `Spectrum` class:"
   ]
  },
  {
   "cell_type": "code",
   "execution_count": 11,
   "id": "8bb37244-6ef2-4704-a383-c517cc8267aa",
   "metadata": {},
   "outputs": [
    {
     "data": {
      "image/png": "[encoded data removed]",
      "text/plain": [
       "<Figure size 770x470 with 1 Axes>"
      ]
     },
     "metadata": {},
     "output_type": "display_data"
    }
   ],
   "source": [
    "from gdt.core.plot.spectrum import Spectrum\n",
    "\n",
    "# convert the data into a count spectrum and integrate over time from 0 - 10 s\n",
    "spectrum = tte.to_spectrum(time_range=(0.0, 10.0))\n",
    "\n",
    "# plot the count spectrum\n",
    "specplot = Spectrum(data=spectrum)\n",
    "plt.show()"
   ]
  },
  {
   "cell_type": "markdown",
   "id": "96ca42cd-0bfa-4d18-82b7-72ddd7032b8c",
   "metadata": {},
   "source": [
    "Perhaps the spectral resolution is a little bit higher than we need (i.e. if studying a weak source). We can rebin the count spectrum, but remember that the energy is pre-binned, so we need to use one of the Binning Algorithms for Binned Data. Here, we will use `combine_by_factor()`, which simply combines bins together by an integer factor."
   ]
  },
  {
   "cell_type": "code",
   "execution_count": 12,
   "id": "d1fbffa8-054e-4b80-b025-eb6bde2cc76a",
   "metadata": {},
   "outputs": [
    {
     "data": {
      "image/png": "[encoded data removed]",
      "text/plain": [
       "<Figure size 770x470 with 1 Axes>"
      ]
     },
     "metadata": {},
     "output_type": "display_data"
    }
   ],
   "source": [
    "from gdt.core.binning.binned import combine_by_factor\n",
    "\n",
    "# rebin the count spectrum by a factor of 4\n",
    "rebinned_energy = tte.rebin_energy(combine_by_factor, 4)\n",
    "\n",
    "# convert the rebinned data into a count spectrum and plot it\n",
    "rebinned_spectrum = rebinned_energy.to_spectrum(time_range=(0.0, 10.0))\n",
    "specplot = Spectrum(data=rebinned_spectrum)\n",
    "plt.show()"
   ]
  },
  {
   "cell_type": "markdown",
   "id": "2eff9c8e-9184-4bc2-a883-f13f7ecf47ce",
   "metadata": {},
   "source": [
    "As with the pre-binned types, we can convert one or more time selections to a single spectrum PHA object. You can do this from TTE without having to bin in time."
   ]
  },
  {
   "cell_type": "code",
   "execution_count": 13,
   "id": "ecec08e9-e59e-4e1b-88d4-2f00e5b6127a",
   "metadata": {},
   "outputs": [
    {
     "name": "stdout",
     "output_type": "stream",
     "text": [
      "<Pha: \n",
      " trigger time: 255060563.149072;\n",
      " time range (0.0007220208644866943, 49.99965399503708);\n",
      " energy range (4.380217552185059, 2000.0)>\n"
     ]
    }
   ],
   "source": [
    "# create a pha object by integrating over 0-10 s and 30-50 s\n",
    "pha = tte.to_pha(time_ranges=[(0.0, 10.0), (30.0, 50.0)])\n",
    "print(pha)"
   ]
  },
  {
   "cell_type": "markdown",
   "id": "96c458ec-406c-403d-acbb-2edb87182056",
   "metadata": {},
   "source": [
    "Sometimes, you might want to save snippets of TTE, or even merge your TTE snippets into one file and write it to file for later. You can do this as well, like so:"
   ]
  },
  {
   "cell_type": "code",
   "execution_count": 14,
   "id": "d54f5907-69d8-4f54-952d-c06e9a8abd82",
   "metadata": {},
   "outputs": [
    {
     "data": {
      "text/plain": [
       "(-9.999035984277725, 49.99965399503708)"
      ]
     },
     "execution_count": 14,
     "metadata": {},
     "output_type": "execute_result"
    }
   ],
   "source": [
    "# slice a second section of tte data in time\n",
    "time_sliced_tte2 = tte.slice_time([30.0, 50.0])\n",
    "\n",
    "# merge our new time slice with the time slice we made earlier\n",
    "tte_slices_merged = tte.merge([time_sliced_tte, time_sliced_tte2])\n",
    "tte_slices_merged.time_range"
   ]
  },
  {
   "cell_type": "markdown",
   "id": "b1b060fc-ed73-4f3a-9143-d44539fb9e09",
   "metadata": {},
   "source": [
    "Finally, we can write out a new fully-qualified GBM TTE FITS file after some reduction tasks. For example, we can write out our time-sliced data object:"
   ]
  },
  {
   "cell_type": "code",
   "execution_count": 16,
   "id": "870eb626-19e3-4635-9d97-204bf11f6d44",
   "metadata": {},
   "outputs": [],
   "source": [
    "# write new gbm tte fits file with time sliced tte data\n",
    "time_sliced_tte.write('./', filename='my_first_custom_tte.fit', overwrite=True)"
   ]
  },
  {
   "cell_type": "markdown",
   "id": "5278f2d8-bbce-43f4-a33a-8e0b1b7e1f03",
   "metadata": {},
   "source": [
    "Congrats, you’ve just learned all about GBM TTE Data!"
   ]
  }
 ],
 "metadata": {
  "kernelspec": {
   "display_name": "Python 3 (ipykernel)",
   "language": "python",
   "name": "python3"
  },
  "language_info": {
   "codemirror_mode": {
    "name": "ipython",
    "version": 3
   },
   "file_extension": ".py",
   "mimetype": "text/x-python",
   "name": "python",
   "nbconvert_exporter": "python",
   "pygments_lexer": "ipython3",
   "version": "3.9.6"
  }
 },
 "nbformat": 4,
 "nbformat_minor": 5
}
