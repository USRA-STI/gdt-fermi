{
 "cells": [
  {
   "cell_type": "markdown",
   "id": "f0ffc246-969f-4580-b939-6773cbfe5781",
   "metadata": {},
   "source": [
    "# Tutorial: Finding GBM Data"
   ]
  },
  {
   "cell_type": "markdown",
   "id": "fd63b11e-6c76-43c6-b776-e27b3a79ecdd",
   "metadata": {},
   "source": [
    "Adapted from \"Finding GBM Data\" in the Fermi GBM Data Tools documentation and \"Fermi GBM Data Finders\" and \"Fermi GBM Catalogs\" in the Fermi Gamma-ray Data Tools documentation.\n",
    "\n",
    "A natural question may be: “Where do I find the data I need?” Well, you’re in luck, because this will show you how to find the data you seek. GBM Data is hosted publicly on the HEASARC FTP server via the Fermi Science Support Center, and the data are stored in a consistent directory structure. But instead of having to navigate a winding maze of FTP directories, we provide a couple of classes built to retrieve the data you want. First, you need to decide if you want trigger data (say, from a GRB) or continuous data.\n",
    "\n",
    "In this tutorial, we will go through an example of how to use the Fermi Gamma-Ray Tools (GDT) toolkit as well as the core GDT toolkit to search the HEASARC FTP server for trigger data and continuous data, as well as how to search the GBM catalogs."
   ]
  },
  {
   "cell_type": "code",
   "execution_count": 1,
   "id": "0ec10d77-1507-471d-b1e5-25c4e987b403",
   "metadata": {},
   "outputs": [],
   "source": [
    "import numpy as np\n",
    "import gdt.missions.fermi \n",
    "import gdt.core "
   ]
  },
  {
   "cell_type": "markdown",
   "id": "9e39d33c-e70a-4386-bbcd-94b17fe72f1e",
   "metadata": {},
   "source": [
    "### Finding Triggered GBM Data"
   ]
  },
  {
   "cell_type": "markdown",
   "id": "376340ab-1a6b-433b-a0e2-13c1465c69df",
   "metadata": {},
   "source": [
    "Let’s start with trigger data, and assume you know the trigger number you’re interested in. We will use event **190114873** as our example event for the first part of this tutorial. We can use the `TriggerFtp` class from the GDT Fermi toolkit to find trigger data for a particular event:"
   ]
  },
  {
   "cell_type": "code",
   "execution_count": 2,
   "id": "2f4ae43d-aa15-4cd3-aac2-a2deb4329478",
   "metadata": {},
   "outputs": [
    {
     "data": {
      "text/plain": [
       "122"
      ]
     },
     "execution_count": 2,
     "metadata": {},
     "output_type": "execute_result"
    }
   ],
   "source": [
    "# the datafinder class for triggers\n",
    "from gdt.missions.fermi.gbm.finders import TriggerFtp\n",
    "\n",
    "# initialize the trigger data finder with a trigger number\n",
    "trig_finder = TriggerFtp('190114873')\n",
    "trig_finder.num_files"
   ]
  },
  {
   "cell_type": "markdown",
   "id": "4a7bb31a-712c-41d0-af3b-46cc41d3c237",
   "metadata": {},
   "source": [
    "We don’t really care about the directory structure, we just want the data. So, this quickly gets us to the directory we need. There are 122 files associated with this trigger. Say we want CSPEC data &ndash; is there CSPEC available? We can use the `ls_cspec()` function to list the CSPEC files associated with this trigger. "
   ]
  },
  {
   "cell_type": "code",
   "execution_count": 3,
   "id": "5b05dd9a-8117-4a0d-ac58-873f18fe00e3",
   "metadata": {},
   "outputs": [
    {
     "data": {
      "text/plain": [
       "['glg_cspec_b0_bn190114873_v00.pha',\n",
       " 'glg_cspec_b1_bn190114873_v00.pha',\n",
       " 'glg_cspec_n0_bn190114873_v00.pha',\n",
       " 'glg_cspec_n1_bn190114873_v00.pha',\n",
       " 'glg_cspec_n2_bn190114873_v00.pha',\n",
       " 'glg_cspec_n3_bn190114873_v00.pha',\n",
       " 'glg_cspec_n4_bn190114873_v00.pha',\n",
       " 'glg_cspec_n5_bn190114873_v00.pha',\n",
       " 'glg_cspec_n6_bn190114873_v00.pha',\n",
       " 'glg_cspec_n7_bn190114873_v00.pha',\n",
       " 'glg_cspec_n8_bn190114873_v00.pha',\n",
       " 'glg_cspec_n9_bn190114873_v00.pha',\n",
       " 'glg_cspec_na_bn190114873_v00.pha',\n",
       " 'glg_cspec_nb_bn190114873_v00.pha']"
      ]
     },
     "execution_count": 3,
     "metadata": {},
     "output_type": "execute_result"
    }
   ],
   "source": [
    "# list the cspec data for the trigger\n",
    "trig_finder.ls_cspec()"
   ]
  },
  {
   "cell_type": "markdown",
   "id": "10156254-9e50-4f90-ac43-295a97fcaf84",
   "metadata": {},
   "source": [
    "Great! There’s a full complement of CSPEC data. How about responses for the CSPEC data? We can use the similar `ls_rsp()` function to list the trigger's associated rsp files. "
   ]
  },
  {
   "cell_type": "code",
   "execution_count": 4,
   "id": "9e2df68a-0c8b-4ba9-9053-160a82179740",
   "metadata": {},
   "outputs": [
    {
     "data": {
      "text/plain": [
       "['glg_cspec_b0_bn190114873_v02.rsp',\n",
       " 'glg_cspec_b1_bn190114873_v02.rsp',\n",
       " 'glg_cspec_n0_bn190114873_v02.rsp',\n",
       " 'glg_cspec_n1_bn190114873_v02.rsp',\n",
       " 'glg_cspec_n2_bn190114873_v02.rsp',\n",
       " 'glg_cspec_n3_bn190114873_v02.rsp',\n",
       " 'glg_cspec_n4_bn190114873_v02.rsp',\n",
       " 'glg_cspec_n5_bn190114873_v02.rsp',\n",
       " 'glg_cspec_n6_bn190114873_v02.rsp',\n",
       " 'glg_cspec_n7_bn190114873_v02.rsp',\n",
       " 'glg_cspec_n8_bn190114873_v02.rsp',\n",
       " 'glg_cspec_n9_bn190114873_v02.rsp',\n",
       " 'glg_cspec_na_bn190114873_v02.rsp',\n",
       " 'glg_cspec_nb_bn190114873_v02.rsp']"
      ]
     },
     "execution_count": 4,
     "metadata": {},
     "output_type": "execute_result"
    }
   ],
   "source": [
    "# list the rsp files for the cspec data\n",
    "trig_finder.ls_rsp(cspec=True, ctime=False)"
   ]
  },
  {
   "cell_type": "markdown",
   "id": "58c67b87-7794-4edc-94f6-7be91c7d9454",
   "metadata": {},
   "source": [
    "Again, we can list all of the relevant files. Are there any quicklook lightcurve plots? This time, we can use the `ls_lightcurve()` function. There are many similar functions that you can use to find different types of files associated with a trigger."
   ]
  },
  {
   "cell_type": "code",
   "execution_count": 5,
   "id": "beb7df43-fdc3-4efc-8fbf-ed3704144092",
   "metadata": {},
   "outputs": [
    {
     "data": {
      "text/plain": [
       "['glg_lc_chan12_bn190114873_v00.pdf',\n",
       " 'glg_lc_chan34_bn190114873_v00.pdf',\n",
       " 'glg_lc_chan567_bn190114873_v00.pdf',\n",
       " 'glg_lc_chantot_bn190114873_v00.pdf',\n",
       " 'glg_lc_tot_bn190114873_v00.pdf']"
      ]
     },
     "execution_count": 5,
     "metadata": {},
     "output_type": "execute_result"
    }
   ],
   "source": [
    "# list the lightcurve pdf files\n",
    "trig_finder.ls_lightcurve()"
   ]
  },
  {
   "cell_type": "markdown",
   "id": "e4ba1068-2617-4a2f-9482-0cd74afe1aeb",
   "metadata": {},
   "source": [
    "What if we want to move on to another trigger? You don’t have to create a new `TriggerFtp` object, you can just used the function `cd()` (short for change directory) to change triggers. We will now be using event **170817529** (GRB 170817A) as an example event:"
   ]
  },
  {
   "cell_type": "code",
   "execution_count": 6,
   "id": "65ff3d14-8465-42d4-9120-dbf404af902e",
   "metadata": {},
   "outputs": [
    {
     "data": {
      "text/plain": [
       "128"
      ]
     },
     "execution_count": 6,
     "metadata": {},
     "output_type": "execute_result"
    }
   ],
   "source": [
    "# change trigger\n",
    "trig_finder.cd('170817529')\n",
    "trig_finder.num_files"
   ]
  },
  {
   "cell_type": "markdown",
   "id": "496b6318-9b32-4ab6-9e28-3193c1f556a3",
   "metadata": {},
   "source": [
    "Of course, you don’t want to just list the files in a directory, you want to download them. Let’s download all the catalog (a.k.a. cat) files for GRB 170817A using the `get_cat_files()` function:"
   ]
  },
  {
   "cell_type": "code",
   "execution_count": 7,
   "id": "a23439cd-196b-4856-8183-a0fe84d056b6",
   "metadata": {},
   "outputs": [
    {
     "data": {
      "application/vnd.jupyter.widget-view+json": {
       "model_id": "68c8bf0f8e9c4dbd911cb61be56dd412",
       "version_major": 2,
       "version_minor": 0
      },
      "text/plain": [
       "Output()"
      ]
     },
     "metadata": {},
     "output_type": "display_data"
    },
    {
     "data": {
      "text/html": [
       "<pre style=\"white-space:pre;overflow-x:auto;line-height:normal;font-family:Menlo,'DejaVu Sans Mono',consolas,'Courier New',monospace\"></pre>\n"
      ],
      "text/plain": []
     },
     "metadata": {},
     "output_type": "display_data"
    },
    {
     "data": {
      "text/html": [
       "<pre style=\"white-space:pre;overflow-x:auto;line-height:normal;font-family:Menlo,'DejaVu Sans Mono',consolas,'Courier New',monospace\">\n",
       "</pre>\n"
      ],
      "text/plain": [
       "\n"
      ]
     },
     "metadata": {},
     "output_type": "display_data"
    },
    {
     "data": {
      "application/vnd.jupyter.widget-view+json": {
       "model_id": "70fb3a6084674cf680cd77cdce4d0827",
       "version_major": 2,
       "version_minor": 0
      },
      "text/plain": [
       "Output()"
      ]
     },
     "metadata": {},
     "output_type": "display_data"
    },
    {
     "data": {
      "text/html": [
       "<pre style=\"white-space:pre;overflow-x:auto;line-height:normal;font-family:Menlo,'DejaVu Sans Mono',consolas,'Courier New',monospace\"></pre>\n"
      ],
      "text/plain": []
     },
     "metadata": {},
     "output_type": "display_data"
    },
    {
     "data": {
      "text/html": [
       "<pre style=\"white-space:pre;overflow-x:auto;line-height:normal;font-family:Menlo,'DejaVu Sans Mono',consolas,'Courier New',monospace\">\n",
       "</pre>\n"
      ],
      "text/plain": [
       "\n"
      ]
     },
     "metadata": {},
     "output_type": "display_data"
    },
    {
     "data": {
      "application/vnd.jupyter.widget-view+json": {
       "model_id": "045ac005a28f4e19aa3b1c2068446c50",
       "version_major": 2,
       "version_minor": 0
      },
      "text/plain": [
       "Output()"
      ]
     },
     "metadata": {},
     "output_type": "display_data"
    },
    {
     "data": {
      "text/html": [
       "<pre style=\"white-space:pre;overflow-x:auto;line-height:normal;font-family:Menlo,'DejaVu Sans Mono',consolas,'Courier New',monospace\"></pre>\n"
      ],
      "text/plain": []
     },
     "metadata": {},
     "output_type": "display_data"
    },
    {
     "data": {
      "text/html": [
       "<pre style=\"white-space:pre;overflow-x:auto;line-height:normal;font-family:Menlo,'DejaVu Sans Mono',consolas,'Courier New',monospace\">\n",
       "</pre>\n"
      ],
      "text/plain": [
       "\n"
      ]
     },
     "metadata": {},
     "output_type": "display_data"
    },
    {
     "data": {
      "application/vnd.jupyter.widget-view+json": {
       "model_id": "140fb55f905f454690a68dced9a5b894",
       "version_major": 2,
       "version_minor": 0
      },
      "text/plain": [
       "Output()"
      ]
     },
     "metadata": {},
     "output_type": "display_data"
    },
    {
     "data": {
      "text/html": [
       "<pre style=\"white-space:pre;overflow-x:auto;line-height:normal;font-family:Menlo,'DejaVu Sans Mono',consolas,'Courier New',monospace\"></pre>\n"
      ],
      "text/plain": []
     },
     "metadata": {},
     "output_type": "display_data"
    },
    {
     "data": {
      "text/html": [
       "<pre style=\"white-space:pre;overflow-x:auto;line-height:normal;font-family:Menlo,'DejaVu Sans Mono',consolas,'Courier New',monospace\">\n",
       "</pre>\n"
      ],
      "text/plain": [
       "\n"
      ]
     },
     "metadata": {},
     "output_type": "display_data"
    },
    {
     "data": {
      "application/vnd.jupyter.widget-view+json": {
       "model_id": "33f2312da65e447894581f17365d4219",
       "version_major": 2,
       "version_minor": 0
      },
      "text/plain": [
       "Output()"
      ]
     },
     "metadata": {},
     "output_type": "display_data"
    },
    {
     "data": {
      "text/html": [
       "<pre style=\"white-space:pre;overflow-x:auto;line-height:normal;font-family:Menlo,'DejaVu Sans Mono',consolas,'Courier New',monospace\"></pre>\n"
      ],
      "text/plain": []
     },
     "metadata": {},
     "output_type": "display_data"
    },
    {
     "data": {
      "text/html": [
       "<pre style=\"white-space:pre;overflow-x:auto;line-height:normal;font-family:Menlo,'DejaVu Sans Mono',consolas,'Courier New',monospace\">\n",
       "</pre>\n"
      ],
      "text/plain": [
       "\n"
      ]
     },
     "metadata": {},
     "output_type": "display_data"
    },
    {
     "data": {
      "application/vnd.jupyter.widget-view+json": {
       "model_id": "94eb57af5ef0469480219186423eef98",
       "version_major": 2,
       "version_minor": 0
      },
      "text/plain": [
       "Output()"
      ]
     },
     "metadata": {},
     "output_type": "display_data"
    },
    {
     "data": {
      "text/html": [
       "<pre style=\"white-space:pre;overflow-x:auto;line-height:normal;font-family:Menlo,'DejaVu Sans Mono',consolas,'Courier New',monospace\"></pre>\n"
      ],
      "text/plain": []
     },
     "metadata": {},
     "output_type": "display_data"
    },
    {
     "data": {
      "text/html": [
       "<pre style=\"white-space:pre;overflow-x:auto;line-height:normal;font-family:Menlo,'DejaVu Sans Mono',consolas,'Courier New',monospace\">\n",
       "</pre>\n"
      ],
      "text/plain": [
       "\n"
      ]
     },
     "metadata": {},
     "output_type": "display_data"
    },
    {
     "data": {
      "application/vnd.jupyter.widget-view+json": {
       "model_id": "2a13817b4fa14b18b176b5202c7886ea",
       "version_major": 2,
       "version_minor": 0
      },
      "text/plain": [
       "Output()"
      ]
     },
     "metadata": {},
     "output_type": "display_data"
    },
    {
     "data": {
      "text/html": [
       "<pre style=\"white-space:pre;overflow-x:auto;line-height:normal;font-family:Menlo,'DejaVu Sans Mono',consolas,'Courier New',monospace\"></pre>\n"
      ],
      "text/plain": []
     },
     "metadata": {},
     "output_type": "display_data"
    },
    {
     "data": {
      "text/html": [
       "<pre style=\"white-space:pre;overflow-x:auto;line-height:normal;font-family:Menlo,'DejaVu Sans Mono',consolas,'Courier New',monospace\">\n",
       "</pre>\n"
      ],
      "text/plain": [
       "\n"
      ]
     },
     "metadata": {},
     "output_type": "display_data"
    },
    {
     "data": {
      "application/vnd.jupyter.widget-view+json": {
       "model_id": "48e9f2f6d0c34ac9a35fa7dcf63e71cc",
       "version_major": 2,
       "version_minor": 0
      },
      "text/plain": [
       "Output()"
      ]
     },
     "metadata": {},
     "output_type": "display_data"
    },
    {
     "data": {
      "text/html": [
       "<pre style=\"white-space:pre;overflow-x:auto;line-height:normal;font-family:Menlo,'DejaVu Sans Mono',consolas,'Courier New',monospace\"></pre>\n"
      ],
      "text/plain": []
     },
     "metadata": {},
     "output_type": "display_data"
    },
    {
     "data": {
      "text/html": [
       "<pre style=\"white-space:pre;overflow-x:auto;line-height:normal;font-family:Menlo,'DejaVu Sans Mono',consolas,'Courier New',monospace\">\n",
       "</pre>\n"
      ],
      "text/plain": [
       "\n"
      ]
     },
     "metadata": {},
     "output_type": "display_data"
    },
    {
     "data": {
      "application/vnd.jupyter.widget-view+json": {
       "model_id": "e8963c236d134d848c640f7eb2eac6aa",
       "version_major": 2,
       "version_minor": 0
      },
      "text/plain": [
       "Output()"
      ]
     },
     "metadata": {},
     "output_type": "display_data"
    },
    {
     "data": {
      "text/html": [
       "<pre style=\"white-space:pre;overflow-x:auto;line-height:normal;font-family:Menlo,'DejaVu Sans Mono',consolas,'Courier New',monospace\"></pre>\n"
      ],
      "text/plain": []
     },
     "metadata": {},
     "output_type": "display_data"
    },
    {
     "data": {
      "text/html": [
       "<pre style=\"white-space:pre;overflow-x:auto;line-height:normal;font-family:Menlo,'DejaVu Sans Mono',consolas,'Courier New',monospace\">\n",
       "</pre>\n"
      ],
      "text/plain": [
       "\n"
      ]
     },
     "metadata": {},
     "output_type": "display_data"
    },
    {
     "data": {
      "application/vnd.jupyter.widget-view+json": {
       "model_id": "c47400a0303b4d428f456b16cedb5712",
       "version_major": 2,
       "version_minor": 0
      },
      "text/plain": [
       "Output()"
      ]
     },
     "metadata": {},
     "output_type": "display_data"
    },
    {
     "data": {
      "text/html": [
       "<pre style=\"white-space:pre;overflow-x:auto;line-height:normal;font-family:Menlo,'DejaVu Sans Mono',consolas,'Courier New',monospace\"></pre>\n"
      ],
      "text/plain": []
     },
     "metadata": {},
     "output_type": "display_data"
    },
    {
     "data": {
      "text/html": [
       "<pre style=\"white-space:pre;overflow-x:auto;line-height:normal;font-family:Menlo,'DejaVu Sans Mono',consolas,'Courier New',monospace\">\n",
       "</pre>\n"
      ],
      "text/plain": [
       "\n"
      ]
     },
     "metadata": {},
     "output_type": "display_data"
    }
   ],
   "source": [
    "# download catalog files\n",
    "trig_finder.get_cat_files('./', verbose=True)"
   ]
  },
  {
   "cell_type": "markdown",
   "id": "34868d19-7f95-41d4-95a6-15a7efebd811",
   "metadata": {},
   "source": [
    "### Finding Continuous GBM Data"
   ]
  },
  {
   "cell_type": "markdown",
   "id": "f8b754ad-05b3-491b-adee-79f5a17d0025",
   "metadata": {},
   "source": [
    "Now we want some continuous data. There aren’t any trigger numbers for continuous data. Continuous CTIME and CSPEC are available in files that cover a whole day (in UTC) and TTE is offered in hourly files. To find the data you need, instead of a trigger number, you need to create a `ContinuousFtp` object by specifying a time using Astropy Time."
   ]
  },
  {
   "cell_type": "code",
   "execution_count": 8,
   "id": "f7d35852-5e53-45de-98fa-7d909d7ba984",
   "metadata": {},
   "outputs": [
    {
     "data": {
      "text/plain": [
       "379"
      ]
     },
     "execution_count": 8,
     "metadata": {},
     "output_type": "execute_result"
    }
   ],
   "source": [
    "# the datafinder class for continuous data\n",
    "from gdt.missions.fermi.gbm.finders import ContinuousFtp\n",
    "\n",
    "# the astropy time class\n",
    "from gdt.missions.fermi.time import Time\n",
    "\n",
    "# initialize the continuous data finder with a time and list the number of files\n",
    "time = Time(587683338.0, format='fermi')\n",
    "cont_finder = ContinuousFtp(time)\n",
    "cont_finder.num_files"
   ]
  },
  {
   "cell_type": "markdown",
   "id": "62a1e58b-7329-4932-9a28-93d42f1dadf0",
   "metadata": {},
   "source": [
    "That’s a lot of files in this directory. Most of them are TTE; remember that each hour has a TTE file (since the end of 2012) for each detector. Let’s just list the CTIME that’s available &ndash; you can so this in the same way that you do for trigger data."
   ]
  },
  {
   "cell_type": "code",
   "execution_count": 9,
   "id": "e1e5d860-86eb-44ba-b072-87f555dec9e4",
   "metadata": {},
   "outputs": [
    {
     "data": {
      "text/plain": [
       "['glg_ctime_b0_190816_v00.pha',\n",
       " 'glg_ctime_b1_190816_v00.pha',\n",
       " 'glg_ctime_n0_190816_v00.pha',\n",
       " 'glg_ctime_n1_190816_v00.pha',\n",
       " 'glg_ctime_n2_190816_v00.pha',\n",
       " 'glg_ctime_n3_190816_v00.pha',\n",
       " 'glg_ctime_n4_190816_v00.pha',\n",
       " 'glg_ctime_n5_190816_v00.pha',\n",
       " 'glg_ctime_n6_190816_v00.pha',\n",
       " 'glg_ctime_n7_190816_v00.pha',\n",
       " 'glg_ctime_n8_190816_v00.pha',\n",
       " 'glg_ctime_n9_190816_v00.pha',\n",
       " 'glg_ctime_na_190816_v00.pha',\n",
       " 'glg_ctime_nb_190816_v00.pha']"
      ]
     },
     "execution_count": 9,
     "metadata": {},
     "output_type": "execute_result"
    }
   ],
   "source": [
    "# list ctime data covering this time\n",
    "cont_finder.ls_ctime()"
   ]
  },
  {
   "cell_type": "markdown",
   "id": "59c63f6e-fd87-409f-9452-f5b9df50def3",
   "metadata": {},
   "source": [
    "Now let’s list the available TTE for this time. This will only list the TTE files in the directory that cover the relevant time."
   ]
  },
  {
   "cell_type": "code",
   "execution_count": 10,
   "id": "886f1e0f-d52e-4a7c-8ceb-54e81576895a",
   "metadata": {},
   "outputs": [
    {
     "data": {
      "text/plain": [
       "['glg_tte_b0_190816_21z_v00.fit.gz',\n",
       " 'glg_tte_b1_190816_21z_v00.fit.gz',\n",
       " 'glg_tte_n0_190816_21z_v00.fit.gz',\n",
       " 'glg_tte_n1_190816_21z_v00.fit.gz',\n",
       " 'glg_tte_n2_190816_21z_v00.fit.gz',\n",
       " 'glg_tte_n3_190816_21z_v00.fit.gz',\n",
       " 'glg_tte_n4_190816_21z_v00.fit.gz',\n",
       " 'glg_tte_n5_190816_21z_v00.fit.gz',\n",
       " 'glg_tte_n6_190816_21z_v00.fit.gz',\n",
       " 'glg_tte_n7_190816_21z_v00.fit.gz',\n",
       " 'glg_tte_n8_190816_21z_v00.fit.gz',\n",
       " 'glg_tte_n9_190816_21z_v00.fit.gz',\n",
       " 'glg_tte_na_190816_21z_v00.fit.gz',\n",
       " 'glg_tte_nb_190816_21z_v00.fit.gz']"
      ]
     },
     "execution_count": 10,
     "metadata": {},
     "output_type": "execute_result"
    }
   ],
   "source": [
    "# list hourly TTE data covering this time\n",
    "cont_finder.ls_tte()"
   ]
  },
  {
   "cell_type": "markdown",
   "id": "6be664df-09b1-4de4-878f-e6f09bc5d750",
   "metadata": {},
   "source": [
    "Similar to the trigger finder, you can use the same object to search at different times."
   ]
  },
  {
   "cell_type": "code",
   "execution_count": 11,
   "id": "e8577369-6e3a-47e1-bdc7-82db641fa587",
   "metadata": {},
   "outputs": [],
   "source": [
    "# change the time of interest\n",
    "new_time = Time('2017-08-17T12:41:06.47', format='isot', scale='utc')"
   ]
  },
  {
   "cell_type": "markdown",
   "id": "03c5d665-68f4-422d-a819-10f6af09b2a3",
   "metadata": {},
   "source": [
    "Now, let's download the position history file for this time using the `get_poshist()` function:"
   ]
  },
  {
   "cell_type": "code",
   "execution_count": 12,
   "id": "b1a19dec-531f-47ce-82cb-7a30a88afe3b",
   "metadata": {},
   "outputs": [
    {
     "data": {
      "application/vnd.jupyter.widget-view+json": {
       "model_id": "2b017264a4824af5b0729628889b71a5",
       "version_major": 2,
       "version_minor": 0
      },
      "text/plain": [
       "Output()"
      ]
     },
     "metadata": {},
     "output_type": "display_data"
    },
    {
     "data": {
      "text/html": [
       "<pre style=\"white-space:pre;overflow-x:auto;line-height:normal;font-family:Menlo,'DejaVu Sans Mono',consolas,'Courier New',monospace\"></pre>\n"
      ],
      "text/plain": []
     },
     "metadata": {},
     "output_type": "display_data"
    },
    {
     "data": {
      "text/html": [
       "<pre style=\"white-space:pre;overflow-x:auto;line-height:normal;font-family:Menlo,'DejaVu Sans Mono',consolas,'Courier New',monospace\">\n",
       "</pre>\n"
      ],
      "text/plain": [
       "\n"
      ]
     },
     "metadata": {},
     "output_type": "display_data"
    }
   ],
   "source": [
    "# download position history file\n",
    "cont_finder.get_poshist('./', verbose=True)"
   ]
  },
  {
   "cell_type": "markdown",
   "id": "dd55669d-dea6-411c-9416-f6c8073df0ea",
   "metadata": {},
   "source": [
    "### Searching the GBM Catalogs"
   ]
  },
  {
   "cell_type": "markdown",
   "id": "973cb237-72d3-48fb-b820-b3baa3b6f5a8",
   "metadata": {},
   "source": [
    "The HEASARC hosts two main GBM catalogs: a Trigger Catalog that contains information about every GBM trigger, and a Burst Catalog that contains standard analysis of every triggered GRB. HEASARC provides a way to search these catalogs online through their Browse interface, but we offer a way to do it in Python through the Data Tools.\n",
    "\n",
    "Let’s look at the trigger catalog first:"
   ]
  },
  {
   "cell_type": "code",
   "execution_count": 13,
   "id": "9e9f0aa5-b7b5-451c-a976-5222c80143da",
   "metadata": {},
   "outputs": [
    {
     "name": "stdout",
     "output_type": "stream",
     "text": [
      "Sending request and awaiting response from HEASARC...\n",
      "Downloading fermigtrig from HEASARC via w3query.pl...\n",
      "Finished in 8 s\n"
     ]
    },
    {
     "data": {
      "text/plain": [
       "10343"
      ]
     },
     "execution_count": 13,
     "metadata": {},
     "output_type": "execute_result"
    }
   ],
   "source": [
    "from gdt.missions.fermi.gbm.catalogs import TriggerCatalog\n",
    "\n",
    "# initialize trigger catalog and list number of rows\n",
    "trigcat = TriggerCatalog()\n",
    "trigcat.num_rows"
   ]
  },
  {
   "cell_type": "markdown",
   "id": "757615c1-d642-43be-b89b-135fc533dcde",
   "metadata": {},
   "source": [
    "Depending on your connection, initialization may take a few seconds. You can see what columns are available in the catalog like so:"
   ]
  },
  {
   "cell_type": "code",
   "execution_count": 14,
   "id": "e784e7de-5ae1-4660-b703-a00e719d7a0c",
   "metadata": {},
   "outputs": [
    {
     "data": {
      "text/plain": [
       "('VERSION',\n",
       " 'TRIGGER_NAME',\n",
       " 'NAME',\n",
       " 'RA',\n",
       " 'DEC',\n",
       " 'TRIGGER_TIME',\n",
       " 'TRIGGER_TYPE',\n",
       " 'RELIABILITY',\n",
       " 'ADC_HIGH',\n",
       " 'ADC_LOW',\n",
       " 'BII',\n",
       " 'CHANNEL_HIGH',\n",
       " 'CHANNEL_LOW',\n",
       " 'DEC_SCX',\n",
       " 'DEC_SCZ',\n",
       " 'DETECTOR_MASK',\n",
       " 'END_TIME',\n",
       " 'ERROR_RADIUS',\n",
       " 'GEO_LAT',\n",
       " 'GEO_LONG',\n",
       " 'LII',\n",
       " 'LOCALIZATION_SOURCE',\n",
       " 'PHI',\n",
       " 'RA_SCX',\n",
       " 'RA_SCZ',\n",
       " 'THETA',\n",
       " 'TIME',\n",
       " 'TRIGGER_ALGORITHM',\n",
       " 'TRIGGER_TIMESCALE')"
      ]
     },
     "execution_count": 14,
     "metadata": {},
     "output_type": "execute_result"
    }
   ],
   "source": [
    "# list columns in the trigger catalog\n",
    "trigcat.columns"
   ]
  },
  {
   "cell_type": "markdown",
   "id": "f593f278-8dc5-4860-87db-67fb86aaf825",
   "metadata": {},
   "source": [
    "You can also return the range of values for a given column."
   ]
  },
  {
   "cell_type": "code",
   "execution_count": 15,
   "id": "d5440430-726c-4054-a673-32387a369bf1",
   "metadata": {},
   "outputs": [
    {
     "data": {
      "text/plain": [
       "(0.0, 93.54)"
      ]
     },
     "execution_count": 15,
     "metadata": {},
     "output_type": "execute_result"
    }
   ],
   "source": [
    "# display range of values in the error radius column\n",
    "# error_radius is the statistical localization radius in degrees\n",
    "trigcat.column_range('error_radius')"
   ]
  },
  {
   "cell_type": "markdown",
   "id": "101846d3-5c3e-40e5-afbe-42644998836b",
   "metadata": {},
   "source": [
    "If you only care about specific columns in the table, you can return a numpy record array with only those columns. Let’s return a table with the trigger name and time for every trigger using the `get_table()` function:"
   ]
  },
  {
   "cell_type": "code",
   "execution_count": 16,
   "id": "9fb78d40-4198-4039-acb6-c47eba33041e",
   "metadata": {},
   "outputs": [
    {
     "data": {
      "text/plain": [
       "rec.array([('bn240612910', 60473.90972925),\n",
       "           ('bn120403857', 56020.856927  ),\n",
       "           ('bn140912846', 56912.8458758 ), ...,\n",
       "           ('bn110201399', 55593.39942421),\n",
       "           ('bn150705660', 57208.65994033),\n",
       "           ('bn220403863', 59672.86295194)],\n",
       "          dtype=[('TRIGGER_NAME', '<U11'), ('TRIGGER_TIME', '<f8')])"
      ]
     },
     "execution_count": 16,
     "metadata": {},
     "output_type": "execute_result"
    }
   ],
   "source": [
    "# return table with only trigger name and trigger time columns\n",
    "trigcat.get_table(columns=('trigger_name', 'trigger_time'))"
   ]
  },
  {
   "cell_type": "markdown",
   "id": "2fdfebef-6f47-44b7-a0c3-8b94195e4bfe",
   "metadata": {},
   "source": [
    "Importantly, we can make slices of the catalog based on conditionals  using the `slice()` function. Let’s only select triggers with localization radii between 1.1 and 10 degrees:"
   ]
  },
  {
   "cell_type": "code",
   "execution_count": 17,
   "id": "a57adf93-4439-40ec-b7c8-ae012fd63269",
   "metadata": {},
   "outputs": [
    {
     "data": {
      "text/plain": [
       "2973"
      ]
     },
     "execution_count": 17,
     "metadata": {},
     "output_type": "execute_result"
    }
   ],
   "source": [
    "# select only triggers with error radius between 1.1 and 10 degrees and show how many rows are in the result\n",
    "sliced_trigcat = trigcat.slice('error_radius', lo=1.1, hi=10.0)\n",
    "sliced_trigcat.num_rows"
   ]
  },
  {
   "cell_type": "code",
   "execution_count": 18,
   "id": "4adfd8a3-dd99-4a4e-a9b8-9a103e3d97a7",
   "metadata": {},
   "outputs": [
    {
     "data": {
      "text/plain": [
       "rec.array([('bn120227725', 55984.72547517),\n",
       "           ('bn230524357', 60088.35730917),\n",
       "           ('bn141205018', 56996.01770616), ...,\n",
       "           ('bn091012783', 55116.78267095),\n",
       "           ('bn180304259', 58181.2588804 ),\n",
       "           ('bn220810258', 59801.25834706)],\n",
       "          dtype=[('TRIGGER_NAME', '<U11'), ('TRIGGER_TIME', '<f8')])"
      ]
     },
     "execution_count": 18,
     "metadata": {},
     "output_type": "execute_result"
    }
   ],
   "source": [
    "# return new table of sliced data\n",
    "sliced_trigcat.get_table(columns=('trigger_name', 'trigger_time'))"
   ]
  },
  {
   "cell_type": "markdown",
   "id": "73f6069f-4e4f-4386-924e-81e97d50f6e6",
   "metadata": {},
   "source": [
    "You can also slice on multiple conditionals, simultaneously using the `slices()` function. Let's now select everything that has a localization radius between 1.1-10 degrees, *and* a trigger timescale of 64 ms:"
   ]
  },
  {
   "cell_type": "code",
   "execution_count": 19,
   "id": "7a2fdf6a-6ecd-4c1b-adea-ce1ee3f98874",
   "metadata": {},
   "outputs": [
    {
     "data": {
      "text/plain": [
       "<TriggerCatalog: 29 columns, 294 rows>"
      ]
     },
     "execution_count": 19,
     "metadata": {},
     "output_type": "execute_result"
    }
   ],
   "source": [
    "# perform a row slice based on multiple conditionals that can span more than one column\n",
    "sliced_trigcat2 = trigcat.slices([('error_radius', 1.1, 10.0), ('trigger_timescale', 64, 64)])\n",
    "sliced_trigcat2"
   ]
  },
  {
   "cell_type": "code",
   "execution_count": 20,
   "id": "6e281120-cad2-4119-8398-77bb696babee",
   "metadata": {},
   "outputs": [
    {
     "data": {
      "text/plain": [
       "rec.array([('bn101116481', 55516.48086501, 7.26  ),\n",
       "           ('bn240512200', 60442.20050117, 3.4833),\n",
       "           ('bn210919653', 59476.65268469, 9.16  ),\n",
       "           ('bn110819665', 55792.66521958, 3.19  ),\n",
       "           ('bn170121067', 57774.06728751, 4.07  ),\n",
       "           ('bn151221690', 57377.69028729, 3.6   ),\n",
       "           ('bn190304818', 58546.81763128, 2.65  ),\n",
       "           ('bn121116459', 56247.45861806, 6.98  ),\n",
       "           ('bn110517453', 55698.45318761, 8.97  ),\n",
       "           ('bn090922605', 55096.60464732, 3.34  ),\n",
       "           ('bn140616165', 56824.16464274, 7.    ),\n",
       "           ('bn130505955', 56417.95504563, 1.5   ),\n",
       "           ('bn170908192', 58004.1923034 , 5.15  ),\n",
       "           ('bn090819607', 55062.60726236, 3.29  ),\n",
       "           ('bn190420981', 58593.98084451, 2.04  ),\n",
       "           ('bn090924625', 55098.62493069, 7.12  ),\n",
       "           ('bn120921877', 56191.87712701, 3.2   ),\n",
       "           ('bn101213849', 55543.84891512, 7.06  ),\n",
       "           ('bn110521478', 55702.47845929, 1.31  ),\n",
       "           ('bn180625941', 58294.94076052, 6.4   ),\n",
       "           ('bn110929187', 55833.1867313 , 4.03  ),\n",
       "           ('bn120119229', 55945.22903945, 2.    ),\n",
       "           ('bn100405624', 55291.6243777 , 6.95  ),\n",
       "           ('bn210727410', 59422.41026314, 1.8   ),\n",
       "           ('bn100916779', 55455.77861682, 3.48  ),\n",
       "           ('bn140918038', 56918.03774108, 5.36  ),\n",
       "           ('bn120210650', 55967.64980649, 5.51  ),\n",
       "           ('bn110801335', 55774.33452645, 7.3   ),\n",
       "           ('bn220725563', 59785.56337403, 5.8   ),\n",
       "           ('bn200714344', 59044.34404993, 2.17  ),\n",
       "           ('bn200623752', 59023.75195548, 2.37  ),\n",
       "           ('bn231203293', 60281.29271727, 3.73  ),\n",
       "           ('bn200130417', 58878.41662815, 3.5   ),\n",
       "           ('bn230204130', 59979.12951869, 8.98  ),\n",
       "           ('bn220403928', 59672.92831596, 5.34  ),\n",
       "           ('bn130623105', 56466.10531052, 9.45  ),\n",
       "           ('bn230116205', 59960.20456353, 2.06  ),\n",
       "           ('bn210425182', 59329.18161179, 4.61  ),\n",
       "           ('bn120212353', 55969.35263414, 7.47  ),\n",
       "           ('bn240511109', 60441.10884101, 1.33  ),\n",
       "           ('bn150418819', 57130.81909053, 9.17  ),\n",
       "           ('bn090623107', 55005.10714771, 2.03  ),\n",
       "           ('bn191221802', 58838.80172273, 5.86  ),\n",
       "           ('bn150324164', 57105.16401531, 4.19  ),\n",
       "           ('bn150228845', 57081.8446541 , 2.03  ),\n",
       "           ('bn150923429', 57288.42937412, 6.37  ),\n",
       "           ('bn170802638', 57967.63778705, 2.05  ),\n",
       "           ('bn140619490', 56827.49029551, 4.29  ),\n",
       "           ('bn090316311', 54906.31090795, 9.3   ),\n",
       "           ('bn140710537', 56848.53686939, 6.45  ),\n",
       "           ('bn110205164', 55597.1642496 , 7.3333),\n",
       "           ('bn200919400', 59111.39957517, 7.18  ),\n",
       "           ('bn200914534', 59106.53368095, 1.76  ),\n",
       "           ('bn190810675', 58705.67501438, 8.02  ),\n",
       "           ('bn131216081', 56642.08092665, 2.24  ),\n",
       "           ('bn130614997', 56457.997335  , 1.22  ),\n",
       "           ('bn211116586', 59534.58603412, 2.01  ),\n",
       "           ('bn111022854', 55856.85374657, 9.32  ),\n",
       "           ('bn120811014', 56150.01423944, 1.4   ),\n",
       "           ('bn130701761', 56474.76077214, 1.68  ),\n",
       "           ('bn111221739', 55916.738551  , 1.92  ),\n",
       "           ('bn100517072', 55333.07162162, 3.84  ),\n",
       "           ('bn121029350', 56229.35023071, 1.65  ),\n",
       "           ('bn210519807', 59353.80699007, 3.71  ),\n",
       "           ('bn180402481', 58210.48069012, 7.7   ),\n",
       "           ('bn240602419', 60463.4188328 , 3.68  ),\n",
       "           ('bn110509475', 55690.47518032, 8.3   ),\n",
       "           ('bn210502295', 59336.2953459 , 4.13  ),\n",
       "           ('bn120608489', 56086.48879434, 2.52  ),\n",
       "           ('bn110107970', 55568.96977347, 8.06  ),\n",
       "           ('bn131021352', 56586.35191494, 6.39  ),\n",
       "           ('bn110725236', 55767.23590346, 9.06  ),\n",
       "           ('bn090909854', 55083.85408263, 8.32  ),\n",
       "           ('bn151202565', 57358.56515982, 7.94  ),\n",
       "           ('bn220120246', 59599.24584592, 5.2   ),\n",
       "           ('bn201121419', 59174.41856539, 5.22  ),\n",
       "           ('bn230224624', 59999.62354432, 5.2   ),\n",
       "           ('bn221112751', 59895.75145522, 5.5333),\n",
       "           ('bn221218046', 59931.04630488, 6.9   ),\n",
       "           ('bn150604434', 57177.4338403 , 4.45  ),\n",
       "           ('bn210818917', 59444.9171413 , 7.67  ),\n",
       "           ('bn100107074', 55203.07397991, 5.97  ),\n",
       "           ('bn170505406', 57878.40605993, 5.41  ),\n",
       "           ('bn230228885', 60003.8847383 , 1.34  ),\n",
       "           ('bn160605847', 57544.84687226, 4.95  ),\n",
       "           ('bn080723913', 54670.91346132, 9.9   ),\n",
       "           ('bn180417689', 58225.68941729, 8.05  ),\n",
       "           ('bn240603102', 60464.10247089, 3.06  ),\n",
       "           ('bn181215110', 58467.11016305, 3.63  ),\n",
       "           ('bn171219279', 58106.27936434, 8.68  ),\n",
       "           ('bn101129652', 55529.65244974, 4.64  ),\n",
       "           ('bn080817720', 54695.72022591, 5.7   ),\n",
       "           ('bn121119579', 56250.57863581, 8.13  ),\n",
       "           ('bn110526715', 55707.71460427, 5.84  ),\n",
       "           ('bn210528586', 59362.58595096, 1.9   ),\n",
       "           ('bn120831901', 56170.90106336, 8.54  ),\n",
       "           ('bn090516853', 54967.85324128, 3.5   ),\n",
       "           ('bn091020977', 55124.9767876 , 2.17  ),\n",
       "           ('bn221223997', 59936.99730045, 8.19  ),\n",
       "           ('bn180801276', 58331.27573512, 8.83  ),\n",
       "           ('bn170915520', 58011.51963271, 5.79  ),\n",
       "           ('bn221221915', 59934.91509014, 6.62  ),\n",
       "           ('bn120402669', 56019.66945322, 2.61  ),\n",
       "           ('bn100517154', 55333.1542599 , 4.21  ),\n",
       "           ('bn190226515', 58540.51511199, 5.11  ),\n",
       "           ('bn211011808', 59498.80809976, 9.15  ),\n",
       "           ('bn150127398', 57049.39773306, 2.78  ),\n",
       "           ('bn130913757', 56548.75701335, 7.62  ),\n",
       "           ('bn190407788', 58580.78798122, 2.66  ),\n",
       "           ('bn191130507', 58817.50665393, 2.19  ),\n",
       "           ('bn160804968', 57604.96775255, 6.13  ),\n",
       "           ('bn120604220', 56082.21980685, 9.34  ),\n",
       "           ('bn200703341', 59033.34143068, 8.92  ),\n",
       "           ('bn101104810', 55504.80988485, 8.53  ),\n",
       "           ('bn080816989', 54694.98882743, 5.3   ),\n",
       "           ('bn110807970', 55780.96973278, 6.29  ),\n",
       "           ('bn180227211', 58176.21130278, 6.88  ),\n",
       "           ('bn201109105', 59162.10492816, 3.27  ),\n",
       "           ('bn190319353', 58561.35298049, 3.26  ),\n",
       "           ('bn101016243', 55485.24324158, 2.81  ),\n",
       "           ('bn121023322', 56223.32241835, 4.76  ),\n",
       "           ('bn200327873', 58935.87277969, 3.6   ),\n",
       "           ('bn130518551', 56430.55079414, 2.7   ),\n",
       "           ('bn240305928', 60374.92820081, 9.14  ),\n",
       "           ('bn110824009', 55797.00914284, 1.68  ),\n",
       "           ('bn220417939', 59686.93864751, 5.8667),\n",
       "           ('bn090331681', 54921.6807915 , 9.3   ),\n",
       "           ('bn231206789', 60284.78932406, 8.34  ),\n",
       "           ('bn120415891', 56032.89144706, 6.88  ),\n",
       "           ('bn230725439', 60150.43947777, 4.5   ),\n",
       "           ('bn190525032', 58628.03180152, 4.04  ),\n",
       "           ('bn140406120', 56753.11960368, 2.6   ),\n",
       "           ('bn090429753', 54950.75274898, 4.62  ),\n",
       "           ('bn210715866', 59410.86563203, 9.07  ),\n",
       "           ('bn170726794', 57960.79374972, 3.45  ),\n",
       "           ('bn170908509', 58004.50880257, 6.3167),\n",
       "           ('bn200920831', 59112.83124503, 6.26  ),\n",
       "           ('bn090807832', 55050.83193307, 2.57  ),\n",
       "           ('bn200301320', 58909.31998096, 2.47  ),\n",
       "           ('bn180607151', 58276.15134092, 1.25  ),\n",
       "           ('bn210828211', 59454.21110106, 5.55  ),\n",
       "           ('bn080725541', 54672.54124725, 3.5   ),\n",
       "           ('bn220423354', 59692.35419847, 7.27  ),\n",
       "           ('bn150623390', 57196.38956938, 6.6333),\n",
       "           ('bn220827173', 59818.17315897, 6.6167),\n",
       "           ('bn170124528', 57777.52811379, 3.83  ),\n",
       "           ('bn171022885', 58048.88496261, 2.53  ),\n",
       "           ('bn220117069', 59596.06918125, 6.07  ),\n",
       "           ('bn150210935', 57063.93500327, 2.2   ),\n",
       "           ('bn180620354', 58289.35374188, 3.91  ),\n",
       "           ('bn210619532', 59384.53175613, 1.62  ),\n",
       "           ('bn220112188', 59591.18842675, 6.56  ),\n",
       "           ('bn100612545', 55359.54469509, 2.69  ),\n",
       "           ('bn170121133', 57774.13254658, 9.08  ),\n",
       "           ('bn220112238', 59591.23809654, 3.47  ),\n",
       "           ('bn240702885', 60493.8853105 , 4.14  ),\n",
       "           ('bn220430228', 59699.22798436, 4.1833),\n",
       "           ('bn111228453', 55923.4533625 , 3.57  ),\n",
       "           ('bn121012724', 56212.72380077, 6.78  ),\n",
       "           ('bn110307972', 55627.97162335, 7.58  ),\n",
       "           ('bn210706160', 59401.15983502, 4.83  ),\n",
       "           ('bn100811108', 55419.10821022, 6.04  ),\n",
       "           ('bn160724444', 57593.44447517, 1.21  ),\n",
       "           ('bn170422343', 57865.34299332, 1.21  ),\n",
       "           ('bn240619155', 60480.15521995, 1.61  ),\n",
       "           ('bn210509579', 59343.57894003, 4.9167),\n",
       "           ('bn220111765', 59590.76467314, 1.57  ),\n",
       "           ('bn221014499', 59866.49907685, 4.04  ),\n",
       "           ('bn221118515', 59901.51477044, 6.29  ),\n",
       "           ('bn210822729', 59448.7294501 , 4.75  ),\n",
       "           ('bn141213300', 57004.30017858, 8.72  ),\n",
       "           ('bn220110664', 59589.66363799, 2.59  ),\n",
       "           ('bn221005649', 59857.64937787, 3.87  ),\n",
       "           ('bn220109395', 59588.39459245, 2.82  ),\n",
       "           ('bn100717446', 55394.44568424, 9.19  ),\n",
       "           ('bn221108826', 59891.82557752, 4.73  ),\n",
       "           ('bn141118678', 56979.67766563, 2.19  ),\n",
       "           ('bn180206203', 58155.20281252, 7.63  ),\n",
       "           ('bn140917512', 56917.51187982, 6.18  ),\n",
       "           ('bn220114486', 59593.48591049, 2.81  ),\n",
       "           ('bn090907808', 55081.80818836, 4.09  ),\n",
       "           ('bn191104651', 58791.65055145, 3.7   ),\n",
       "           ('bn120519721', 56066.7210066 , 2.69  ),\n",
       "           ('bn240205852', 60345.85174436, 6.01  ),\n",
       "           ('bn220117061', 59596.06056415, 8.74  ),\n",
       "           ('bn081102365', 54772.36458919, 8.6   ),\n",
       "           ('bn170412988', 57855.98814444, 2.88  ),\n",
       "           ('bn210429658', 59333.65790991, 1.97  ),\n",
       "           ('bn130307126', 56358.12620916, 1.5   ),\n",
       "           ('bn220421346', 59690.34576999, 2.09  ),\n",
       "           ('bn220112044', 59591.04429205, 3.57  ),\n",
       "           ('bn201122701', 59175.70087932, 1.68  ),\n",
       "           ('bn221014163', 59866.16295234, 2.5   ),\n",
       "           ('bn221013304', 59865.30424938, 4.04  ),\n",
       "           ('bn180113011', 58131.01111656, 1.1   ),\n",
       "           ('bn201122624', 59175.62370274, 3.6   ),\n",
       "           ('bn220528259', 59727.2588821 , 4.91  ),\n",
       "           ('bn221014487', 59866.48749687, 3.81  ),\n",
       "           ('bn221014437', 59866.43657256, 5.35  ),\n",
       "           ('bn220927869', 59849.86885508, 5.73  ),\n",
       "           ('bn220610906', 59740.90598299, 8.25  ),\n",
       "           ('bn221013334', 59865.33375569, 5.23  ),\n",
       "           ('bn160820496', 57620.49595655, 2.3   ),\n",
       "           ('bn220114558', 59593.55770639, 5.34  ),\n",
       "           ('bn131217183', 56643.18296366, 3.12  ),\n",
       "           ('bn221013391', 59865.39148354, 5.14  ),\n",
       "           ('bn221014238', 59866.23767899, 4.66  ),\n",
       "           ('bn231106759', 60254.75929855, 3.41  ),\n",
       "           ('bn220616162', 59746.16151834, 5.85  ),\n",
       "           ('bn190517813', 58620.81261774, 1.2   ),\n",
       "           ('bn201118405', 59171.40542181, 2.69  ),\n",
       "           ('bn220501478', 59700.47779101, 9.83  ),\n",
       "           ('bn140807500', 56876.4996931 , 2.53  ),\n",
       "           ('bn120222021', 55979.02055706, 2.76  ),\n",
       "           ('bn110401920', 55652.91967168, 3.76  ),\n",
       "           ('bn201119343', 59172.34251748, 2.    ),\n",
       "           ('bn201124634', 59177.63392778, 3.75  ),\n",
       "           ('bn220109540', 59588.53983777, 7.25  ),\n",
       "           ('bn080730786', 54677.78585858, 2.1   ),\n",
       "           ('bn141105406', 56966.406102  , 4.1   ),\n",
       "           ('bn221213290', 59926.28970586, 3.4333),\n",
       "           ('bn170714049', 57948.04920281, 5.35  ),\n",
       "           ('bn191027638', 58783.63828229, 2.62  ),\n",
       "           ('bn130612456', 56455.45641931, 1.79  ),\n",
       "           ('bn201122721', 59175.72058729, 1.48  ),\n",
       "           ('bn110706728', 55748.72773548, 4.11  ),\n",
       "           ('bn100212550', 55239.54983182, 1.38  ),\n",
       "           ('bn120217904', 55974.90414084, 1.5   ),\n",
       "           ('bn190504678', 58607.67810548, 7.65  ),\n",
       "           ('bn190510430', 58613.4300468 , 3.54  ),\n",
       "           ('bn100805300', 55413.30014441, 7.65  ),\n",
       "           ('bn181122381', 58444.38128541, 4.16  ),\n",
       "           ('bn160721806', 57590.80623391, 3.3   ),\n",
       "           ('bn200826187', 59087.18741401, 1.74  ),\n",
       "           ('bn151222340', 57378.34043546, 2.89  ),\n",
       "           ('bn160818230', 57618.22978637, 7.76  ),\n",
       "           ('bn181121401', 58443.40068629, 8.    ),\n",
       "           ('bn210903077', 59460.07659015, 5.38  ),\n",
       "           ('bn220211047', 59621.04709349, 8.66  ),\n",
       "           ('bn200313456', 58921.45639039, 5.27  ),\n",
       "           ('bn170604603', 57908.60283665, 4.1   ),\n",
       "           ('bn080802386', 54680.38553851, 4.1   ),\n",
       "           ('bn100525744', 55341.7440403 , 3.55  ),\n",
       "           ('bn230919707', 60206.70722057, 6.74  ),\n",
       "           ('bn230621990', 60116.98987068, 4.54  ),\n",
       "           ('bn190720613', 58684.61261324, 1.16  ),\n",
       "           ('bn150623397', 57196.39657246, 6.2167),\n",
       "           ('bn230701948', 60126.94767502, 2.89  ),\n",
       "           ('bn180913783', 58374.7834206 , 6.73  ),\n",
       "           ('bn180730018', 58329.01782805, 8.29  ),\n",
       "           ('bn240525491', 60455.49141261, 8.29  ),\n",
       "           ('bn180626392', 58295.39155843, 8.21  ),\n",
       "           ('bn081130212', 54800.2115824 , 7.2   ),\n",
       "           ('bn171126235', 58083.23522811, 3.29  ),\n",
       "           ('bn100328141', 55283.14079404, 4.82  ),\n",
       "           ('bn090529564', 54980.56389453, 1.5   ),\n",
       "           ('bn120118898', 55944.89775238, 7.17  ),\n",
       "           ('bn110710954', 55752.95405784, 3.87  ),\n",
       "           ('bn220912035', 59834.03497137, 3.58  ),\n",
       "           ('bn140105065', 56662.06459507, 6.07  ),\n",
       "           ('bn170718229', 57952.22866356, 7.9833),\n",
       "           ('bn171207055', 58094.05465801, 9.54  ),\n",
       "           ('bn170506169', 57879.16861344, 9.69  ),\n",
       "           ('bn080723339', 54670.33931306, 5.5667),\n",
       "           ('bn180201780', 58150.7803877 , 9.21  ),\n",
       "           ('bn120101354', 55927.35424662, 8.77  ),\n",
       "           ('bn220507423', 59706.42298317, 3.67  ),\n",
       "           ('bn190601325', 58635.32458537, 8.28  ),\n",
       "           ('bn231204833', 60282.83337963, 2.37  ),\n",
       "           ('bn120308588', 55994.58756682, 1.19  ),\n",
       "           ('bn200830413', 59091.412714  , 7.19  ),\n",
       "           ('bn221206586', 59919.58639135, 6.21  ),\n",
       "           ('bn081229187', 54829.18682732, 8.8   ),\n",
       "           ('bn231017337', 60234.33684369, 5.66  ),\n",
       "           ('bn161115745', 57707.74481047, 8.44  ),\n",
       "           ('bn090814368', 55057.36783822, 5.53  ),\n",
       "           ('bn090219074', 54881.07382117, 5.2   ),\n",
       "           ('bn100714686', 55391.68564905, 9.69  ),\n",
       "           ('bn220418661', 59687.66109813, 7.77  ),\n",
       "           ('bn150128624', 57050.62424194, 9.09  ),\n",
       "           ('bn170111815', 57764.81529382, 6.71  ),\n",
       "           ('bn150228213', 57081.21314385, 5.45  ),\n",
       "           ('bn111012811', 55846.81086919, 1.71  ),\n",
       "           ('bn120915000', 56185.00048192, 5.87  ),\n",
       "           ('bn110529034', 55710.03382953, 1.5   ),\n",
       "           ('bn211118985', 59536.98489105, 2.68  ),\n",
       "           ('bn220323507', 59661.50707832, 9.93  ),\n",
       "           ('bn100827455', 55435.4554321 , 5.68  ),\n",
       "           ('bn090305052', 54895.0518024 , 5.4   ),\n",
       "           ('bn210516982', 59350.98248261, 9.52  ),\n",
       "           ('bn181225786', 58477.78643693, 6.61  ),\n",
       "           ('bn190118937', 58501.93738348, 3.42  ),\n",
       "           ('bn220512211', 59711.2110552 , 1.68  ),\n",
       "           ('bn091012783', 55116.78267095, 2.45  )],\n",
       "          dtype=[('TRIGGER_NAME', '<U11'), ('TRIGGER_TIME', '<f8'), ('ERROR_RADIUS', '<f8')])"
      ]
     },
     "execution_count": 20,
     "metadata": {},
     "output_type": "execute_result"
    }
   ],
   "source": [
    "# return new table of sliced data\n",
    "sliced_trigcat2.get_table(columns=('trigger_name', 'trigger_time', 'error_radius'))"
   ]
  },
  {
   "cell_type": "markdown",
   "id": "711c93b1-d672-4b4e-8249-0fb471d85956",
   "metadata": {},
   "source": [
    "You’ll notice in the table listing that there are multiple datatypes.\n",
    "\n",
    "We can also connect to the burst catalog in the same way we connected to the trigger catalog:"
   ]
  },
  {
   "cell_type": "code",
   "execution_count": 21,
   "id": "35bb7bbc-820b-41b0-8bca-257b1a9c3736",
   "metadata": {},
   "outputs": [
    {
     "name": "stdout",
     "output_type": "stream",
     "text": [
      "Sending request and awaiting response from HEASARC...\n",
      "Downloading fermigbrst from HEASARC via w3query.pl...\n",
      "Finished in 72 s\n"
     ]
    },
    {
     "data": {
      "text/plain": [
       "3811"
      ]
     },
     "execution_count": 21,
     "metadata": {},
     "output_type": "execute_result"
    }
   ],
   "source": [
    "from gdt.missions.fermi.gbm.catalogs import BurstCatalog\n",
    "\n",
    "# initialize burst catalog and list number of rows\n",
    "burstcat = BurstCatalog()\n",
    "burstcat.num_rows"
   ]
  },
  {
   "cell_type": "markdown",
   "id": "726442e9-3c88-4901-b7fc-70ac18e381e6",
   "metadata": {},
   "source": [
    "Again, this may take several seconds, largely because of how the HEASARC perl API works. One word about the Burst Catalog before you get overwhelmed: it has a lot of columns. Basically every parameter for every standard spectral model that is fit, for both a time-integrated spectrum and the spectrum at the peak flux. There is also T90, T50, flux, and fluence information on different timescales and energy ranges. All in all, there are 306 different columns. "
   ]
  },
  {
   "cell_type": "code",
   "execution_count": 22,
   "id": "4a21ac99-9a68-4caa-a488-707525aa143e",
   "metadata": {},
   "outputs": [
    {
     "data": {
      "text/plain": [
       "('NAME',\n",
       " 'RA',\n",
       " 'DEC',\n",
       " 'TRIGGER_TIME',\n",
       " 'T90',\n",
       " 'T90_ERROR',\n",
       " 'T90_START',\n",
       " 'FLUENCE',\n",
       " 'FLUENCE_ERROR',\n",
       " 'FLUX_1024',\n",
       " 'FLUX_1024_ERROR',\n",
       " 'FLUX_1024_TIME',\n",
       " 'FLUX_64',\n",
       " 'FLUX_64_ERROR',\n",
       " 'FLNC_BAND_AMPL',\n",
       " 'FLNC_BAND_AMPL_POS_ERR',\n",
       " 'FLNC_BAND_AMPL_NEG_ERR',\n",
       " 'FLNC_BAND_EPEAK',\n",
       " 'FLNC_BAND_EPEAK_POS_ERR',\n",
       " 'FLNC_BAND_EPEAK_NEG_ERR',\n",
       " 'FLNC_BAND_ALPHA',\n",
       " 'FLNC_BAND_ALPHA_POS_ERR',\n",
       " 'FLNC_BAND_ALPHA_NEG_ERR',\n",
       " 'FLNC_BAND_BETA',\n",
       " 'FLNC_BAND_BETA_POS_ERR',\n",
       " 'FLNC_BAND_BETA_NEG_ERR',\n",
       " 'FLNC_SPECTRUM_START',\n",
       " 'FLNC_SPECTRUM_STOP',\n",
       " 'PFLX_BEST_FITTING_MODEL',\n",
       " 'PFLX_BEST_MODEL_REDCHISQ',\n",
       " 'FLNC_BEST_FITTING_MODEL',\n",
       " 'FLNC_BEST_MODEL_REDCHISQ',\n",
       " 'ACTUAL_1024MS_INTERVAL',\n",
       " 'ACTUAL_256MS_INTERVAL',\n",
       " 'ACTUAL_64MS_INTERVAL',\n",
       " 'BACK_INTERVAL_HIGH_START',\n",
       " 'BACK_INTERVAL_HIGH_STOP',\n",
       " 'BACK_INTERVAL_LOW_START',\n",
       " 'BACK_INTERVAL_LOW_STOP',\n",
       " 'BCAT_DETECTOR_MASK',\n",
       " 'BCATALOG',\n",
       " 'BII',\n",
       " 'DURATION_ENERGY_HIGH',\n",
       " 'DURATION_ENERGY_LOW',\n",
       " 'ERROR_RADIUS',\n",
       " 'FLNC_BAND_DOF',\n",
       " 'FLNC_BAND_ERGFLNC',\n",
       " 'FLNC_BAND_ERGFLNC_ERROR',\n",
       " 'FLNC_BAND_ERGFLNCB',\n",
       " 'FLNC_BAND_ERGFLNCB_ERROR',\n",
       " 'FLNC_BAND_ERGFLUX',\n",
       " 'FLNC_BAND_ERGFLUX_ERROR',\n",
       " 'FLNC_BAND_PHTFLNC',\n",
       " 'FLNC_BAND_PHTFLNC_ERROR',\n",
       " 'FLNC_BAND_PHTFLNCB',\n",
       " 'FLNC_BAND_PHTFLNCB_ERROR',\n",
       " 'FLNC_BAND_PHTFLUX',\n",
       " 'FLNC_BAND_PHTFLUX_ERROR',\n",
       " 'FLNC_BAND_PHTFLUXB',\n",
       " 'FLNC_BAND_PHTFLUXB_ERROR',\n",
       " 'FLNC_BAND_REDCHISQ',\n",
       " 'FLNC_BAND_REDFITSTAT',\n",
       " 'FLNC_BAND_STATISTIC',\n",
       " 'FLNC_COMP_AMPL',\n",
       " 'FLNC_COMP_AMPL_NEG_ERR',\n",
       " 'FLNC_COMP_AMPL_POS_ERR',\n",
       " 'FLNC_COMP_DOF',\n",
       " 'FLNC_COMP_EPEAK',\n",
       " 'FLNC_COMP_EPEAK_NEG_ERR',\n",
       " 'FLNC_COMP_EPEAK_POS_ERR',\n",
       " 'FLNC_COMP_ERGFLNC',\n",
       " 'FLNC_COMP_ERGFLNC_ERROR',\n",
       " 'FLNC_COMP_ERGFLNCB',\n",
       " 'FLNC_COMP_ERGFLNCB_ERROR',\n",
       " 'FLNC_COMP_ERGFLUX',\n",
       " 'FLNC_COMP_ERGFLUX_ERROR',\n",
       " 'FLNC_COMP_INDEX',\n",
       " 'FLNC_COMP_INDEX_NEG_ERR',\n",
       " 'FLNC_COMP_INDEX_POS_ERR',\n",
       " 'FLNC_COMP_PHTFLNC',\n",
       " 'FLNC_COMP_PHTFLNC_ERROR',\n",
       " 'FLNC_COMP_PHTFLNCB',\n",
       " 'FLNC_COMP_PHTFLNCB_ERROR',\n",
       " 'FLNC_COMP_PHTFLUX',\n",
       " 'FLNC_COMP_PHTFLUX_ERROR',\n",
       " 'FLNC_COMP_PHTFLUXB',\n",
       " 'FLNC_COMP_PHTFLUXB_ERROR',\n",
       " 'FLNC_COMP_PIVOT',\n",
       " 'FLNC_COMP_PIVOT_NEG_ERR',\n",
       " 'FLNC_COMP_PIVOT_POS_ERR',\n",
       " 'FLNC_COMP_REDCHISQ',\n",
       " 'FLNC_COMP_REDFITSTAT',\n",
       " 'FLNC_COMP_STATISTIC',\n",
       " 'FLNC_PLAW_AMPL',\n",
       " 'FLNC_PLAW_AMPL_NEG_ERR',\n",
       " 'FLNC_PLAW_AMPL_POS_ERR',\n",
       " 'FLNC_PLAW_DOF',\n",
       " 'FLNC_PLAW_ERGFLNC',\n",
       " 'FLNC_PLAW_ERGFLNC_ERROR',\n",
       " 'FLNC_PLAW_ERGFLNCB',\n",
       " 'FLNC_PLAW_ERGFLNCB_ERROR',\n",
       " 'FLNC_PLAW_ERGFLUX',\n",
       " 'FLNC_PLAW_ERGFLUX_ERROR',\n",
       " 'FLNC_PLAW_INDEX',\n",
       " 'FLNC_PLAW_INDEX_NEG_ERR',\n",
       " 'FLNC_PLAW_INDEX_POS_ERR',\n",
       " 'FLNC_PLAW_PHTFLNC',\n",
       " 'FLNC_PLAW_PHTFLNC_ERROR',\n",
       " 'FLNC_PLAW_PHTFLNCB',\n",
       " 'FLNC_PLAW_PHTFLNCB_ERROR',\n",
       " 'FLNC_PLAW_PHTFLUX',\n",
       " 'FLNC_PLAW_PHTFLUX_ERROR',\n",
       " 'FLNC_PLAW_PHTFLUXB',\n",
       " 'FLNC_PLAW_PHTFLUXB_ERROR',\n",
       " 'FLNC_PLAW_PIVOT',\n",
       " 'FLNC_PLAW_PIVOT_NEG_ERR',\n",
       " 'FLNC_PLAW_PIVOT_POS_ERR',\n",
       " 'FLNC_PLAW_REDCHISQ',\n",
       " 'FLNC_PLAW_REDFITSTAT',\n",
       " 'FLNC_PLAW_STATISTIC',\n",
       " 'FLNC_SBPL_AMPL',\n",
       " 'FLNC_SBPL_AMPL_NEG_ERR',\n",
       " 'FLNC_SBPL_AMPL_POS_ERR',\n",
       " 'FLNC_SBPL_BRKEN',\n",
       " 'FLNC_SBPL_BRKEN_NEG_ERR',\n",
       " 'FLNC_SBPL_BRKEN_POS_ERR',\n",
       " 'FLNC_SBPL_BRKSC',\n",
       " 'FLNC_SBPL_BRKSC_NEG_ERR',\n",
       " 'FLNC_SBPL_BRKSC_POS_ERR',\n",
       " 'FLNC_SBPL_DOF',\n",
       " 'FLNC_SBPL_ERGFLNC',\n",
       " 'FLNC_SBPL_ERGFLNC_ERROR',\n",
       " 'FLNC_SBPL_ERGFLNCB',\n",
       " 'FLNC_SBPL_ERGFLNCB_ERROR',\n",
       " 'FLNC_SBPL_ERGFLUX',\n",
       " 'FLNC_SBPL_ERGFLUX_ERROR',\n",
       " 'FLNC_SBPL_INDX1',\n",
       " 'FLNC_SBPL_INDX1_NEG_ERR',\n",
       " 'FLNC_SBPL_INDX1_POS_ERR',\n",
       " 'FLNC_SBPL_INDX2',\n",
       " 'FLNC_SBPL_INDX2_NEG_ERR',\n",
       " 'FLNC_SBPL_INDX2_POS_ERR',\n",
       " 'FLNC_SBPL_PHTFLNC',\n",
       " 'FLNC_SBPL_PHTFLNC_ERROR',\n",
       " 'FLNC_SBPL_PHTFLNCB',\n",
       " 'FLNC_SBPL_PHTFLNCB_ERROR',\n",
       " 'FLNC_SBPL_PHTFLUX',\n",
       " 'FLNC_SBPL_PHTFLUX_ERROR',\n",
       " 'FLNC_SBPL_PHTFLUXB',\n",
       " 'FLNC_SBPL_PHTFLUXB_ERROR',\n",
       " 'FLNC_SBPL_PIVOT',\n",
       " 'FLNC_SBPL_PIVOT_NEG_ERR',\n",
       " 'FLNC_SBPL_PIVOT_POS_ERR',\n",
       " 'FLNC_SBPL_REDCHISQ',\n",
       " 'FLNC_SBPL_REDFITSTAT',\n",
       " 'FLNC_SBPL_STATISTIC',\n",
       " 'FLU_HIGH',\n",
       " 'FLU_LOW',\n",
       " 'FLUENCE_BATSE',\n",
       " 'FLUENCE_BATSE_ERROR',\n",
       " 'FLUX_256',\n",
       " 'FLUX_256_ERROR',\n",
       " 'FLUX_256_TIME',\n",
       " 'FLUX_64_TIME',\n",
       " 'FLUX_BATSE_1024',\n",
       " 'FLUX_BATSE_1024_ERROR',\n",
       " 'FLUX_BATSE_1024_TIME',\n",
       " 'FLUX_BATSE_256',\n",
       " 'FLUX_BATSE_256_ERROR',\n",
       " 'FLUX_BATSE_256_TIME',\n",
       " 'FLUX_BATSE_64',\n",
       " 'FLUX_BATSE_64_ERROR',\n",
       " 'FLUX_BATSE_64_TIME',\n",
       " 'LAST_MODIFIED',\n",
       " 'LII',\n",
       " 'PFLX_BAND_ALPHA',\n",
       " 'PFLX_BAND_ALPHA_NEG_ERR',\n",
       " 'PFLX_BAND_ALPHA_POS_ERR',\n",
       " 'PFLX_BAND_AMPL',\n",
       " 'PFLX_BAND_AMPL_NEG_ERR',\n",
       " 'PFLX_BAND_AMPL_POS_ERR',\n",
       " 'PFLX_BAND_BETA',\n",
       " 'PFLX_BAND_BETA_NEG_ERR',\n",
       " 'PFLX_BAND_BETA_POS_ERR',\n",
       " 'PFLX_BAND_DOF',\n",
       " 'PFLX_BAND_EPEAK',\n",
       " 'PFLX_BAND_EPEAK_NEG_ERR',\n",
       " 'PFLX_BAND_EPEAK_POS_ERR',\n",
       " 'PFLX_BAND_ERGFLNC',\n",
       " 'PFLX_BAND_ERGFLNC_ERROR',\n",
       " 'PFLX_BAND_ERGFLNCB',\n",
       " 'PFLX_BAND_ERGFLNCB_ERROR',\n",
       " 'PFLX_BAND_ERGFLUX',\n",
       " 'PFLX_BAND_ERGFLUX_ERROR',\n",
       " 'PFLX_BAND_PHTFLNC',\n",
       " 'PFLX_BAND_PHTFLNC_ERROR',\n",
       " 'PFLX_BAND_PHTFLNCB',\n",
       " 'PFLX_BAND_PHTFLNCB_ERROR',\n",
       " 'PFLX_BAND_PHTFLUX',\n",
       " 'PFLX_BAND_PHTFLUX_ERROR',\n",
       " 'PFLX_BAND_PHTFLUXB',\n",
       " 'PFLX_BAND_PHTFLUXB_ERROR',\n",
       " 'PFLX_BAND_REDCHISQ',\n",
       " 'PFLX_BAND_REDFITSTAT',\n",
       " 'PFLX_BAND_STATISTIC',\n",
       " 'PFLX_COMP_AMPL',\n",
       " 'PFLX_COMP_AMPL_NEG_ERR',\n",
       " 'PFLX_COMP_AMPL_POS_ERR',\n",
       " 'PFLX_COMP_DOF',\n",
       " 'PFLX_COMP_EPEAK',\n",
       " 'PFLX_COMP_EPEAK_NEG_ERR',\n",
       " 'PFLX_COMP_EPEAK_POS_ERR',\n",
       " 'PFLX_COMP_ERGFLNC',\n",
       " 'PFLX_COMP_ERGFLNC_ERROR',\n",
       " 'PFLX_COMP_ERGFLNCB',\n",
       " 'PFLX_COMP_ERGFLNCB_ERROR',\n",
       " 'PFLX_COMP_ERGFLUX',\n",
       " 'PFLX_COMP_ERGFLUX_ERROR',\n",
       " 'PFLX_COMP_INDEX',\n",
       " 'PFLX_COMP_INDEX_NEG_ERR',\n",
       " 'PFLX_COMP_INDEX_POS_ERR',\n",
       " 'PFLX_COMP_PHTFLNC',\n",
       " 'PFLX_COMP_PHTFLNC_ERROR',\n",
       " 'PFLX_COMP_PHTFLNCB',\n",
       " 'PFLX_COMP_PHTFLNCB_ERROR',\n",
       " 'PFLX_COMP_PHTFLUX',\n",
       " 'PFLX_COMP_PHTFLUX_ERROR',\n",
       " 'PFLX_COMP_PHTFLUXB',\n",
       " 'PFLX_COMP_PHTFLUXB_ERROR',\n",
       " 'PFLX_COMP_PIVOT',\n",
       " 'PFLX_COMP_PIVOT_NEG_ERR',\n",
       " 'PFLX_COMP_PIVOT_POS_ERR',\n",
       " 'PFLX_COMP_REDCHISQ',\n",
       " 'PFLX_COMP_REDFITSTAT',\n",
       " 'PFLX_COMP_STATISTIC',\n",
       " 'PFLX_PLAW_AMPL',\n",
       " 'PFLX_PLAW_AMPL_NEG_ERR',\n",
       " 'PFLX_PLAW_AMPL_POS_ERR',\n",
       " 'PFLX_PLAW_DOF',\n",
       " 'PFLX_PLAW_ERGFLNC',\n",
       " 'PFLX_PLAW_ERGFLNC_ERROR',\n",
       " 'PFLX_PLAW_ERGFLNCB',\n",
       " 'PFLX_PLAW_ERGFLNCB_ERROR',\n",
       " 'PFLX_PLAW_ERGFLUX',\n",
       " 'PFLX_PLAW_ERGFLUX_ERROR',\n",
       " 'PFLX_PLAW_INDEX',\n",
       " 'PFLX_PLAW_INDEX_NEG_ERR',\n",
       " 'PFLX_PLAW_INDEX_POS_ERR',\n",
       " 'PFLX_PLAW_PHTFLNC',\n",
       " 'PFLX_PLAW_PHTFLNC_ERROR',\n",
       " 'PFLX_PLAW_PHTFLNCB',\n",
       " 'PFLX_PLAW_PHTFLNCB_ERROR',\n",
       " 'PFLX_PLAW_PHTFLUX',\n",
       " 'PFLX_PLAW_PHTFLUX_ERROR',\n",
       " 'PFLX_PLAW_PHTFLUXB',\n",
       " 'PFLX_PLAW_PHTFLUXB_ERROR',\n",
       " 'PFLX_PLAW_PIVOT',\n",
       " 'PFLX_PLAW_PIVOT_NEG_ERR',\n",
       " 'PFLX_PLAW_PIVOT_POS_ERR',\n",
       " 'PFLX_PLAW_REDCHISQ',\n",
       " 'PFLX_PLAW_REDFITSTAT',\n",
       " 'PFLX_PLAW_STATISTIC',\n",
       " 'PFLX_SBPL_AMPL',\n",
       " 'PFLX_SBPL_AMPL_NEG_ERR',\n",
       " 'PFLX_SBPL_AMPL_POS_ERR',\n",
       " 'PFLX_SBPL_BRKEN',\n",
       " 'PFLX_SBPL_BRKEN_NEG_ERR',\n",
       " 'PFLX_SBPL_BRKEN_POS_ERR',\n",
       " 'PFLX_SBPL_BRKSC',\n",
       " 'PFLX_SBPL_BRKSC_NEG_ERR',\n",
       " 'PFLX_SBPL_BRKSC_POS_ERR',\n",
       " 'PFLX_SBPL_DOF',\n",
       " 'PFLX_SBPL_ERGFLNC',\n",
       " 'PFLX_SBPL_ERGFLNC_ERROR',\n",
       " 'PFLX_SBPL_ERGFLNCB',\n",
       " 'PFLX_SBPL_ERGFLNCB_ERROR',\n",
       " 'PFLX_SBPL_ERGFLUX',\n",
       " 'PFLX_SBPL_ERGFLUX_ERROR',\n",
       " 'PFLX_SBPL_INDX1',\n",
       " 'PFLX_SBPL_INDX1_NEG_ERR',\n",
       " 'PFLX_SBPL_INDX1_POS_ERR',\n",
       " 'PFLX_SBPL_INDX2',\n",
       " 'PFLX_SBPL_INDX2_NEG_ERR',\n",
       " 'PFLX_SBPL_INDX2_POS_ERR',\n",
       " 'PFLX_SBPL_PHTFLNC',\n",
       " 'PFLX_SBPL_PHTFLNC_ERROR',\n",
       " 'PFLX_SBPL_PHTFLNCB',\n",
       " 'PFLX_SBPL_PHTFLNCB_ERROR',\n",
       " 'PFLX_SBPL_PHTFLUX',\n",
       " 'PFLX_SBPL_PHTFLUX_ERROR',\n",
       " 'PFLX_SBPL_PHTFLUXB',\n",
       " 'PFLX_SBPL_PHTFLUXB_ERROR',\n",
       " 'PFLX_SBPL_PIVOT',\n",
       " 'PFLX_SBPL_PIVOT_NEG_ERR',\n",
       " 'PFLX_SBPL_PIVOT_POS_ERR',\n",
       " 'PFLX_SBPL_REDCHISQ',\n",
       " 'PFLX_SBPL_REDFITSTAT',\n",
       " 'PFLX_SBPL_STATISTIC',\n",
       " 'PFLX_SPECTRUM_START',\n",
       " 'PFLX_SPECTRUM_STOP',\n",
       " 'SCAT_DETECTOR_MASK',\n",
       " 'SCATALOG',\n",
       " 'T50',\n",
       " 'T50_ERROR',\n",
       " 'T50_START',\n",
       " 'TRIGGER_NAME')"
      ]
     },
     "execution_count": 22,
     "metadata": {},
     "output_type": "execute_result"
    }
   ],
   "source": [
    "# list columns in the burst catalog\n",
    "burstcat.columns"
   ]
  },
  {
   "cell_type": "markdown",
   "id": "9dc316b9-a2cf-4055-ac3c-d88218092659",
   "metadata": {},
   "source": [
    "Everything that we demoed for the trigger catalog can also be done with the Burst Catalog.\n",
    "\n",
    "Congrats, you’ve just learned how to find many types of GBM data!"
   ]
  }
 ],
 "metadata": {
  "kernelspec": {
   "display_name": "Python 3 (ipykernel)",
   "language": "python",
   "name": "python3"
  },
  "language_info": {
   "codemirror_mode": {
    "name": "ipython",
    "version": 3
   },
   "file_extension": ".py",
   "mimetype": "text/x-python",
   "name": "python",
   "nbconvert_exporter": "python",
   "pygments_lexer": "ipython3",
   "version": "3.9.6"
  }
 },
 "nbformat": 4,
 "nbformat_minor": 5
}
