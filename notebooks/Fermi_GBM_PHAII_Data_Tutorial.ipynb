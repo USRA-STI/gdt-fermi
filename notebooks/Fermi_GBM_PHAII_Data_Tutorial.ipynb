{
 "cells": [
  {
   "cell_type": "markdown",
   "id": "b5b1fbf9-12e1-4cc0-bfd6-c1450df90525",
   "metadata": {},
   "source": [
    "# Tutorial: Fermi GBM PHAII Data"
   ]
  },
  {
   "cell_type": "markdown",
   "id": "04404d03-a318-4d6a-8cd7-27962a8899e7",
   "metadata": {},
   "source": [
    "Adapted from \"GBM Science Data: Time History Spectra\" in the Fermi GBM Data Tools documentation and \"Fermi GBM PHAII Data\" in the Fermi Gamma-ray Data Tools documentation.\n",
    "\n",
    "The primary science data produced by the Fermi Gamma-ray Burst Monitor can be summarized as a time history of spectra, which is provided temporally pre-binned (CTIME and CSPEC) or temporally unbinned (TTE). These data types are produced as “snippets” for every single trigger and are also provided continuously. CTIME and CSPEC are provided in daily chunks, and TTE are provided in hourly chunks (since late 2012). One of the most common things that a user of GBM data wants to do is look at this data (plotting what we call a lightcurve) for one or more detectors over some energy range.\n",
    "\n",
    "In this tutorial, we will go through an example of how to use the Fermi Gamma-Ray Tools (GDT) toolkit as well as the core GDT toolkit to plot the lightcurves and count spectra of gamma-ray bursts using CSPEC and CTIME data from the Fermi Gamma-ray Burst Monitor."
   ]
  },
  {
   "cell_type": "code",
   "execution_count": 1,
   "id": "fbd1d78b-c203-4f5c-b5dc-688e4267bc7f",
   "metadata": {},
   "outputs": [],
   "source": [
    "import matplotlib.pyplot as plt \n",
    "import numpy as np\n",
    "import gdt.missions.fermi \n",
    "import gdt.core "
   ]
  },
  {
   "cell_type": "markdown",
   "id": "58258378-01c2-448f-b766-bf4e3bbda34e",
   "metadata": {},
   "source": [
    "The CTIME and CSPEC data are temporally pre-binned data, which have 8 and 128 energy channels respectively. These data files can be read by the `GbmPhaii` class from the GDT Fermi toolkit (or the aliased `Ctime` and `Cspec` classes). Let's begin by downloading a CTIME file. We will use event **120415958** as our example event for the rest of this tutorial."
   ]
  },
  {
   "cell_type": "code",
   "execution_count": 2,
   "id": "cb597a2b-c2a6-408f-962b-f920a7d1a45e",
   "metadata": {},
   "outputs": [
    {
     "data": {
      "application/vnd.jupyter.widget-view+json": {
       "model_id": "3775527e8f94495eaa95c52a72a7bf8e",
       "version_major": 2,
       "version_minor": 0
      },
      "text/plain": [
       "Output()"
      ]
     },
     "metadata": {},
     "output_type": "display_data"
    },
    {
     "data": {
      "text/html": [
       "<pre style=\"white-space:pre;overflow-x:auto;line-height:normal;font-family:Menlo,'DejaVu Sans Mono',consolas,'Courier New',monospace\"></pre>\n"
      ],
      "text/plain": []
     },
     "metadata": {},
     "output_type": "display_data"
    },
    {
     "data": {
      "text/html": [
       "<pre style=\"white-space:pre;overflow-x:auto;line-height:normal;font-family:Menlo,'DejaVu Sans Mono',consolas,'Courier New',monospace\">\n",
       "</pre>\n"
      ],
      "text/plain": [
       "\n"
      ]
     },
     "metadata": {},
     "output_type": "display_data"
    }
   ],
   "source": [
    "# classes used to find and open data files\n",
    "from gdt.core import data_path\n",
    "from gdt.missions.fermi.gbm.finders import TriggerFtp\n",
    "\n",
    "# we will be using the GbmPhaii data class in this example, but the Cspec and Ctime classes can also be used\n",
    "from gdt.missions.fermi.gbm.phaii import GbmPhaii\n",
    "\n",
    "# download a ctime file associated with the triggered event 120415958 and the \"nb\" detector\n",
    "ctime_finder = TriggerFtp('120415958')\n",
    "ctime_finder.get_ctime(download_dir=data_path.joinpath('120415958'),dets='nb')\n",
    "\n",
    "# open and read the downloaded ctime file\n",
    "ctime = GbmPhaii.open(data_path.joinpath('120415958/glg_ctime_nb_bn120415958_v00.pha'))"
   ]
  },
  {
   "cell_type": "markdown",
   "id": "c57c9243-e8e7-48a3-9570-657359b9b525",
   "metadata": {},
   "source": [
    "Since GBM uses the FITS format, the data files have multiple data extensions, each with metadata information in a header. There is also a primary header that contains metadata relevant to the overall file. You can access this metadata information like so:"
   ]
  },
  {
   "cell_type": "code",
   "execution_count": 3,
   "id": "bed8e20a-ba2c-4bcc-8046-efec8238d636",
   "metadata": {},
   "outputs": [
    {
     "data": {
      "text/plain": [
       "['PRIMARY', 'EBOUNDS', 'SPECTRUM', 'GTI']"
      ]
     },
     "execution_count": 3,
     "metadata": {},
     "output_type": "execute_result"
    }
   ],
   "source": [
    "ctime.headers.keys()"
   ]
  },
  {
   "cell_type": "code",
   "execution_count": 4,
   "id": "c11d5997-1cfb-4a9f-a979-d478b35c6228",
   "metadata": {},
   "outputs": [
    {
     "name": "stderr",
     "output_type": "stream",
     "text": [
      "WARNING: VerifyWarning: Card is too long, comment will be truncated. [astropy.io.fits.card]\n"
     ]
    },
    {
     "data": {
      "text/plain": [
       "CREATOR = 'GBM_SCI_Reader.pl v1.19' / Software and version creating file        \n",
       "FILETYPE= 'PHAII   '           / Name for this type of FITS file                \n",
       "FILE-VER= '1.0.0   '           / Version of the format for this filetype        \n",
       "TELESCOP= 'GLAST   '           / Name of mission/satellite                      \n",
       "INSTRUME= 'GBM     '           / Specific instrument used for observation       \n",
       "DETNAM  = 'NAI_11  '           / Individual detector name                       \n",
       "OBSERVER= 'Meegan  '           / GLAST Burst Monitor P.I.                       \n",
       "ORIGIN  = 'GIOC    '           / Name of organization making file               \n",
       "DATE    = '2012-04-16T02:15:21' / file creation date (YYYY-MM-DDThh:mm:ss UT)   \n",
       "DATE-OBS= '2012-04-15T22:45:25.975' / Date of start of observation              \n",
       "DATE-END= '2012-04-15T23:17:06.175' / Date of end of observation                \n",
       "TIMESYS = 'TT      '           / Time system used in time keywords              \n",
       "TIMEUNIT= 's       '           / Time since MJDREF, used in TSTART and TSTOP    \n",
       "MJDREFI =                51910 / MJD of GLAST reference epoch, integer part     \n",
       "MJDREFF = '0.0007428703703703703' / MJD of GLAST reference epoch, fractional par\n",
       "TSTART  =     356222661.790904 / [GLAST MET] Observation start time             \n",
       "TSTOP   =     356224561.991216 / [GLAST MET] Observation stop time              \n",
       "FILENAME= 'glg_ctime_nb_bn120415958_v00.pha' / Name of this file                \n",
       "DATATYPE= 'CTIME   '           / GBM datatype used for this file                \n",
       "TRIGTIME=     356223561.133346 / Trigger time relative to MJDREF, double precisi\n",
       "OBJECT  = 'GRB120415958'       / Burst name in standard format, yymmddfff       \n",
       "RADECSYS= 'FK5     '           / Stellar reference frame                        \n",
       "EQUINOX =               2000.0 / Equinox for RA and Dec                         \n",
       "RA_OBJ  =                 30.0 / Calculated RA of burst                         \n",
       "DEC_OBJ =                -15.0 / Calculated Dec of burst                        \n",
       "ERR_RAD =                  3.0 / Calculated Location Error Radius               "
      ]
     },
     "execution_count": 4,
     "metadata": {},
     "output_type": "execute_result"
    }
   ],
   "source": [
    "ctime.headers['PRIMARY']"
   ]
  },
  {
   "cell_type": "markdown",
   "id": "c30c024e-8026-4876-8048-dfd411c51837",
   "metadata": {},
   "source": [
    "You can also easily access certain important properties of the data."
   ]
  },
  {
   "cell_type": "code",
   "execution_count": 5,
   "id": "76c5205a-aaf0-4e73-84b7-f108ff8421b1",
   "metadata": {},
   "outputs": [
    {
     "name": "stdout",
     "output_type": "stream",
     "text": [
      "GTI: <Gti: 1 intervals; range (-899.3424419760704, 1000.8578699827194)>\n",
      "Trigger time: 356223561.133346\n",
      "Time Range: (-899.3424419760704, 1000.8578699827194)\n",
      "Energy Range: (4.323754, 2000.0)\n",
      "# of Energy Channels: 8\n"
     ]
    }
   ],
   "source": [
    "# the good time intervals for the data\n",
    "print(\"GTI: {}\".format(ctime.gti))\n",
    "\n",
    "# the trigger time\n",
    "print(\"Trigger time: {}\".format(ctime.trigtime))\n",
    "\n",
    "# the time range\n",
    "print(\"Time Range: {}\".format(ctime.time_range))\n",
    "\n",
    "# the energy range\n",
    "print(\"Energy Range: {}\".format(ctime.energy_range))\n",
    "\n",
    "# the number of energy channels\n",
    "print('# of Energy Channels: {}'.format(ctime.num_chans))"
   ]
  },
  {
   "cell_type": "markdown",
   "id": "6915f3c2-3911-4672-8305-7d79bcca1bb9",
   "metadata": {},
   "source": [
    "We can retrieve the time history spectra data contained within the file, which is a `TimeEnergyBins` class."
   ]
  },
  {
   "cell_type": "code",
   "execution_count": 6,
   "id": "cd6524eb-8d81-4fd4-b520-5bba3def9955",
   "metadata": {},
   "outputs": [
    {
     "data": {
      "text/plain": [
       "<TimeEnergyBins: 14433 time bins;\n",
       " time range (-899.3424419760704, 1000.8578699827194);\n",
       " 1 time segments;\n",
       " 8 energy bins;\n",
       " energy range (4.323754, 2000.0);\n",
       " 1 energy segments>"
      ]
     },
     "execution_count": 6,
     "metadata": {},
     "output_type": "execute_result"
    }
   ],
   "source": [
    "ctime.data"
   ]
  },
  {
   "cell_type": "markdown",
   "id": "aac882ec-7b30-4010-8a64-9d6c1ca66c41",
   "metadata": {},
   "source": [
    "Through the `Phaii` base class, there are a lot of high level functions available to us. For example, if we only want to work with a short time segment of data in the file, we can take a slice of the data and return a new fully-functional data object with the time-sliced data."
   ]
  },
  {
   "cell_type": "code",
   "execution_count": 7,
   "id": "7a992f9d-8d6f-4b89-9286-29cfc7a06803",
   "metadata": {},
   "outputs": [
    {
     "data": {
      "text/plain": [
       "(-10.240202009677887, 10.048128008842468)"
      ]
     },
     "execution_count": 7,
     "metadata": {},
     "output_type": "execute_result"
    }
   ],
   "source": [
    "# slice from approximately -10 to +10 seconds and display the sliced time range\n",
    "time_sliced_ctime = ctime.slice_time((-10.0, 10.0))\n",
    "time_sliced_ctime.time_range"
   ]
  },
  {
   "cell_type": "markdown",
   "id": "1c7cb93c-5d86-4d62-b049-e80639813c3f",
   "metadata": {},
   "source": [
    "You can also slice of the data in energy, like so:"
   ]
  },
  {
   "cell_type": "code",
   "execution_count": 8,
   "id": "9884c363-7a48-4c5d-9269-e0d9ea83e70a",
   "metadata": {},
   "outputs": [
    {
     "data": {
      "text/plain": [
       "(49.60019, 538.1436)"
      ]
     },
     "execution_count": 8,
     "metadata": {},
     "output_type": "execute_result"
    }
   ],
   "source": [
    "# slice from approximately 50 keV to 300 keV and display the sliced energy range\n",
    "energy_sliced_ctime = ctime.slice_energy((50.0, 300.0))\n",
    "energy_sliced_ctime.energy_range"
   ]
  },
  {
   "cell_type": "markdown",
   "id": "016694c8-2018-43fa-a0e4-8559a9395467",
   "metadata": {},
   "source": [
    "As mentioned, this data is 2-dimensional, so what do we do if we want a lightcurve covering a particular energy range? You would integrate (sum) over energy, which you can easily do with the `to_lightcurve()` method:"
   ]
  },
  {
   "cell_type": "code",
   "execution_count": 9,
   "id": "98070d10-1c5c-492f-85b7-2c29e5812b5c",
   "metadata": {},
   "outputs": [
    {
     "data": {
      "text/plain": [
       "(array([-899.21444198, -898.95853901, -898.70263603, ..., 1000.21786997,\n",
       "        1000.47386995, 1000.72986996]),\n",
       " array([   0.    , 1186.1779, 1596.2815, ..., 1168.0736, 1136.9364,\n",
       "        1160.156 ], dtype='>f4'))"
      ]
     },
     "execution_count": 9,
     "metadata": {},
     "output_type": "execute_result"
    }
   ],
   "source": [
    "# integrate over the full energy range\n",
    "lightcurve = ctime.to_lightcurve()\n",
    "\n",
    "# the lightcurve bin centroids and count rates\n",
    "lightcurve.centroids, lightcurve.rates"
   ]
  },
  {
   "cell_type": "code",
   "execution_count": 10,
   "id": "b1a48e90-32bb-43c6-9dc9-9c7baa7a74b2",
   "metadata": {},
   "outputs": [
    {
     "data": {
      "text/plain": [
       "(array([-899.21444198, -898.95853901, -898.70263603, ..., 1000.21786997,\n",
       "        1000.47386995, 1000.72986996]),\n",
       " array([  0.     , 223.88126, 439.27155, ..., 466.4455 , 380.28564,\n",
       "        437.49994], dtype='>f4'))"
      ]
     },
     "execution_count": 10,
     "metadata": {},
     "output_type": "execute_result"
    }
   ],
   "source": [
    "# integrate over 50-500 keV\n",
    "lightcurve = ctime.to_lightcurve(energy_range=(50.0, 500.0))\n",
    "\n",
    "# the lightcurve bin centroids and count rates\n",
    "lightcurve.centroids, lightcurve.rates"
   ]
  },
  {
   "cell_type": "markdown",
   "id": "e0853a66-87fb-4b95-a835-cd7dc51e3162",
   "metadata": {},
   "source": [
    "Of course, once we have produced a lightcurve data object, often we want to plot it. For that, we use the `Lightcurve` plotting class from the GDT Core toolkit. "
   ]
  },
  {
   "cell_type": "code",
   "execution_count": 11,
   "id": "01dfe260-7667-4343-b250-d4b3058624b4",
   "metadata": {},
   "outputs": [
    {
     "data": {
      "image/png": "[encoded data removed]",
      "text/plain": [
       "<Figure size 770x470 with 1 Axes>"
      ]
     },
     "metadata": {},
     "output_type": "display_data"
    }
   ],
   "source": [
    "from gdt.core.plot.lightcurve import Lightcurve\n",
    "\n",
    "# plot and show the lightcurve using the data integrated over 50-500 keV\n",
    "lcplot = Lightcurve(data=lightcurve)\n",
    "plt.show()"
   ]
  },
  {
   "cell_type": "markdown",
   "id": "3bdaa819-2774-46a0-b4cc-39a8075f826e",
   "metadata": {},
   "source": [
    "This plot may look odd without context. Since we are reading a trigger CTIME file, the file contains multiple time resolutions. Normally the CTIME data is accumulated in 256 ms duration bins, but starting at trigger time, the data switches to 64 ms duration bins for several hundred seconds, and then it goes back to 256 ms bins.\n",
    "\n",
    "The native CTIME resolution may make it difficult to see the signal. We can make the signal easier to see if we bin the data up using the `rebin_by_time` function."
   ]
  },
  {
   "cell_type": "code",
   "execution_count": 12,
   "id": "d208f54b-af06-4a16-977c-201c7ed8d531",
   "metadata": {},
   "outputs": [
    {
     "data": {
      "image/png": "[encoded data removed]",
      "text/plain": [
       "<Figure size 770x470 with 1 Axes>"
      ]
     },
     "metadata": {},
     "output_type": "display_data"
    }
   ],
   "source": [
    "# the data binning module\n",
    "from gdt.core.binning.binned import rebin_by_time\n",
    "\n",
    "# rebin the data to 2048 ms resolution\n",
    "rebinned_ctime = ctime.rebin_time(rebin_by_time, 2.048)\n",
    "\n",
    "# and replot, zooming in\n",
    "lcplot = Lightcurve(data=rebinned_ctime.to_lightcurve())\n",
    "lcplot.xlim = (-250.0, 250.0)\n",
    "lcplot.ylim = (1000.0, 1500.0)"
   ]
  },
  {
   "cell_type": "markdown",
   "id": "a88cc138-a980-4376-bf1a-7fc405fab9f5",
   "metadata": {},
   "source": [
    "After rebinning the data and zooming in a little, we can now easily see the GRB signal in the lightcurve.\n",
    "\n",
    "You can just as easily create a count spectrum, integrating over time instead of energy, using the `to_spectrum()` method."
   ]
  },
  {
   "cell_type": "code",
   "execution_count": 13,
   "id": "75523c0f-d31e-4ae6-a788-d90640593197",
   "metadata": {},
   "outputs": [
    {
     "data": {
      "text/plain": [
       "(array([   7.04047 ,   17.340723,   36.069298,   70.78455 ,  171.29333 ,\n",
       "         395.36002 ,  732.5708  , 1412.2628  ], dtype=float32),\n",
       " array([ 61.2879  , 319.25937 , 230.99649 , 167.85733 , 206.852   ,\n",
       "         64.629135,  48.869965,  74.911125], dtype=float32))"
      ]
     },
     "execution_count": 13,
     "metadata": {},
     "output_type": "execute_result"
    }
   ],
   "source": [
    "# integrate over the full time range\n",
    "spectrum = ctime.to_spectrum()\n",
    "\n",
    "# the energy channel centroids and differential count rates\n",
    "spectrum.centroids, spectrum.rates"
   ]
  },
  {
   "cell_type": "code",
   "execution_count": 14,
   "id": "149267fa-d999-47ab-b8b7-84b6fc4ace40",
   "metadata": {},
   "outputs": [
    {
     "data": {
      "text/plain": [
       "(array([   7.04047 ,   17.340723,   36.069298,   70.78455 ,  171.29333 ,\n",
       "         395.36002 ,  732.5708  , 1412.2628  ], dtype=float32),\n",
       " array([ 61.684734, 330.88147 , 253.36745 , 179.06876 , 205.1376  ,\n",
       "         57.92528 ,  47.141582,  64.652725], dtype=float32))"
      ]
     },
     "execution_count": 14,
     "metadata": {},
     "output_type": "execute_result"
    }
   ],
   "source": [
    "# integrate over the time range (-10.0, +10.0)\n",
    "spectrum = ctime.to_spectrum(time_range=(-10.0, 10.0))\n",
    "\n",
    "# the energy channel centroids and differential count rates\n",
    "spectrum.centroids, spectrum.rates"
   ]
  },
  {
   "cell_type": "markdown",
   "id": "2f0f98c0-4255-4cb1-9f80-8212eb78b878",
   "metadata": {},
   "source": [
    "The corresponding plot for the count spectrum can be made using the `Spectrum` class."
   ]
  },
  {
   "cell_type": "code",
   "execution_count": 15,
   "id": "63170d96-ec27-415b-8768-6cf40b45cdd8",
   "metadata": {},
   "outputs": [
    {
     "data": {
      "image/png": "[encoded data removed]",
      "text/plain": [
       "<Figure size 770x470 with 1 Axes>"
      ]
     },
     "metadata": {},
     "output_type": "display_data"
    }
   ],
   "source": [
    "from gdt.core.plot.spectrum import Spectrum\n",
    "\n",
    "# plot and show the count spectrum using the data integrated over -10 to +10 seconds\n",
    "specplot = Spectrum(data=spectrum)\n",
    "plt.show()"
   ]
  },
  {
   "cell_type": "markdown",
   "id": "9106efae-9fd3-45b5-a493-1cb7b2c45180",
   "metadata": {},
   "source": [
    "The count spectrum for CTIME data might not be quite as interesting as the lightcurve, since CTIME is only 8-channel data. The count spectra for CSPEC and TTE data are much prettier. \n",
    "\n",
    "It’s worth noting here that this spectrum is integrated over the full duration of the data, so perhaps you are interesting in a particular time range of data. You can make a single-spectrum PHA object like this:"
   ]
  },
  {
   "cell_type": "code",
   "execution_count": 16,
   "id": "d9170cbb-1847-477d-be3b-e503b72cd0a0",
   "metadata": {},
   "outputs": [],
   "source": [
    "# integrate over a single time selection\n",
    "pha1 = ctime.to_pha(time_ranges=[(-10.0, 10.0)])\n",
    "\n",
    "# integrate over multiple time selections\n",
    "pha2 = ctime.to_pha(time_ranges=[(-10.0, 10.0), (20.0, 30.0)])"
   ]
  },
  {
   "cell_type": "markdown",
   "id": "8d85f45c-3e02-4e87-b97b-919c6d8bd25e",
   "metadata": {},
   "source": [
    "Let’s revisit our time-sliced CTIME object. Maybe we are doing some sort of analysis using the GBM continuous data and we don’t want to save the full day’s worth of data for our analysis. We can write our sliced CTIME object to a fully-qualified PHAII FITS file like so:"
   ]
  },
  {
   "cell_type": "code",
   "execution_count": 18,
   "id": "fde97ce6-f756-4286-bcfc-bd97bd5bfa3a",
   "metadata": {},
   "outputs": [],
   "source": [
    "# write new gbm phaii fits file with time sliced phaii data\n",
    "time_sliced_ctime.write('./', filename='my_first_custom_ctime.pha',overwrite=True)"
   ]
  },
  {
   "cell_type": "markdown",
   "id": "3e226440-3e9d-42b4-b1bd-db356e2e1fca",
   "metadata": {},
   "source": [
    "Congratulations, you’ve completed the lesson on PHAII data!"
   ]
  }
 ],
 "metadata": {
  "kernelspec": {
   "display_name": "Python 3 (ipykernel)",
   "language": "python",
   "name": "python3"
  },
  "language_info": {
   "codemirror_mode": {
    "name": "ipython",
    "version": 3
   },
   "file_extension": ".py",
   "mimetype": "text/x-python",
   "name": "python",
   "nbconvert_exporter": "python",
   "pygments_lexer": "ipython3",
   "version": "3.9.6"
  }
 },
 "nbformat": 4,
 "nbformat_minor": 5
}
