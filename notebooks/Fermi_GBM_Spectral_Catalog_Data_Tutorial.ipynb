{
 "cells": [
  {
   "cell_type": "markdown",
   "id": "4013b3e7-c60b-47b4-aac7-7d23a0d5bfad",
   "metadata": {},
   "source": [
    "# Tutorial: Fermi GBM Spectral Catalog Data"
   ]
  },
  {
   "cell_type": "markdown",
   "id": "e66ac6f3-f0bb-4f68-9fc9-820100c7d488",
   "metadata": {},
   "source": [
    "Adapted from \"GBM Spectral Catalog Files\" in the Fermi GBM Data Tools documentation and \"Fermi GBM Spectral Fits Data\" in the Fermi Gamma-ray Data Tools documentation. \n",
    "\n",
    "GBM provides standard spectral fits for each GRB triggered on-board. These spectral fits are hosted in FITS format at HEASARC as “SCat” (Spectral Catalog) files. The SCat files contain the spectral fit data, including fit parameters, uncertainties, fluxes/fluences, fit statistic, and covariance. The files also contain metadata about the detectors and data that were used in the fit. All of this information can be easily accessed using the `Scat` class, although currently (as of summer 2024), SCat files for GRBs after summer 2018 do not yet exist. \n",
    "\n",
    "In this tutorial, we will go through an example of how to use the Fermi Gamma-Ray Data Tools (GDT) toolkit as well as the core GDT toolkit to download, access, and manipulate SCat data from the Fermi Gamma-ray Burst Monitor. "
   ]
  },
  {
   "cell_type": "code",
   "execution_count": 1,
   "id": "611462d0-341f-4942-9265-16449a35ffda",
   "metadata": {},
   "outputs": [],
   "source": [
    "import numpy as np\n",
    "import matplotlib.pyplot as plt\n",
    "import gdt.missions.fermi \n",
    "import gdt.core"
   ]
  },
  {
   "cell_type": "markdown",
   "id": "5d156e71-e5bd-4dda-9fb3-84f92c4a5d8c",
   "metadata": {},
   "source": [
    "First, we need to download and read our SCat FITS file. We can download SCat files using the `TriggerFtp` class from the GDT Fermi toolkit, although this only lets us download all the catalog files at once (burst catalog or BCat, trigger catalog or TCat, and all SCat files) and not pick individual files. After downloading the files, we can then use the `Scat` class to open and read the specific SCat file that we want. \n",
    "\n",
    "For this example, we will be using an SCat file containing the Comptonized fit of the fluence spectrum (labeled \"flnc_comp\"), which means that the Comptonized function is being used to fit the spectrum data from the entire duration of the burst (a.k.a. the fluence spectrum). Other fitting functions that the Spectral Catalog uses are the Power Law (\"plaw\") function, the Band (\"band\") function, and the Smoothly Broken Power Law (\"sbpl\") function. The alternative spectrum to the fluence spectrum is known as the peak flux (\"pflx\") spectrum, which only considers data from the brightest portion of the brust. We will use event **170817529** as our example event for the rest of this tutorial. "
   ]
  },
  {
   "cell_type": "code",
   "execution_count": 34,
   "id": "62f10573-b8d8-4e64-950a-f6f3ab451899",
   "metadata": {},
   "outputs": [
    {
     "data": {
      "application/vnd.jupyter.widget-view+json": {
       "model_id": "ddb372d663a14a27b1e24c2c705c3620",
       "version_major": 2,
       "version_minor": 0
      },
      "text/plain": [
       "Output()"
      ]
     },
     "metadata": {},
     "output_type": "display_data"
    },
    {
     "data": {
      "text/html": [
       "<pre style=\"white-space:pre;overflow-x:auto;line-height:normal;font-family:Menlo,'DejaVu Sans Mono',consolas,'Courier New',monospace\"></pre>\n"
      ],
      "text/plain": []
     },
     "metadata": {},
     "output_type": "display_data"
    },
    {
     "data": {
      "text/html": [
       "<pre style=\"white-space:pre;overflow-x:auto;line-height:normal;font-family:Menlo,'DejaVu Sans Mono',consolas,'Courier New',monospace\">\n",
       "</pre>\n"
      ],
      "text/plain": [
       "\n"
      ]
     },
     "metadata": {},
     "output_type": "display_data"
    },
    {
     "data": {
      "application/vnd.jupyter.widget-view+json": {
       "model_id": "5bb8efaedb7a40c4903bae546182e2d4",
       "version_major": 2,
       "version_minor": 0
      },
      "text/plain": [
       "Output()"
      ]
     },
     "metadata": {},
     "output_type": "display_data"
    },
    {
     "data": {
      "text/html": [
       "<pre style=\"white-space:pre;overflow-x:auto;line-height:normal;font-family:Menlo,'DejaVu Sans Mono',consolas,'Courier New',monospace\"></pre>\n"
      ],
      "text/plain": []
     },
     "metadata": {},
     "output_type": "display_data"
    },
    {
     "data": {
      "text/html": [
       "<pre style=\"white-space:pre;overflow-x:auto;line-height:normal;font-family:Menlo,'DejaVu Sans Mono',consolas,'Courier New',monospace\">\n",
       "</pre>\n"
      ],
      "text/plain": [
       "\n"
      ]
     },
     "metadata": {},
     "output_type": "display_data"
    },
    {
     "data": {
      "application/vnd.jupyter.widget-view+json": {
       "model_id": "89c464622ada4f93aba28cfd216adb8c",
       "version_major": 2,
       "version_minor": 0
      },
      "text/plain": [
       "Output()"
      ]
     },
     "metadata": {},
     "output_type": "display_data"
    },
    {
     "data": {
      "text/html": [
       "<pre style=\"white-space:pre;overflow-x:auto;line-height:normal;font-family:Menlo,'DejaVu Sans Mono',consolas,'Courier New',monospace\"></pre>\n"
      ],
      "text/plain": []
     },
     "metadata": {},
     "output_type": "display_data"
    },
    {
     "data": {
      "text/html": [
       "<pre style=\"white-space:pre;overflow-x:auto;line-height:normal;font-family:Menlo,'DejaVu Sans Mono',consolas,'Courier New',monospace\">\n",
       "</pre>\n"
      ],
      "text/plain": [
       "\n"
      ]
     },
     "metadata": {},
     "output_type": "display_data"
    },
    {
     "data": {
      "application/vnd.jupyter.widget-view+json": {
       "model_id": "cbe9ef7b94f54235b398cd46939f147c",
       "version_major": 2,
       "version_minor": 0
      },
      "text/plain": [
       "Output()"
      ]
     },
     "metadata": {},
     "output_type": "display_data"
    },
    {
     "data": {
      "text/html": [
       "<pre style=\"white-space:pre;overflow-x:auto;line-height:normal;font-family:Menlo,'DejaVu Sans Mono',consolas,'Courier New',monospace\"></pre>\n"
      ],
      "text/plain": []
     },
     "metadata": {},
     "output_type": "display_data"
    },
    {
     "data": {
      "text/html": [
       "<pre style=\"white-space:pre;overflow-x:auto;line-height:normal;font-family:Menlo,'DejaVu Sans Mono',consolas,'Courier New',monospace\">\n",
       "</pre>\n"
      ],
      "text/plain": [
       "\n"
      ]
     },
     "metadata": {},
     "output_type": "display_data"
    },
    {
     "data": {
      "application/vnd.jupyter.widget-view+json": {
       "model_id": "267f66be1f724dc29c88b5fb0929d9e2",
       "version_major": 2,
       "version_minor": 0
      },
      "text/plain": [
       "Output()"
      ]
     },
     "metadata": {},
     "output_type": "display_data"
    },
    {
     "data": {
      "text/html": [
       "<pre style=\"white-space:pre;overflow-x:auto;line-height:normal;font-family:Menlo,'DejaVu Sans Mono',consolas,'Courier New',monospace\"></pre>\n"
      ],
      "text/plain": []
     },
     "metadata": {},
     "output_type": "display_data"
    },
    {
     "data": {
      "text/html": [
       "<pre style=\"white-space:pre;overflow-x:auto;line-height:normal;font-family:Menlo,'DejaVu Sans Mono',consolas,'Courier New',monospace\">\n",
       "</pre>\n"
      ],
      "text/plain": [
       "\n"
      ]
     },
     "metadata": {},
     "output_type": "display_data"
    },
    {
     "data": {
      "application/vnd.jupyter.widget-view+json": {
       "model_id": "eecd1a421d734d2eaed02f06e781b962",
       "version_major": 2,
       "version_minor": 0
      },
      "text/plain": [
       "Output()"
      ]
     },
     "metadata": {},
     "output_type": "display_data"
    },
    {
     "data": {
      "text/html": [
       "<pre style=\"white-space:pre;overflow-x:auto;line-height:normal;font-family:Menlo,'DejaVu Sans Mono',consolas,'Courier New',monospace\"></pre>\n"
      ],
      "text/plain": []
     },
     "metadata": {},
     "output_type": "display_data"
    },
    {
     "data": {
      "text/html": [
       "<pre style=\"white-space:pre;overflow-x:auto;line-height:normal;font-family:Menlo,'DejaVu Sans Mono',consolas,'Courier New',monospace\">\n",
       "</pre>\n"
      ],
      "text/plain": [
       "\n"
      ]
     },
     "metadata": {},
     "output_type": "display_data"
    },
    {
     "data": {
      "application/vnd.jupyter.widget-view+json": {
       "model_id": "b982ed8198c74731b3cc102b7f9b3235",
       "version_major": 2,
       "version_minor": 0
      },
      "text/plain": [
       "Output()"
      ]
     },
     "metadata": {},
     "output_type": "display_data"
    },
    {
     "data": {
      "text/html": [
       "<pre style=\"white-space:pre;overflow-x:auto;line-height:normal;font-family:Menlo,'DejaVu Sans Mono',consolas,'Courier New',monospace\"></pre>\n"
      ],
      "text/plain": []
     },
     "metadata": {},
     "output_type": "display_data"
    },
    {
     "data": {
      "text/html": [
       "<pre style=\"white-space:pre;overflow-x:auto;line-height:normal;font-family:Menlo,'DejaVu Sans Mono',consolas,'Courier New',monospace\">\n",
       "</pre>\n"
      ],
      "text/plain": [
       "\n"
      ]
     },
     "metadata": {},
     "output_type": "display_data"
    },
    {
     "data": {
      "application/vnd.jupyter.widget-view+json": {
       "model_id": "1728c39fad674c0998abb9552d19c539",
       "version_major": 2,
       "version_minor": 0
      },
      "text/plain": [
       "Output()"
      ]
     },
     "metadata": {},
     "output_type": "display_data"
    },
    {
     "data": {
      "text/html": [
       "<pre style=\"white-space:pre;overflow-x:auto;line-height:normal;font-family:Menlo,'DejaVu Sans Mono',consolas,'Courier New',monospace\"></pre>\n"
      ],
      "text/plain": []
     },
     "metadata": {},
     "output_type": "display_data"
    },
    {
     "data": {
      "text/html": [
       "<pre style=\"white-space:pre;overflow-x:auto;line-height:normal;font-family:Menlo,'DejaVu Sans Mono',consolas,'Courier New',monospace\">\n",
       "</pre>\n"
      ],
      "text/plain": [
       "\n"
      ]
     },
     "metadata": {},
     "output_type": "display_data"
    },
    {
     "data": {
      "application/vnd.jupyter.widget-view+json": {
       "model_id": "9503bd6f7fa445a18ac1f163be30eaa6",
       "version_major": 2,
       "version_minor": 0
      },
      "text/plain": [
       "Output()"
      ]
     },
     "metadata": {},
     "output_type": "display_data"
    },
    {
     "data": {
      "text/html": [
       "<pre style=\"white-space:pre;overflow-x:auto;line-height:normal;font-family:Menlo,'DejaVu Sans Mono',consolas,'Courier New',monospace\"></pre>\n"
      ],
      "text/plain": []
     },
     "metadata": {},
     "output_type": "display_data"
    },
    {
     "data": {
      "text/html": [
       "<pre style=\"white-space:pre;overflow-x:auto;line-height:normal;font-family:Menlo,'DejaVu Sans Mono',consolas,'Courier New',monospace\">\n",
       "</pre>\n"
      ],
      "text/plain": [
       "\n"
      ]
     },
     "metadata": {},
     "output_type": "display_data"
    },
    {
     "data": {
      "application/vnd.jupyter.widget-view+json": {
       "model_id": "0f002f791b474f569497f9e8edd83b68",
       "version_major": 2,
       "version_minor": 0
      },
      "text/plain": [
       "Output()"
      ]
     },
     "metadata": {},
     "output_type": "display_data"
    },
    {
     "data": {
      "text/html": [
       "<pre style=\"white-space:pre;overflow-x:auto;line-height:normal;font-family:Menlo,'DejaVu Sans Mono',consolas,'Courier New',monospace\"></pre>\n"
      ],
      "text/plain": []
     },
     "metadata": {},
     "output_type": "display_data"
    },
    {
     "data": {
      "text/html": [
       "<pre style=\"white-space:pre;overflow-x:auto;line-height:normal;font-family:Menlo,'DejaVu Sans Mono',consolas,'Courier New',monospace\">\n",
       "</pre>\n"
      ],
      "text/plain": [
       "\n"
      ]
     },
     "metadata": {},
     "output_type": "display_data"
    },
    {
     "name": "stdout",
     "output_type": "stream",
     "text": [
      "<Scat: glg_scat_all_bn170817529_flnc_comp_v00.fit;\n",
      " 4 detectors; 1 fits>\n"
     ]
    }
   ],
   "source": [
    "# import classes needed to download data from triggered events\n",
    "from gdt.missions.fermi.gbm.finders import TriggerFtp\n",
    "from gdt.core import data_path\n",
    "\n",
    "# import the Scat class\n",
    "from gdt.missions.fermi.gbm.scat import Scat\n",
    "\n",
    "# initialize TriggerFtp trigger data finder to pull data from event 170817529\n",
    "scat_finder = TriggerFtp('170817529')\n",
    "\n",
    "# download all the catalog files associated with the trigger (burst catalog/bcat, spectral catalog/scat, trigger catalog/tcat)\n",
    "scat_finder.get_cat_files(download_dir=data_path.joinpath('170817529'))\n",
    "\n",
    "# read an scat file for the comptonized fit of the fluence spectrum\n",
    "scat = Scat.open(data_path.joinpath('170817529/glg_scat_all_bn170817529_flnc_comp_v00.fit'))\n",
    "print(scat)"
   ]
  },
  {
   "cell_type": "markdown",
   "id": "ac399050-cac5-469d-9594-a3052d229604",
   "metadata": {},
   "source": [
    "After opening our file, we can quickly determine the number of detectors used in the spectral fit(s) and the number of spectral fits provided in the file using the `num_detectors` and `num_fits` attributes. "
   ]
  },
  {
   "cell_type": "code",
   "execution_count": 16,
   "id": "a932468f-4c0c-46b1-a536-a8c92e6e28d3",
   "metadata": {},
   "outputs": [
    {
     "name": "stdout",
     "output_type": "stream",
     "text": [
      "Number of detectors used: 4\n",
      "Number of spectral fits: 1\n"
     ]
    }
   ],
   "source": [
    "# print how many detectors were used in the spectral fits\n",
    "print('Number of detectors used: {}'.format(scat.num_detectors))\n",
    "\n",
    "# print how many spectral fits the file contains\n",
    "print('Number of spectral fits: {}'.format(scat.num_fits))"
   ]
  },
  {
   "cell_type": "markdown",
   "id": "caa0c257-3267-43fa-bb08-c9afcf501d59",
   "metadata": {},
   "source": [
    "You can also access the list of model fits by the `model_fits` attribute."
   ]
  },
  {
   "cell_type": "code",
   "execution_count": 17,
   "id": "960adedf-6ea7-4b85-8485-3570dc4d768f",
   "metadata": {},
   "outputs": [
    {
     "data": {
      "text/plain": [
       "[<GbmModelFit: Comptonized, Epeak>]"
      ]
     },
     "execution_count": 17,
     "metadata": {},
     "output_type": "execute_result"
    }
   ],
   "source": [
    "# return the list of model fits provided in the file\n",
    "scat.model_fits"
   ]
  },
  {
   "cell_type": "markdown",
   "id": "48ecb2ec-419b-44b2-82af-03b40a29f6b2",
   "metadata": {},
   "source": [
    "Using the `model_fits` attribute, you can also access each individual provided fit as a `GbmModelFit` object. The `GbmModelFit` class contains the all of the relevant information for a fit. Let’s look at a few properties contained in this class, such as the time range, statistic, degrees of freedom, model name, and model parameters of the fit:"
   ]
  },
  {
   "cell_type": "code",
   "execution_count": 39,
   "id": "8f7ac283-42c2-4c37-a04e-cbeabe76846b",
   "metadata": {},
   "outputs": [
    {
     "name": "stdout",
     "output_type": "stream",
     "text": [
      "Fit time range: -0.192 - 0.064\n",
      "Fit statistic: Castor C-STAT\n",
      "Stat/DoF: 516.50/479\n",
      "Model name: Comptonized, Epeak\n",
      "Parameter names: ['Amplitude', 'Epeak', 'Index', 'Pivot E =fix']\n"
     ]
    }
   ],
   "source": [
    "# access the comptonized model fit\n",
    "one_fit = scat.model_fits[0]\n",
    "\n",
    "# the time range of the model fit\n",
    "print('Fit time range: {0} - {1}'.format(*one_fit.time_range))\n",
    "\n",
    "# the name of the statistic that was used for the fit\n",
    "print('Fit statistic: {}'.format(one_fit.stat_name))\n",
    "\n",
    "# the value of the fit statistic and the degrees of freedom of the fit\n",
    "print('Stat/DoF: {0:.2f}/{1}'.format(one_fit.stat_value, one_fit.dof))\n",
    "\n",
    "# the name of the model\n",
    "print('Model name: {}'.format(one_fit.name))\n",
    "\n",
    "# the names of the parameters used in the fit\n",
    "print('Parameter names: {}'.format(one_fit.parameter_list()))"
   ]
  },
  {
   "cell_type": "markdown",
   "id": "3e8f8101-14bc-4131-beef-28d4eaf23317",
   "metadata": {},
   "source": [
    "The actual fit data are stored as `Parameter` objects, which group together the fit value, uncertainty, and metadata such as the parameter name and units. If we want to quickly see the fit information, we can simply print the `GbmModelFit` object."
   ]
  },
  {
   "cell_type": "code",
   "execution_count": 19,
   "id": "8c873ae8-9d77-4a99-950f-74e9461d826d",
   "metadata": {},
   "outputs": [
    {
     "name": "stdout",
     "output_type": "stream",
     "text": [
      "Comptonized, Epeak\n",
      "   Amplitude: 0.03 +/- 0.02\n",
      "   Epeak: 215.09 +/- 54.22\n",
      "   Index: 0.14 +/- 0.59\n",
      "   Pivot E =fix: 1.00e+02 +/- 0.00e+00\n"
     ]
    }
   ],
   "source": [
    "# quickly view the parameter values for the comptonized fit\n",
    "print(one_fit)"
   ]
  },
  {
   "cell_type": "markdown",
   "id": "00d16791-f5d3-40ac-8347-76406acaea67",
   "metadata": {},
   "source": [
    "Otherwise, we can directly access the parameter fit info, such as parameter names, values, uncertainties, and 1-sigma errors by the following attributes and methods of the `Parameter` class."
   ]
  },
  {
   "cell_type": "code",
   "execution_count": 20,
   "id": "7b09c149-0f42-4cad-952a-964a35ec8722",
   "metadata": {},
   "outputs": [
    {
     "name": "stdout",
     "output_type": "stream",
     "text": [
      "Name: Epeak\n",
      "Value: 215.09434509277344\n",
      "1-sigma uncert: (54.219116, 54.219116)\n",
      "1-sigma range: (160.87522888183594, 269.31346130371094)\n"
     ]
    }
   ],
   "source": [
    "# access the 'epeak' parameter from the comptonized fit\n",
    "epeak = one_fit.parameters[1]\n",
    "\n",
    "# print the name of the accessed parameter\n",
    "print('Name: {}'.format(epeak.name))\n",
    "\n",
    "# print the value of the epeak parameter\n",
    "print('Value: {}'.format(epeak.value))\n",
    "\n",
    "# print the upper and lower 1-sigma uncertainty for the epeak parameter\n",
    "print('1-sigma uncert: {}'.format(epeak.uncertainty))\n",
    "\n",
    "# print the 1-sigma range of the epeak parameter\n",
    "print('1-sigma range: {}'.format(epeak.one_sigma_range()))"
   ]
  },
  {
   "cell_type": "markdown",
   "id": "ea1aa01f-0c60-413c-ae1c-c7017b131791",
   "metadata": {},
   "source": [
    "For each fit, the photon and energy fluxes and fluences are recorded and stored as special `Parameter` objects as well. They can be accessed by attributes such as `GbmModelFit.photon_flux` and `GbmModelFit.energy_fluence`."
   ]
  },
  {
   "cell_type": "code",
   "execution_count": 21,
   "id": "4d6ffec4-771e-44d0-b12c-8e78b5158c45",
   "metadata": {},
   "outputs": [
    {
     "name": "stdout",
     "output_type": "stream",
     "text": [
      "Photon Flux: 2.81 +/- 0.44 ph/cm^2/s\n",
      "Energy Fluence: 1.40e-07 +/- 3.03e-08 erg/cm^2\n"
     ]
    }
   ],
   "source": [
    "# print the photon flux associated with the comptonized fit\n",
    "print(one_fit.photon_flux)\n",
    "\n",
    "# print the energy fluence associated with the comptonized fit\n",
    "print(one_fit.energy_fluence)"
   ]
  },
  {
   "cell_type": "markdown",
   "id": "aed829ce-1091-4332-aa6d-3fe9f3dcc330",
   "metadata": {},
   "source": [
    "As for the detector metadata used in the fits, they are stored in `GbmDetectorData` objects and can be accessed using the `Scat.detectors` attribute."
   ]
  },
  {
   "cell_type": "code",
   "execution_count": 23,
   "id": "63ae35c6-a417-425e-b070-126392c8372e",
   "metadata": {},
   "outputs": [
    {
     "name": "stdout",
     "output_type": "stream",
     "text": [
      "[<GbmDetectorData: BGO_00; TTE;\n",
      " time range: (-0.192, 0.064) s;\n",
      " energy range: (284.65, 40108.0) keV>, <GbmDetectorData: NAI_01; TTE;\n",
      " time range: (-0.192, 0.064) s;\n",
      " energy range: (8.501, 903.45) keV>, <GbmDetectorData: NAI_02; TTE;\n",
      " time range: (-0.192, 0.064) s;\n",
      " energy range: (9.119, 902.57) keV>, <GbmDetectorData: NAI_05; TTE;\n",
      " time range: (-0.192, 0.064) s;\n",
      " energy range: (8.698, 909.58) keV>]\n"
     ]
    }
   ],
   "source": [
    "# print the detectors used in the analysis contained in the scat file\n",
    "print(scat.detectors)"
   ]
  },
  {
   "cell_type": "markdown",
   "id": "43c95bc7-c5d4-4985-8677-fae9e959ab74",
   "metadata": {},
   "source": [
    "We can access various properties stored in `GbmDetectorData` objects, such as the detector names, their energy and energy channel ranges, and whether or not data from each detector was used in the fit calculations (a.k.a. whether or not the detector was active), using the class's various attributes. "
   ]
  },
  {
   "cell_type": "code",
   "execution_count": 25,
   "id": "a209434b-7406-4dc9-b16b-31451dca9d44",
   "metadata": {},
   "outputs": [
    {
     "name": "stdout",
     "output_type": "stream",
     "text": [
      "BGO_00: energy range: (284.65, 40108.0) keV, # channel range: (3, 124), active: True\n",
      "NAI_01: energy range: (8.501, 903.45) keV, # channel range: (5, 124), active: True\n",
      "NAI_02: energy range: (9.119, 902.57) keV, # channel range: (5, 124), active: True\n",
      "NAI_05: energy range: (8.698, 909.58) keV, # channel range: (5, 124), active: True\n"
     ]
    }
   ],
   "source": [
    "# print the name, energy range, energy channel range, and active status (if the detector was used in the fit) for each detector\n",
    "for det in scat.detectors:\n",
    "    print('{0}: energy range: {1} keV, # channel range: {2}, active: {3}'.format(det.detector, det.energy_range, det.channel_range, det.active))\n"
   ]
  },
  {
   "cell_type": "markdown",
   "id": "f680198a-59df-4d2d-b8b7-bb084f471b2e",
   "metadata": {},
   "source": [
    "In addition to these properties, the deconvolved photon counts, errors, and detector-convolved photon model are stored as well. These can be used for making model count rate plots. For example:"
   ]
  },
  {
   "cell_type": "code",
   "execution_count": 13,
   "id": "0a220c2e-0b9e-48fd-8bb2-b109bc8ec9d2",
   "metadata": {},
   "outputs": [
    {
     "data": {
      "text/plain": [
       "array([1.96157284e-02, 1.99605655e-02, 2.02203058e-02, 2.04198491e-02,\n",
       "       2.05748081e-02, 2.06954200e-02, 2.07886994e-02, 2.08651833e-02,\n",
       "       2.09236853e-02, 2.09595580e-02, 2.09755581e-02, 2.09734701e-02,\n",
       "       2.09545959e-02, 2.09202804e-02, 2.08671484e-02, 2.07942519e-02,\n",
       "       2.07068976e-02, 2.06062403e-02, 2.04924233e-02, 2.03650203e-02,\n",
       "       2.02121083e-02, 2.00296603e-02, 1.98248476e-02, 1.96060352e-02,\n",
       "       1.94124747e-02, 1.92341618e-02, 1.90395378e-02, 1.88379139e-02,\n",
       "       1.86298881e-02, 1.84038971e-02, 1.81599278e-02, 1.79103129e-02,\n",
       "       1.76558699e-02, 1.73842870e-02, 1.70959160e-02, 1.68044139e-02,\n",
       "       1.65107511e-02, 1.62022281e-02, 1.58796720e-02, 1.55573804e-02,\n",
       "       1.52229378e-02, 1.48775103e-02, 1.45354364e-02, 1.41847273e-02,\n",
       "       1.38267530e-02, 1.34753715e-02, 1.31187867e-02, 1.27577381e-02,\n",
       "       1.24046309e-02, 1.20481234e-02, 1.16888676e-02, 1.13384118e-02,\n",
       "       1.09861176e-02, 1.06325680e-02, 1.02785071e-02, 9.92442667e-03,\n",
       "       9.57103912e-03, 9.21891443e-03, 8.86891689e-03, 8.52157827e-03,\n",
       "       8.18584766e-03, 7.85366166e-03, 7.52549898e-03, 7.20197801e-03,\n",
       "       6.87657017e-03, 6.55738916e-03, 6.24498492e-03, 5.93968714e-03,\n",
       "       5.64196613e-03, 5.35207335e-03, 5.07042184e-03, 4.79209516e-03,\n",
       "       4.52288752e-03, 4.26308904e-03, 4.00841329e-03, 3.76371294e-03,\n",
       "       3.52911279e-03, 3.30090406e-03, 3.07974149e-03, 2.86927028e-03,\n",
       "       2.66939658e-03, 2.47712969e-03, 2.29281047e-03, 2.11906387e-03,\n",
       "       1.95566076e-03, 1.80015434e-03, 1.65265775e-03, 1.51324435e-03,\n",
       "       1.38190738e-03, 1.25858490e-03, 1.14318531e-03, 1.03555166e-03,\n",
       "       9.35497112e-04, 8.42794776e-04, 7.57185626e-04, 6.78389741e-04,\n",
       "       6.06101414e-04, 5.39377157e-04, 4.78061469e-04, 4.22516343e-04,\n",
       "       3.72365321e-04, 3.27230984e-04, 2.86408875e-04, 2.49648612e-04,\n",
       "       2.16978922e-04, 1.87817757e-04, 1.61900462e-04, 1.38990174e-04,\n",
       "       1.18824362e-04, 1.01168524e-04, 8.57760242e-05, 7.24279816e-05,\n",
       "       6.08285809e-05, 5.08733683e-05, 4.23745478e-05, 3.51066883e-05,\n",
       "       2.89300351e-05, 2.37133027e-05, 1.93576161e-05, 1.57395298e-05,\n",
       "       1.27308667e-05, 1.02440299e-05, 8.20066271e-06, 6.52375820e-06,\n",
       "       5.15691772e-06, 3.84230407e-06, 2.66911161e-06, 3.89260578e-07],\n",
       "      dtype=float32)"
      ]
     },
     "execution_count": 13,
     "metadata": {},
     "output_type": "execute_result"
    }
   ],
   "source": [
    "# the detector-convolved photon model values for detector n1\n",
    "scat.detectors[1].photon_model"
   ]
  },
  {
   "cell_type": "markdown",
   "id": "bdc08708-a44e-4b43-a238-540670a9504d",
   "metadata": {},
   "source": [
    "Congrats, you've completed the lesson on Spectral Catalog data!"
   ]
  }
 ],
 "metadata": {
  "kernelspec": {
   "display_name": "Python 3 (ipykernel)",
   "language": "python",
   "name": "python3"
  },
  "language_info": {
   "codemirror_mode": {
    "name": "ipython",
    "version": 3
   },
   "file_extension": ".py",
   "mimetype": "text/x-python",
   "name": "python",
   "nbconvert_exporter": "python",
   "pygments_lexer": "ipython3",
   "version": "3.9.6"
  }
 },
 "nbformat": 4,
 "nbformat_minor": 5
}
