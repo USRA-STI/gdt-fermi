{
 "cells": [
  {
   "cell_type": "markdown",
   "id": "7f1d22c5-050a-43c8-9a7c-a8d3024d9116",
   "metadata": {},
   "source": [
    "# Tutorial: Data Primitives"
   ]
  },
  {
   "cell_type": "markdown",
   "id": "428ea15e-550c-4257-b994-18f47f43a666",
   "metadata": {},
   "source": [
    "Adapted from \"Introduction to the Data Primitives\" in the Fermi GBM Data Tools documentation and \"Data Primitives\" in the Gamma-ray Data Tools Core Package documentation.\n",
    "\n",
    "Data primitives are the data classes that define the datatypes within the GDT at the most basic level. They handle the properties and manipulation of the fundamental types of data that GBM produces. Often you won’t need to directly worry about these classes and how they work if you are doing sufficiently high-level work using the rest of the data tools (e.g. plotting lightcurves/spectra, standard data binning, background/spectral fitting, etc.); however, the API exposes a full array of properties and methods that allow you to work directly with the data primitives.\n",
    "\n",
    "In this tutorial, we will go through multiple examples of how to understand and manipulate the data primitives used in the Fermi Gamma-Ray Tools (GDT) toolkit and the core GDT toolkit."
   ]
  },
  {
   "cell_type": "code",
   "execution_count": 1,
   "id": "782930ac-a81c-4d41-b0cb-25b3a8a3653e",
   "metadata": {},
   "outputs": [],
   "source": [
    "import matplotlib.pyplot as plt\n",
    "import numpy as np\n",
    "import gdt.missions.fermi\n",
    "import gdt.core"
   ]
  },
  {
   "cell_type": "markdown",
   "id": "e15bd242-0399-4fb5-a64e-7330806fd4ac",
   "metadata": {},
   "source": [
    "## Range and Intervals"
   ]
  },
  {
   "cell_type": "markdown",
   "id": "498c297e-2c80-4e85-8407-3592d410aabe",
   "metadata": {},
   "source": [
    "A value covering a defined interval, such as time interval or energy range, can be represented by a `Range`. Two specific types of `Range` objects are provided: `EnergyRange` and `TimeRange`. A series of `Range` objects are represented by an `Intervals` object. Similar to the energy- and time-specific `Range` classes, there are energy- and time-specific `Intervals` classes: `Ebounds` and `Gti`, respectively. \n",
    "\n",
    "To create a `Range` object, you simply need to supply the starting and ending values. "
   ]
  },
  {
   "cell_type": "code",
   "execution_count": 2,
   "id": "f399fa39-717d-4120-8f2c-87467325188f",
   "metadata": {},
   "outputs": [
    {
     "name": "stdout",
     "output_type": "stream",
     "text": [
      "<EnergyRange: (50.0, 300.0)>\n",
      "<TimeRange: (-10.0, 10.0)>\n"
     ]
    }
   ],
   "source": [
    "from gdt.core.data_primitives import EnergyRange, TimeRange\n",
    "\n",
    "# create EnergyRange object with range of 50.0 to 300.0\n",
    "erange = EnergyRange(50.0, 300.0)\n",
    "print(erange)\n",
    "\n",
    "# create TimeRange object with range of -10.0 to 10.0\n",
    "trange = TimeRange(-10.0, 10.0)\n",
    "print(trange)"
   ]
  },
  {
   "cell_type": "markdown",
   "id": "71dc47cb-307e-433c-a3f2-d246089078d6",
   "metadata": {},
   "source": [
    "After creating a `Range`, you can easily access properties such as the `Range` object's total width and center value. "
   ]
  },
  {
   "cell_type": "code",
   "execution_count": 71,
   "id": "5e6e9c2f-5f36-4639-8d30-76ac61fd2809",
   "metadata": {},
   "outputs": [
    {
     "name": "stdout",
     "output_type": "stream",
     "text": [
      "EnergyRange width: 250.0\n",
      "EnergyRange center: 175.0\n",
      "TimeRange width: 20.0\n",
      "TimeRange center: 0.0\n"
     ]
    }
   ],
   "source": [
    "# return width and center of the EnergyRange\n",
    "print('EnergyRange width:', erange.width)\n",
    "print('EnergyRange center:', erange.center)\n",
    "\n",
    "# return width and center of TimeRange\n",
    "print('TimeRange width:', trange.width)\n",
    "print('TimeRange center:', trange.center)"
   ]
  },
  {
   "cell_type": "markdown",
   "id": "4b8a966f-afa3-40c8-a2b1-bb4e05ba702d",
   "metadata": {},
   "source": [
    "You can check to see if the `Range` contains a particular value by using the `contains()` method. By default, if the value you wish to check is one of the endpoints of the `Range`, the `contains()` method will return True (that the value **is** included in the `Range`). However, if you wish for the endpoints of the `Range` to not be marked as included, you can set the `inconclusive` parameter in the method to equal False."
   ]
  },
  {
   "cell_type": "code",
   "execution_count": 4,
   "id": "5785305e-1e0f-4ed9-b8d4-931a18ed55e5",
   "metadata": {},
   "outputs": [
    {
     "name": "stdout",
     "output_type": "stream",
     "text": [
      "EnergyRange contains 100.0: True\n",
      "TimeRange contains 10.0: True\n",
      "TimeRange contains 10.0: False\n"
     ]
    }
   ],
   "source": [
    "# determine if EnergyRange contains value 100.0\n",
    "print('EnergyRange contains 100.0:', erange.contains(100.0))\n",
    "\n",
    "# determine if TimeRange contains value 10.0\n",
    "print('TimeRange contains 10.0:', trange.contains(10.0))\n",
    "\n",
    "# determine if TimeRange contains value 10.0, changing method to exclude edges of the range for the check\n",
    "print('TimeRange contains 10.0:', trange.contains(10.0, inclusive=False))"
   ]
  },
  {
   "cell_type": "markdown",
   "id": "3523e87c-4f7d-455e-a08c-5fd8bb7759d5",
   "metadata": {},
   "source": [
    "You can also do simple `Range` “arithmetic”. The intersection or union of two `Range` objects can also be computed to return a new `Range`."
   ]
  },
  {
   "cell_type": "code",
   "execution_count": 5,
   "id": "cb9be38b-8ae3-412b-873e-44f559c97d41",
   "metadata": {},
   "outputs": [
    {
     "name": "stdout",
     "output_type": "stream",
     "text": [
      "<EnergyRange: (250.0, 300.0)>\n",
      "<TimeRange: (-10.0, 100.0)>\n"
     ]
    }
   ],
   "source": [
    "# create second EnergyRange\n",
    "erange2 = EnergyRange(250.0, 500.0)\n",
    "\n",
    "# return a new EnergyRange that is the intersection of the first and second EnergyRange objects\n",
    "print(EnergyRange.intersection(erange, erange2))\n",
    "\n",
    "# create a second TimeRange\n",
    "trange2 = TimeRange(30.0, 100.0)\n",
    "\n",
    "# return a new TimeRange that is the union of the first and second TimeRange objects\n",
    "print(TimeRange.union(trange, trange2))"
   ]
  },
  {
   "cell_type": "markdown",
   "id": "3a4e4f2d-5e90-40e1-961e-4383523cee8d",
   "metadata": {},
   "source": [
    "Often one is working with a series of ranges, or `Intervals`. As mentioned previously, the `Gti` class, (Good Time Intervals) is used for a set of time intervals, and the `Ebounds` class is used for a set of energy intervals. There are a few ways to create an `Intervals` object. For example, you could easily initialize an `Intervals` object with a preexisting `Range` object. You could also create an `Intervals` object from a list of lower and upper bounds using the `from_bounds()` method, or you could create the object from a list of lower/upper tuples using the `from_list()` method."
   ]
  },
  {
   "cell_type": "code",
   "execution_count": 6,
   "id": "2244efcc-9779-447b-aa43-909b3e2b3f7e",
   "metadata": {},
   "outputs": [
    {
     "name": "stdout",
     "output_type": "stream",
     "text": [
      "<Ebounds: 1 intervals; range (50.0, 300.0)>\n",
      "<Gti: 3 intervals; range (-10.0, 15.0)>\n",
      "<Gti: 2 intervals; range (20.0, 55.0)>\n"
     ]
    }
   ],
   "source": [
    "from gdt.core.data_primitives import Ebounds, Gti\n",
    "\n",
    "# create Ebounds object with 1 interval of our first EnergyRange object\n",
    "ebounds1 = Ebounds(erange)\n",
    "print(ebounds1)\n",
    "\n",
    "# create first Gti object with 3 intervals from a list of 3 sets of lower and upper bounds \n",
    "gti1 = Gti.from_bounds((-10.0, 0.0, 10.0), (-5.0, 5.0, 15.0))\n",
    "print(gti1)\n",
    "\n",
    "# create second Gti object with 2 intervals from a list of 2 tuples \n",
    "gti2 = Gti.from_list([(20.0, 25.0), (50.0, 55.0)])\n",
    "print(gti2)"
   ]
  },
  {
   "cell_type": "markdown",
   "id": "bbaf0a2e-d3a4-4c94-ab98-83d528982d11",
   "metadata": {},
   "source": [
    "Once initialized, the ranges within the `Intervals` object can be retrieved as a list or individually, alongside other properties such as the number of distinct intervals within the object and the object's total range. "
   ]
  },
  {
   "cell_type": "code",
   "execution_count": 7,
   "id": "98e307b3-8368-4173-a16a-157baa266c16",
   "metadata": {},
   "outputs": [
    {
     "name": "stdout",
     "output_type": "stream",
     "text": [
      "GTI intervals: [<TimeRange: (-10.0, -5.0)>, <TimeRange: (0.0, 5.0)>, <TimeRange: (10.0, 15.0)>]\n",
      "GTI 2nd interval: <TimeRange: (0.0, 5.0)>\n",
      "GTI number of intervals: 3\n",
      "GTI range: (-10.0, 15.0)\n"
     ]
    }
   ],
   "source": [
    "# print all intervals of Gti object\n",
    "print('GTI intervals:', gti1.intervals)\n",
    "\n",
    "# print only second interval of Gti object\n",
    "print('GTI 2nd interval:', gti1[1])\n",
    "\n",
    "# print the number of intervals in the Gti object\n",
    "print('GTI number of intervals:', gti1.num_intervals)\n",
    "\n",
    "# print the total range of the Gti object\n",
    "print('GTI range:', gti1.range)"
   ]
  },
  {
   "cell_type": "markdown",
   "id": "b03b146d-4bb4-4749-8888-456603bc4968",
   "metadata": {},
   "source": [
    "Similar to the `Range` classes, you can check if a value is contained in the `Intervals` using the `contains()` method. "
   ]
  },
  {
   "cell_type": "code",
   "execution_count": 8,
   "id": "6373d502-713f-4320-8df8-f8b8cb4b510a",
   "metadata": {},
   "outputs": [
    {
     "name": "stdout",
     "output_type": "stream",
     "text": [
      "GTI contains 5.0: True\n",
      "GTI contains 6.0: False\n"
     ]
    }
   ],
   "source": [
    "# determine if Gti object contains value 5.0\n",
    "print('GTI contains 5.0:', gti1.contains(5.0))\n",
    "\n",
    "# determine if Gti object contains value 6.0\n",
    "print('GTI contains 6.0:', gti1.contains(6.0))"
   ]
  },
  {
   "cell_type": "markdown",
   "id": "32fe7429-4bb7-4df4-adaa-4d033d1568d4",
   "metadata": {},
   "source": [
    "A new `Range` can be inserted into the `Intervals` using the `insert()` method. "
   ]
  },
  {
   "cell_type": "code",
   "execution_count": 9,
   "id": "34fa0d73-a8f9-4375-9f4e-5255515cf8f2",
   "metadata": {},
   "outputs": [
    {
     "name": "stdout",
     "output_type": "stream",
     "text": [
      "GTI intervals: [<TimeRange: (-10.0, -5.0)>, <TimeRange: (0.0, 5.0)>, <TimeRange: (7.0, 8.0)>, <TimeRange: (10.0, 15.0)>]\n",
      "GTI number of intervals: 4\n",
      "GTI range: (-10.0, 15.0)\n"
     ]
    }
   ],
   "source": [
    "# insert new interval into Gti object\n",
    "gti1.insert(TimeRange(7.0, 8.0))\n",
    "\n",
    "# print all intervals, number of intervals, and total range of Gti object with newly inserted interval\n",
    "print('GTI intervals:', gti1.intervals)\n",
    "print('GTI number of intervals:', gti1.num_intervals)\n",
    "print('GTI range:', gti1.range)"
   ]
  },
  {
   "cell_type": "markdown",
   "id": "21fb4433-35ee-4217-bc10-5832c1e975a9",
   "metadata": {},
   "source": [
    "Two `Intervals` can be merged into one using the `merge()` method. "
   ]
  },
  {
   "cell_type": "code",
   "execution_count": 10,
   "id": "c43dc854-20ec-4a08-ac0c-1443c2e778b4",
   "metadata": {},
   "outputs": [
    {
     "name": "stdout",
     "output_type": "stream",
     "text": [
      "<Gti: 6 intervals; range (-10.0, 55.0)>\n"
     ]
    }
   ],
   "source": [
    "# merge together first and second Gti objects to create new Gti object\n",
    "gti_merged = Gti.merge(gti1, gti2)\n",
    "print(gti_merged)"
   ]
  },
  {
   "cell_type": "markdown",
   "id": "dcc3ec45-0861-448d-80e3-49edd5e61587",
   "metadata": {},
   "source": [
    "If you want to see the full `Intervals` object, it can easily be printed with each individual range as a list using the `as_list()` method. "
   ]
  },
  {
   "cell_type": "code",
   "execution_count": 11,
   "id": "175261dc-b898-46b6-be4b-6ea1dc9ae4ee",
   "metadata": {},
   "outputs": [
    {
     "name": "stdout",
     "output_type": "stream",
     "text": [
      "[(-10.0, -5.0), (0.0, 5.0), (7.0, 8.0), (10.0, 15.0), (20.0, 25.0), (50.0, 55.0)]\n"
     ]
    }
   ],
   "source": [
    "# display all intervals for merged Gti object as list\n",
    "print(gti_merged.as_list())"
   ]
  },
  {
   "cell_type": "markdown",
   "id": "224bfdec-c973-495d-9bab-7e77f3074c65",
   "metadata": {},
   "source": [
    "Finally, we can perform the intersection of two `Intervals` objects using the same method that we did for the `Range` objects. "
   ]
  },
  {
   "cell_type": "code",
   "execution_count": 12,
   "id": "b25d574c-6756-4a61-9fb3-60941e542973",
   "metadata": {},
   "outputs": [
    {
     "name": "stdout",
     "output_type": "stream",
     "text": [
      "[<TimeRange: (4.0, 5.0)>, <TimeRange: (10.0, 12.0)>]\n"
     ]
    }
   ],
   "source": [
    "# create third Gti object\n",
    "gti3 = Gti(TimeRange(4.0, 12.0))\n",
    "\n",
    "# return new Gti object that is the intersection of the merged Gti object and the third Gti object\n",
    "gti_intersect = Gti.intersection(gti_merged, gti3)\n",
    "\n",
    "# print all intervals in intersection Gti object\n",
    "print(gti_intersect.intervals)"
   ]
  },
  {
   "cell_type": "markdown",
   "id": "21832b31-89eb-4c39-9438-e2edb07cbdeb",
   "metadata": {},
   "source": [
    "## 1D Binned Data"
   ]
  },
  {
   "cell_type": "markdown",
   "id": "8a5d3b41-998b-4ca0-9f71-ffaeb726b4de",
   "metadata": {},
   "source": [
    "A set of intervals with a corresponding value for each interval, such as the number of items in a series of bins, can be represented by a `Bins` object. This is essentially a type of 1D histogram with a variety of useful properties and methods. A useful, specialized histogram for containing gamma-ray data is defined by the `ExposureBins` class. This class modifies `Bins` by incorporating an exposure for each bin. Furthermore, distinct `ChannelBins`, `EnergyBins`, and `TimeBins` classes are used to contain spectral and temporal data. \n",
    "\n",
    "To create a `TimeBins` or `EnergyBins` object, you need to initialize with an array of counts in each bin, the lower bin edges, upper bin edges, and the exposure for each bin."
   ]
  },
  {
   "cell_type": "code",
   "execution_count": 13,
   "id": "71371755-310a-49b4-9f63-f99c211873cc",
   "metadata": {},
   "outputs": [
    {
     "name": "stdout",
     "output_type": "stream",
     "text": [
      "<TimeBins: 6 bins;\n",
      " range (0.1, 0.7);\n",
      " 2 contiguous segments>\n"
     ]
    }
   ],
   "source": [
    "from gdt.core.data_primitives import TimeBins, EnergyBins\n",
    "# create TimeBins object with listed counts, edge boundaries, and exposures\n",
    "counts = [1, 2, 3, 2, 1, 0]\n",
    "low_edges = [0.1, 0.2, 0.3, 0.4, 0.5, 0.6]\n",
    "high_edges = [0.2, 0.3, 0.35, 0.5, 0.6, 0.7]\n",
    "exposure = [0.08, 0.08, 0.04, 0.08, 0.08, 0.08]\n",
    "time_bins = TimeBins(counts, low_edges, high_edges, exposure)\n",
    "print(time_bins)"
   ]
  },
  {
   "cell_type": "markdown",
   "id": "eafaca6d-ec6c-4717-9793-05820ee54495",
   "metadata": {},
   "source": [
    "Notice in this example that there is a gap between the bins resulting in two distinct, contiguous segments. Those segments can be directly accessed using the `contiguous_bins()` method."
   ]
  },
  {
   "cell_type": "code",
   "execution_count": 14,
   "id": "110006df-4416-42af-af7d-745010fa60be",
   "metadata": {},
   "outputs": [
    {
     "name": "stdout",
     "output_type": "stream",
     "text": [
      "[<TimeBins: 3 bins;\n",
      " range (0.1, 0.35);\n",
      " 1 contiguous segments>, <TimeBins: 3 bins;\n",
      " range (0.4, 0.7);\n",
      " 1 contiguous segments>]\n",
      "Centroids, counts for each segment: [(array([0.15 , 0.25 , 0.325]), array([1, 2, 3])), (array([0.45, 0.55, 0.65]), array([2, 1, 0]))]\n"
     ]
    }
   ],
   "source": [
    "# print both distinct segments of the TimeBins object\n",
    "print(time_bins.contiguous_bins())\n",
    "\n",
    "# print centroids and counts for each TimeBins segment\n",
    "print('Centroids, counts for each segment:', [(tb.centroids, tb.counts) for tb in time_bins.contiguous_bins()])"
   ]
  },
  {
   "cell_type": "markdown",
   "id": "6d0613af-9a26-445d-8db9-e344a47dce87",
   "metadata": {},
   "source": [
    "A variety of properties are available, such as the rate, uncertainty, bin centroids, and total range of the object:"
   ]
  },
  {
   "cell_type": "code",
   "execution_count": 15,
   "id": "a394ff33-448b-4c16-8c38-cfb9123f5eb3",
   "metadata": {},
   "outputs": [
    {
     "name": "stdout",
     "output_type": "stream",
     "text": [
      "TimeBins rates: [12.5 25.  75.  25.  12.5  0. ]\n",
      "TimeBins rate uncertainties: [12.5        17.67766953 43.30127019 17.67766953 12.5         0.        ]\n",
      "TimeBins centroids: [0.15  0.25  0.325 0.45  0.55  0.65 ]\n",
      "TimeBins range: (0.1, 0.7)\n"
     ]
    }
   ],
   "source": [
    "# return count rates, count rate uncertainties, centroids, and range of TimeBins object\n",
    "print('TimeBins rates:', time_bins.rates)\n",
    "print('TimeBins rate uncertainties:', time_bins.rate_uncertainty)\n",
    "print('TimeBins centroids:', time_bins.centroids)\n",
    "print('TimeBins range:', time_bins.range)"
   ]
  },
  {
   "cell_type": "markdown",
   "id": "b5dabc2e-bcb4-4510-8779-1fa107d1b863",
   "metadata": {},
   "source": [
    "Several operations can be performed, including taking slices of the `TimeBins` and merging multiple `TimeBins` using the `slice()` and `merge()` methods."
   ]
  },
  {
   "cell_type": "code",
   "execution_count": 16,
   "id": "1c318d3a-0dc1-474e-b073-68df546ae9fc",
   "metadata": {},
   "outputs": [
    {
     "name": "stdout",
     "output_type": "stream",
     "text": [
      "<TimeBins: 2 bins;\n",
      " range (0.1, 0.3);\n",
      " 1 contiguous segments>\n"
     ]
    }
   ],
   "source": [
    "# return first new TimeBins object by slicing original TimeBins from 0.1 to 0.25\n",
    "slice1 = time_bins.slice(0.1, 0.25)\n",
    "print(slice1)"
   ]
  },
  {
   "cell_type": "code",
   "execution_count": 17,
   "id": "d09f321a-c007-4e45-9227-a859a1140bba",
   "metadata": {},
   "outputs": [
    {
     "name": "stdout",
     "output_type": "stream",
     "text": [
      "<TimeBins: 2 bins;\n",
      " range (0.5, 0.7);\n",
      " 1 contiguous segments>\n"
     ]
    }
   ],
   "source": [
    "# return second new TimeBins object by slicing original TimeBins from 0.5 to 0.8\n",
    "slice2 = time_bins.slice(0.5, 0.8)\n",
    "print(slice2)"
   ]
  },
  {
   "cell_type": "code",
   "execution_count": 18,
   "id": "1169d384-98ca-461e-a7f4-5b58b07f78a0",
   "metadata": {},
   "outputs": [
    {
     "name": "stdout",
     "output_type": "stream",
     "text": [
      "<TimeBins: 4 bins;\n",
      " range (0.1, 0.7);\n",
      " 2 contiguous segments>\n"
     ]
    }
   ],
   "source": [
    "# merge together first and second sliced TimeBins objects\n",
    "merged = TimeBins.merge([slice1, slice2])\n",
    "print(merged)"
   ]
  },
  {
   "cell_type": "markdown",
   "id": "019f6657-ddde-4e4a-b7b6-59a6b243fc39",
   "metadata": {},
   "source": [
    "`TimeBins` can also be rebinned using a binning function. For example, we can rebin our `time_bins` by a factor of 3 using the `combine_by_factor` class from the core GDT toolkit."
   ]
  },
  {
   "cell_type": "code",
   "execution_count": 19,
   "id": "30befbe1-573a-44e0-a8d7-b6edc968133a",
   "metadata": {},
   "outputs": [
    {
     "name": "stdout",
     "output_type": "stream",
     "text": [
      "<TimeBins: 2 bins;\n",
      " range (0.1, 0.7);\n",
      " 2 contiguous segments>\n"
     ]
    }
   ],
   "source": [
    "from gdt.core.binning.binned import combine_by_factor\n",
    "\n",
    "# rebin TimeBins object by combining bins by a factor of 3\n",
    "rebinned = time_bins.rebin(combine_by_factor, 3)\n",
    "print(rebinned)"
   ]
  },
  {
   "cell_type": "markdown",
   "id": "d47f475b-d5c5-4a85-b3c0-0e0835e89812",
   "metadata": {},
   "source": [
    "Multiple `TimeBins` can be summed using the `sum()` method as long as they have the same bin edges. "
   ]
  },
  {
   "cell_type": "code",
   "execution_count": 20,
   "id": "faad9d5d-a974-4ef0-9980-150c66dea4b7",
   "metadata": {},
   "outputs": [
    {
     "name": "stdout",
     "output_type": "stream",
     "text": [
      "Original TimeBins counts: [1 2 3 2 1 0]\n",
      "Summed TimeBins counts: [2. 4. 6. 4. 2. 0.]\n"
     ]
    }
   ],
   "source": [
    "# sum original TimeBins object with itself\n",
    "summed = TimeBins.sum([time_bins, time_bins])\n",
    "\n",
    "# print counts of original TimeBins object, followed by counts of summed TimeBins object\n",
    "print('Original TimeBins counts:', time_bins.counts)\n",
    "print('Summed TimeBins counts:', summed.counts)"
   ]
  },
  {
   "cell_type": "markdown",
   "id": "344947d5-56f4-4cc6-9ae2-377e885b7418",
   "metadata": {},
   "source": [
    "An `EnergyBins` object can be created in the same way as a `TimeBins` object, by providing the counts, bin edges, and exposures for the `EnergyBins`. "
   ]
  },
  {
   "cell_type": "code",
   "execution_count": 21,
   "id": "d827db52-d6ea-4c40-8a42-463ba1f45f94",
   "metadata": {},
   "outputs": [
    {
     "name": "stdout",
     "output_type": "stream",
     "text": [
      "<EnergyBins: 6 bins;\n",
      " range (10.0, 640.0);\n",
      " 1 contiguous segments>\n"
     ]
    }
   ],
   "source": [
    "# create EnergyBins object with listed counts, edge boundaries, and exposures\n",
    "counts = [1, 2, 3, 2, 1, 0]\n",
    "low_edges = [10.0, 20.0, 40.0, 80.0, 160.0, 320.0]\n",
    "high_edges = [20.0, 40.0, 80.0, 160.0, 320.0, 640.0]\n",
    "exposure = 10.0\n",
    "energy_bins = EnergyBins(counts, low_edges, high_edges, exposure)\n",
    "print(energy_bins)"
   ]
  },
  {
   "cell_type": "markdown",
   "id": "48c3783a-854b-4700-94a1-27c482023cfe",
   "metadata": {},
   "source": [
    "Similarly, you can retrieve the same properties for `EnergyBins`, with some important differences. `EnergyBins` is defined to account for a spectrum that spans orders of magnitude, and therefore the bin centroids are calculated as the geometric mean, instead of the arithmetic mean. Also, the we will be accessing the differential rate and rate uncertainty (i.e. divided by the bin width) for this example with the `rates_per_kev` method, as opposed to the normal count rate."
   ]
  },
  {
   "cell_type": "code",
   "execution_count": 22,
   "id": "d5b6b366-4130-4620-8e8b-78de128b81df",
   "metadata": {},
   "outputs": [
    {
     "name": "stdout",
     "output_type": "stream",
     "text": [
      "EnergyBins centroids: [ 14.14213562  28.28427125  56.56854249 113.13708499 226.27416998\n",
      " 452.54833996]\n",
      "EnergyBins differential count rates: [0.01     0.01     0.0075   0.0025   0.000625 0.      ]\n"
     ]
    }
   ],
   "source": [
    "# return centroids and differential count rates of EnergyBins object\n",
    "print('EnergyBins centroids:', energy_bins.centroids)\n",
    "print('EnergyBins differential count rates:', energy_bins.rates_per_kev)"
   ]
  },
  {
   "cell_type": "markdown",
   "id": "a901916e-20a1-4acc-b4bb-6e07861b48da",
   "metadata": {},
   "source": [
    "Like `TimeBins`, you can sum multiple `EnergyBins` together as long as they have the same energy range. "
   ]
  },
  {
   "cell_type": "code",
   "execution_count": 23,
   "id": "c0a67d13-6288-4a27-8ce0-46b8c9394995",
   "metadata": {},
   "outputs": [
    {
     "name": "stdout",
     "output_type": "stream",
     "text": [
      "Original EnergyBins counts: [1 2 3 2 1 0]\n",
      "Summed EnergyBins counts: [2. 4. 6. 4. 2. 0.]\n"
     ]
    }
   ],
   "source": [
    "# sum original EnergyBins object with itself\n",
    "energy_bins2 = EnergyBins.sum([energy_bins, energy_bins])\n",
    "\n",
    "# print counts of original EnergyBins object, followed by counts of summed EnergyBins object\n",
    "print('Original EnergyBins counts:', energy_bins.counts)\n",
    "print('Summed EnergyBins counts:', energy_bins2.counts)"
   ]
  },
  {
   "cell_type": "markdown",
   "id": "f7dd3ecc-07a4-47d9-82fa-ba0bc07c3fb3",
   "metadata": {},
   "source": [
    "Maybe we don’t want all of our data for an analysis, but only a snippet. We can make a slice with the `slice()` method. "
   ]
  },
  {
   "cell_type": "code",
   "execution_count": 24,
   "id": "abf7dbe2-7c91-4e29-8639-56585491e7b1",
   "metadata": {},
   "outputs": [
    {
     "name": "stdout",
     "output_type": "stream",
     "text": [
      "Sliced EnergyBins range: (40.0, 320.0)\n"
     ]
    }
   ],
   "source": [
    "# return new EnergyBins object by slicing original EnergyBins from 50.0 to 200.0\n",
    "slice_energybins = energy_bins.slice(50.0, 200.0)\n",
    "\n",
    "# print range of sliced EnergyBins object\n",
    "print('Sliced EnergyBins range:', slice_energybins.range)"
   ]
  },
  {
   "cell_type": "markdown",
   "id": "eb071377-f321-4b23-a1c6-9a44e4539170",
   "metadata": {},
   "source": [
    "We can also rebin the `EnergyBins` data using a binning algorithm. Here we will use the `combine_by_factor` class again, this time rebinning our data by a factor of 2. "
   ]
  },
  {
   "cell_type": "code",
   "execution_count": 25,
   "id": "2222864b-3c18-4de0-8d8a-6418e16e85ee",
   "metadata": {},
   "outputs": [
    {
     "name": "stdout",
     "output_type": "stream",
     "text": [
      "Rebinned EnergyBins centroids: [ 20.  80. 320.]\n",
      "Rebinned EnergyBins counts: [3 5 1]\n"
     ]
    }
   ],
   "source": [
    "from gdt.core.binning.binned import combine_by_factor\n",
    "\n",
    "# rebin EnergyBins object by combining bins by a factor of 2\n",
    "rebinned_energybins = energy_bins.rebin(combine_by_factor, 2)\n",
    "\n",
    "# return centroids and counts of rebinned EnergyBins object\n",
    "print('Rebinned EnergyBins centroids:', rebinned_energybins.centroids)\n",
    "print('Rebinned EnergyBins counts:', rebinned_energybins.counts)"
   ]
  },
  {
   "cell_type": "markdown",
   "id": "45574dab-5e13-400d-bc7a-21652169ddfa",
   "metadata": {},
   "source": [
    "In the case were we don’t have an energy calibration and instead only have counts in a series of energy channels, we use a `ChannelBins` object. All we need to create a `ChannelBins` object is a list of counts, energy channel numbers, and exposures. "
   ]
  },
  {
   "cell_type": "code",
   "execution_count": 26,
   "id": "e97711c7-4a17-4779-b506-cbbebe62fcdb",
   "metadata": {},
   "outputs": [
    {
     "name": "stdout",
     "output_type": "stream",
     "text": [
      "<ChannelBins: 6 bins;\n",
      " range (0, 5);\n",
      " 1 contiguous segments>\n"
     ]
    }
   ],
   "source": [
    "from gdt.core.data_primitives import ChannelBins\n",
    "\n",
    "# create EnergyBins object with listed counts, channel numbers, and exposures\n",
    "counts = [1, 2, 3, 2, 1, 0]\n",
    "chan_nums = [0, 1, 2, 3, 4, 5]\n",
    "exposure = 10.0\n",
    "channel_bins = ChannelBins.create(counts, chan_nums, exposure)\n",
    "print(channel_bins)"
   ]
  },
  {
   "cell_type": "markdown",
   "id": "55f9ec98-f8ba-4aa1-a9a2-c289460aca1b",
   "metadata": {},
   "source": [
    "The concept of bin edges is replaced by a channel number, therefore, we can still perform slicing and rebinning in the same way we do with `EnergyBins`."
   ]
  },
  {
   "cell_type": "code",
   "execution_count": 27,
   "id": "f2087ce5-4817-46f8-9a49-69ca6032e66b",
   "metadata": {},
   "outputs": [
    {
     "name": "stdout",
     "output_type": "stream",
     "text": [
      "<ChannelBins: 3 bins;\n",
      " range (1, 3);\n",
      " 1 contiguous segments>\n"
     ]
    }
   ],
   "source": [
    "# return new ChannelBins object by slicing original ChannelBins from 1 to 3\n",
    "print(channel_bins.slice(1, 3))"
   ]
  },
  {
   "cell_type": "code",
   "execution_count": 28,
   "id": "2defb7aa-0e29-4b5d-8788-3cba05db1440",
   "metadata": {},
   "outputs": [
    {
     "name": "stdout",
     "output_type": "stream",
     "text": [
      "<ChannelBins: 2 bins;\n",
      " range (0, 3);\n",
      " 1 contiguous segments>\n"
     ]
    }
   ],
   "source": [
    "# rebin ChannelBins object by combining bins by a factor of 3\n",
    "rebinned_channel_bins = channel_bins.rebin(combine_by_factor, 3)\n",
    "print(rebinned_channel_bins)"
   ]
  },
  {
   "cell_type": "markdown",
   "id": "c141d050-d4a0-462f-b8c2-23e464ac5343",
   "metadata": {},
   "source": [
    "One behavior you should take note in rebinning `ChannelBins` is that the channel numbers are not renumbered."
   ]
  },
  {
   "cell_type": "code",
   "execution_count": 29,
   "id": "0a9887ea-904b-4082-8070-2fe40eefc334",
   "metadata": {},
   "outputs": [
    {
     "name": "stdout",
     "output_type": "stream",
     "text": [
      "Rebinned ChannelBins channel numbers: [0 3]\n",
      "Rebinned ChannelBins number of bins: 2\n"
     ]
    }
   ],
   "source": [
    "# return channel numbers and number of bins for rebinned ChannelBins object\n",
    "print('Rebinned ChannelBins channel numbers:', rebinned_channel_bins.chan_nums)\n",
    "print('Rebinned ChannelBins number of bins:', rebinned_channel_bins.size)"
   ]
  },
  {
   "cell_type": "markdown",
   "id": "978a2cc1-1e9d-45c9-ad13-e5a7a15055e3",
   "metadata": {},
   "source": [
    "## 2D Binned Data"
   ]
  },
  {
   "cell_type": "markdown",
   "id": "a6c7efd7-67e8-42ed-b158-689d98cf7923",
   "metadata": {},
   "source": [
    "We extend the philosophy of 1D time or energy data to 2D time and energy data in the `TimeChannelBins` and `TimeEnergyBins` classes. These data type are essentially 2D histograms, where one axis is time, and the other is energy, and the corresponding attributes and methods are available for the respective axes. Additionally, this class has the ability to integrate along either axis to produce a `TimeBins` or `ChannelBins`/`EnergyBins`.\n",
    "\n",
    "To create a `TimeEnergyBins` object, you need a 2D array of counts (the number of counts in each time bin for each energy channel), the time bin edges, exposure in each bin, and energy bin edges. In general, many of the same properties and methods for `TimeBins` and `EnergyBins` are available here, keeping in mind that there are different methods for each axis."
   ]
  },
  {
   "cell_type": "code",
   "execution_count": 30,
   "id": "2740caa8-ccbe-45fd-96ad-d420f8ed5a79",
   "metadata": {},
   "outputs": [
    {
     "name": "stdout",
     "output_type": "stream",
     "text": [
      "<TimeEnergyBins: 4 time bins;\n",
      " time range (0.1, 0.5);\n",
      " 1 time segments;\n",
      " 3 energy bins;\n",
      " energy range (10.0, 80.0);\n",
      " 1 energy segments>\n"
     ]
    }
   ],
   "source": [
    "from gdt.core.data_primitives import TimeEnergyBins\n",
    "\n",
    "# create TimeEnergyBins object with listed counts, time bin edges, exposures, and energy bins edges\n",
    "counts = [[1, 4, 1], [2, 3, 0], [3, 2, 1], [4, 1, 2]]\n",
    "tstart = [0.1, 0.2, 0.3, 0.4]\n",
    "tstop = [0.2, 0.3, 0.4, 0.5]\n",
    "exposure = [0.8, 0.8, 0.8, 0.8]\n",
    "emin = [10.0, 20.0, 40.0]\n",
    "emax = [20.0, 40.0, 80.0]\n",
    "te_bins = TimeEnergyBins(counts, tstart, tstop, exposure, emin, emax)\n",
    "print(te_bins)"
   ]
  },
  {
   "cell_type": "markdown",
   "id": "20faf334-fd21-40b1-a67c-108ebdc435cd",
   "metadata": {},
   "source": [
    "Attributes similar to those for the 1D counterparts of this data type are available, keeping in mind that there are different methods for each axis. Similar to the 1D counterparts, we can access various properties like the bin centroids:"
   ]
  },
  {
   "cell_type": "code",
   "execution_count": 31,
   "id": "92f379a6-8f2a-422f-ba96-b3fabb664278",
   "metadata": {},
   "outputs": [
    {
     "name": "stdout",
     "output_type": "stream",
     "text": [
      "TimeEnergyBins energy centroids: [14.14213562 28.28427125 56.56854249]\n",
      "TimeEnergyBins time centroids: [0.15 0.25 0.35 0.45]\n"
     ]
    }
   ],
   "source": [
    "# print energy centroids and time centroids for TimeEnergyBins object\n",
    "print('TimeEnergyBins energy centroids:', te_bins.energy_centroids)\n",
    "print('TimeEnergyBins time centroids:', te_bins.time_centroids)"
   ]
  },
  {
   "cell_type": "markdown",
   "id": "0beee0dd-bee8-4154-9696-7af44b613852",
   "metadata": {},
   "source": [
    "Or the number of time bins and energy channels:"
   ]
  },
  {
   "cell_type": "code",
   "execution_count": 32,
   "id": "e90393d0-0799-44b3-b2d8-867f6816a1db",
   "metadata": {},
   "outputs": [
    {
     "name": "stdout",
     "output_type": "stream",
     "text": [
      "TimeEnergyBins number of time bins: 4\n",
      "TimeEnergyBins number of energy channels: 3\n"
     ]
    }
   ],
   "source": [
    "# print number of time bins and number of energy channels for TimeEnergyBins object\n",
    "print('TimeEnergyBins number of time bins:', te_bins.num_times)\n",
    "print('TimeEnergyBins number of energy channels:', te_bins.num_chans)"
   ]
  },
  {
   "cell_type": "markdown",
   "id": "40eabb4c-c319-4dd3-87a8-d72ce970262d",
   "metadata": {},
   "source": [
    "Or the bin widths:"
   ]
  },
  {
   "cell_type": "code",
   "execution_count": 33,
   "id": "26330af2-ee6b-4343-9e6f-c8edbad4edd1",
   "metadata": {},
   "outputs": [
    {
     "name": "stdout",
     "output_type": "stream",
     "text": [
      "TimeEnergyBins time bin widths: [0.1 0.1 0.1 0.1]\n",
      "TimeEnergyBins energy bin widths: [10. 20. 40.]\n"
     ]
    }
   ],
   "source": [
    "# return time bin widths for TimeEnergyBins object\n",
    "print('TimeEnergyBins time bin widths:', te_bins.time_widths)\n",
    "\n",
    "# return energy bin widths for TimeEnergyBins object\n",
    "print('TimeEnergyBins energy bin widths:', te_bins.chan_widths)"
   ]
  },
  {
   "cell_type": "markdown",
   "id": "4b145b55-ec02-4244-be78-5ac5fb30e5ab",
   "metadata": {},
   "source": [
    "And we can immediately return the rates and uncertainty for each bin:"
   ]
  },
  {
   "cell_type": "code",
   "execution_count": 34,
   "id": "a9bde5a5-ae29-4641-9294-459fe2e0d4db",
   "metadata": {},
   "outputs": [
    {
     "name": "stdout",
     "output_type": "stream",
     "text": [
      "TimeEnergyBins rates: [[1.25 5.   1.25]\n",
      " [2.5  3.75 0.  ]\n",
      " [3.75 2.5  1.25]\n",
      " [5.   1.25 2.5 ]]\n",
      "TimeEnergyBins rate uncertainties: [[1.25       2.5        1.25      ]\n",
      " [1.76776695 2.16506351 0.        ]\n",
      " [2.16506351 1.76776695 1.25      ]\n",
      " [2.5        1.25       1.76776695]]\n"
     ]
    }
   ],
   "source": [
    "# return rates and rate uncertainties for TimeEnergyBins object\n",
    "print('TimeEnergyBins rates:', te_bins.rates)\n",
    "print('TimeEnergyBins rate uncertainties:', te_bins.rate_uncertainty)"
   ]
  },
  {
   "cell_type": "markdown",
   "id": "be15b331-b892-49c2-a378-7fffe7ff0b86",
   "metadata": {},
   "source": [
    "As for the available methods, similar to the 1D counterparts, you can retrieve a list of contiguous bins (`contiguous_time_bins()` and `contiguous_energy_bins()`), perform a slice (`slice_time()` and `slice_energy()`), rebin (`rebin_time()` and `rebin_energy()`), and merge multiple `TimeEnergyBins` across one axis (`merge_time()` and `merge_energy()`). In addition to these methods, you can also integrate along either axis of the `TimeEnergyBins` object to return the corresponding `TimeBins` or `EnergyBins` object:"
   ]
  },
  {
   "cell_type": "code",
   "execution_count": 35,
   "id": "b6197579-b70f-4d55-8d32-a2ab82bd34e3",
   "metadata": {},
   "outputs": [
    {
     "name": "stdout",
     "output_type": "stream",
     "text": [
      "<TimeBins: 4 bins;\n",
      " range (0.1, 0.5);\n",
      " 1 contiguous segments>\n"
     ]
    }
   ],
   "source": [
    "# return TimeBins object by integrating TimeEnergyBins object over energy\n",
    "time_bins_integrated = te_bins.integrate_energy()\n",
    "print(time_bins_integrated)"
   ]
  },
  {
   "cell_type": "code",
   "execution_count": 36,
   "id": "193858d9-2782-4ae9-94f6-d6eec26d0853",
   "metadata": {},
   "outputs": [
    {
     "name": "stdout",
     "output_type": "stream",
     "text": [
      "<EnergyBins: 3 bins;\n",
      " range (10.0, 80.0);\n",
      " 1 contiguous segments>\n"
     ]
    }
   ],
   "source": [
    "# return EnergyBins object by integrating TimeEnergyBins object over time\n",
    "energy_bins_integrated = te_bins.integrate_time()\n",
    "print(energy_bins_integrated)"
   ]
  },
  {
   "cell_type": "markdown",
   "id": "dbe9c2db-5a3a-44d8-a133-ea723ab63b8a",
   "metadata": {},
   "source": [
    "`TimeChannelBins` objects are initialized in the same way as `TimeEnergyBins`, but instead of energy bin edges, the object is initialized with channel numbers."
   ]
  },
  {
   "cell_type": "code",
   "execution_count": 37,
   "id": "68cdf478-68e6-4192-bd8d-cf74cf8f7274",
   "metadata": {},
   "outputs": [
    {
     "name": "stdout",
     "output_type": "stream",
     "text": [
      "<TimeChannelBins: 4 time bins;\n",
      " time range (0.1, 0.5);\n",
      " 1 time segments;\n",
      " 3 channels;\n",
      " channel range (0, 2);\n",
      " 1 channel segments>\n"
     ]
    }
   ],
   "source": [
    "from gdt.core.data_primitives import TimeChannelBins\n",
    "\n",
    "# create TimeEnergyBins object with listed counts, time bin edges, exposures, and channel numbers\n",
    "counts = [[1, 4, 1], [2, 3, 0], [3, 2, 1], [4, 1, 2]]\n",
    "tstart = [0.1, 0.2, 0.3, 0.4]\n",
    "tstop = [0.2, 0.3, 0.4, 0.5]\n",
    "exposure = [0.8, 0.8, 0.8, 0.8]\n",
    "chan_nums = [0, 1, 2]\n",
    "tc_bins = TimeChannelBins(counts, tstart, tstop, exposure, chan_nums)\n",
    "print(tc_bins)"
   ]
  },
  {
   "cell_type": "markdown",
   "id": "b666cce9-d1ac-4287-a662-83384bc806c3",
   "metadata": {},
   "source": [
    "Most attributes and methods are the same between `TimeChannelBins` and `TimeEnergyBins`, with the exception of some of the attributes associated with the energy axis. We can integrate over either axis, noting that integrating over time will return a `ChannelBins` object."
   ]
  },
  {
   "cell_type": "code",
   "execution_count": 38,
   "id": "56db5198-9441-4bc9-9477-0628e136de6f",
   "metadata": {},
   "outputs": [
    {
     "name": "stdout",
     "output_type": "stream",
     "text": [
      "<TimeBins: 4 bins;\n",
      " range (0.1, 0.5);\n",
      " 1 contiguous segments>\n"
     ]
    }
   ],
   "source": [
    "# return TimeBins object by integrating TimeChannelBins object over channel\n",
    "print(tc_bins.integrate_channels(chan_min=1, chan_max=3))"
   ]
  },
  {
   "cell_type": "code",
   "execution_count": 39,
   "id": "b22a44da-304d-409b-be3a-bab9ee3d3f18",
   "metadata": {},
   "outputs": [
    {
     "name": "stdout",
     "output_type": "stream",
     "text": [
      "<ChannelBins: 3 bins;\n",
      " range (0, 2);\n",
      " 1 contiguous segments>\n"
     ]
    }
   ],
   "source": [
    "# return ChannelBins object by integrating TimeChannelBins object over time\n",
    "print(tc_bins.integrate_time())"
   ]
  },
  {
   "cell_type": "markdown",
   "id": "5ebde331-7f81-4c0d-9b80-aacd56fa6ce2",
   "metadata": {},
   "source": [
    "We can rebin the energy channels, in this example using the `combine_by_factor` class to rebin the channels by a factor of 2. "
   ]
  },
  {
   "cell_type": "code",
   "execution_count": 40,
   "id": "3946887f-9302-4520-9405-5e4b170d05ee",
   "metadata": {},
   "outputs": [
    {
     "name": "stdout",
     "output_type": "stream",
     "text": [
      "<TimeChannelBins: 4 time bins;\n",
      " time range (0.1, 0.5);\n",
      " 1 time segments;\n",
      " 1 channels;\n",
      " channel range (0, 0);\n",
      " 1 channel segments>\n"
     ]
    }
   ],
   "source": [
    "from gdt.core.binning.binned import combine_by_factor\n",
    "\n",
    "# rebin TimeChannelBins object by combining bins by a factor of 2\n",
    "print(tc_bins.rebin_channels(combine_by_factor, 2))"
   ]
  },
  {
   "cell_type": "markdown",
   "id": "115e0dbd-ab3e-4410-80a4-89142a16c3ea",
   "metadata": {},
   "source": [
    "We can slice by energy channel using the `slice_channels()` method. "
   ]
  },
  {
   "cell_type": "code",
   "execution_count": 41,
   "id": "405fb27c-d6df-4e30-964f-fb5d205d4160",
   "metadata": {},
   "outputs": [
    {
     "name": "stdout",
     "output_type": "stream",
     "text": [
      "<TimeChannelBins: 4 time bins;\n",
      " time range (0.1, 0.5);\n",
      " 1 time segments;\n",
      " 2 channels;\n",
      " channel range (1, 2);\n",
      " 1 channel segments>\n"
     ]
    }
   ],
   "source": [
    "# return new TimeChannelBins object by slicing original TimeChannelBins from channel 1 to channel 3\n",
    "print(tc_bins.slice_channels(1, 3))"
   ]
  },
  {
   "cell_type": "markdown",
   "id": "37097bfa-43fe-496a-bf19-96a9fd75b7ca",
   "metadata": {},
   "source": [
    "`TimeChannelBins` has the additional function (the `apply_bounds()` method) that allows us to apply an energy calibration via an `Ebounds` object and return a `TimeEnergyBins` object."
   ]
  },
  {
   "cell_type": "code",
   "execution_count": 44,
   "id": "5d17d485-f08c-46ef-b49f-5460b01c2c80",
   "metadata": {},
   "outputs": [
    {
     "name": "stdout",
     "output_type": "stream",
     "text": [
      "<TimeEnergyBins: 4 time bins;\n",
      " time range (0.1, 0.5);\n",
      " 1 time segments;\n",
      " 3 energy bins;\n",
      " energy range (10.0, 80.0);\n",
      " 1 energy segments>\n"
     ]
    }
   ],
   "source": [
    "from gdt.core.data_primitives import Ebounds\n",
    "\n",
    "# create Ebounds object from list of energy range minimums and maximums\n",
    "emin = [10.0, 20.0, 40.0]\n",
    "emax = [20.0, 40.0, 80.0]\n",
    "ebounds = Ebounds.from_bounds(emin, emax)\n",
    "\n",
    "# calibrate TimeChannelBins object using Ebounds object and return TimeEnergyBins object\n",
    "te_bins_ebounds = tc_bins.apply_ebounds(ebounds)\n",
    "print(te_bins_ebounds)"
   ]
  },
  {
   "cell_type": "markdown",
   "id": "a97d6496-9f96-4d61-9f26-2f5e3c18d73c",
   "metadata": {},
   "source": [
    "## Event Data"
   ]
  },
  {
   "cell_type": "markdown",
   "id": "e91a23ce-d3fc-4e0b-b410-85d24a4500c0",
   "metadata": {},
   "source": [
    "Instead of data binned in time, individual counts or photons may be recorded. These individual events have at least a time and energy attribute. Data like this are represented by an `EventList`. Typically these data are consider pseudo-unbinned, since they are truly unbinned in time (down to the precision of the instrument being able to measure the individual arrival times of photons), but are typically associated with binned energy channels. Similar to the other data types, the `EventList` has a variety of attributes and methods, including a `bin()` method that bins the `EventList` in time to produce a `TimeEnergyBins` object. \n",
    "\n",
    "To create an `EventList`, an array of event timestamps is required, as well as a corresponding energy channel number for each event. Optionally, an `Ebounds` representing the channel-number-to-energy mapping can be provided."
   ]
  },
  {
   "cell_type": "code",
   "execution_count": 45,
   "id": "cc7898ff-d99a-434c-aea3-da4a898b6b3a",
   "metadata": {},
   "outputs": [
    {
     "name": "stdout",
     "output_type": "stream",
     "text": [
      "<EventList: 100 events;\n",
      " time range (0.246242736042678, 107.7687909169182);\n",
      " channel range (0, 3)>\n"
     ]
    }
   ],
   "source": [
    "from gdt.core.data_primitives import EventList, Ebounds\n",
    "\n",
    "# create EventList from random times and channels, and listed energy bounds of energy channels\n",
    "times = np.random.exponential(1.0, size=100).cumsum()\n",
    "channels = np.random.randint(0, 4, size=100)\n",
    "ebounds = Ebounds.from_bounds([10.0, 20.0, 40.0, 80.0], [20.0, 40.0, 80.0, 160.0])\n",
    "event_list = EventList(times, channels, ebounds=ebounds)\n",
    "print(event_list)"
   ]
  },
  {
   "cell_type": "markdown",
   "id": "9e648a03-1a74-4d60-917b-02e443ff241e",
   "metadata": {},
   "source": [
    "In this example, we generated 100 random times from a Poisson rate of 1 count/sec, and generated random energy channels from a 4-channel spectrum.\n",
    "\n",
    "We can calculate the exposure of the `EventList` for the entire list or for a time range. Also, if there as in event deadtime, we can account for that by setting the `event_deadtime` parameter."
   ]
  },
  {
   "cell_type": "code",
   "execution_count": 46,
   "id": "e380e816-1b9a-4046-b374-8f8f24581b8b",
   "metadata": {},
   "outputs": [
    {
     "name": "stdout",
     "output_type": "stream",
     "text": [
      "EventList total exposure: 107.52236358087553\n",
      "EventList exposure from 20 to 30 seconds: 9.9999844\n"
     ]
    }
   ],
   "source": [
    "# calculate total exposure of EventList with deadtime per bin of 2.6e-6 seconds\n",
    "print('EventList total exposure:', event_list.get_exposure(event_deadtime=2.6e-6))\n",
    "\n",
    "# calculate exposure of EventList from 20.0 to 30.0 seconds with deadtime per bin of 2.6e-6 seconds\n",
    "print('EventList exposure from 20 to 30 seconds:', event_list.get_exposure(time_ranges=[20.0, 30.0], event_deadtime=2.6e-6))"
   ]
  },
  {
   "cell_type": "markdown",
   "id": "762df7e5-e84b-4bfc-a6e3-5b3f5ff92f94",
   "metadata": {},
   "source": [
    "We can also easily access multiple properties of the `EventList`, such as the size, time range, and energy range. "
   ]
  },
  {
   "cell_type": "code",
   "execution_count": 47,
   "id": "12d6a99d-e26f-4054-ac40-d6a090061bdd",
   "metadata": {},
   "outputs": [
    {
     "name": "stdout",
     "output_type": "stream",
     "text": [
      "EventList number of events: 100\n",
      "EventList time range: (0.246242736042678, 107.7687909169182)\n",
      "EventList energy range: (10.0, 160.0)\n"
     ]
    }
   ],
   "source": [
    "# print number of events, range of times, and energy range of channels for EventList\n",
    "print('EventList number of events:', event_list.size)\n",
    "print('EventList time range:', event_list.time_range)\n",
    "print('EventList energy range:', event_list.energy_range)"
   ]
  },
  {
   "cell_type": "markdown",
   "id": "f8f1ccbd-a5d8-40e1-b8cf-6b8836bc7fae",
   "metadata": {},
   "source": [
    "The `EventList` can be sliced in time, by channel, or energy range (if there is an associated `Ebounds`), which returns a new `EventList` containing the slice."
   ]
  },
  {
   "cell_type": "code",
   "execution_count": 48,
   "id": "1383a8ba-c0e4-4815-a263-5a5df4513280",
   "metadata": {},
   "outputs": [
    {
     "name": "stdout",
     "output_type": "stream",
     "text": [
      "<EventList: 11 events;\n",
      " time range (20.081797911314982, 29.96485378051192);\n",
      " channel range (0, 3)>\n"
     ]
    }
   ],
   "source": [
    "# return new EventList by slicing original EventList in time from 20.0 to 30.0\n",
    "time_sliced = event_list.time_slice(20.0, 30.0)\n",
    "print(time_sliced)"
   ]
  },
  {
   "cell_type": "code",
   "execution_count": 49,
   "id": "2ada7df5-97f0-4541-8ccd-f9d4cb406071",
   "metadata": {},
   "outputs": [
    {
     "name": "stdout",
     "output_type": "stream",
     "text": [
      "<EventList: 49 events;\n",
      " time range (0.246242736042678, 106.21118353189976);\n",
      " channel range (0, 1)>\n"
     ]
    }
   ],
   "source": [
    "# return new EventList by slicing original EventList by channel from 0 to 1\n",
    "channel_sliced = event_list.channel_slice(0, 1)\n",
    "print(channel_sliced)"
   ]
  },
  {
   "cell_type": "code",
   "execution_count": 50,
   "id": "592f1b2c-5e82-424b-8de8-f23e4addcabb",
   "metadata": {},
   "outputs": [
    {
     "name": "stdout",
     "output_type": "stream",
     "text": [
      "<EventList: 51 events;\n",
      " time range (2.5422067327550657, 107.7687909169182);\n",
      " channel range (2, 3)>\n"
     ]
    }
   ],
   "source": [
    "# return new EventList by slicing original EventList in energy from 50.0 to 150.0\n",
    "energy_sliced = event_list.energy_slice(50.0, 150.0)\n",
    "print(energy_sliced)"
   ]
  },
  {
   "cell_type": "markdown",
   "id": "fa84b679-8214-4167-a3f5-e81b67e2bce5",
   "metadata": {},
   "source": [
    "Multiple `EventLists` can be merged into a single list using the `merge()` method. If there is a chance that the `EventLists` may contain duplicate events, you may want to set the `force_unique` keyword."
   ]
  },
  {
   "cell_type": "code",
   "execution_count": 51,
   "id": "3677b26e-6a97-4d74-977e-a2170620436c",
   "metadata": {},
   "outputs": [
    {
     "name": "stdout",
     "output_type": "stream",
     "text": [
      "<EventList: 100 events;\n",
      " time range (0.246242736042678, 107.7687909169182);\n",
      " channel range (0, 3)>\n"
     ]
    }
   ],
   "source": [
    "# merge channel sliced and energy sliced EventList objects together into one EventList\n",
    "merged_eventlist = EventList.merge([channel_sliced, energy_sliced], force_unique=True)\n",
    "print(merged_eventlist)"
   ]
  },
  {
   "cell_type": "markdown",
   "id": "523ccbf4-3a92-4678-b295-3ddba0d7338c",
   "metadata": {},
   "source": [
    "Given an algorithm to bin the event data, we can convert the `EventList` to a `TimeEnergyBins`. Here, we will use the `bin_by_time` class to bin our data."
   ]
  },
  {
   "cell_type": "code",
   "execution_count": 52,
   "id": "83c9869a-db04-4fcf-bf9b-d5964619027a",
   "metadata": {},
   "outputs": [
    {
     "name": "stdout",
     "output_type": "stream",
     "text": [
      "<TimeEnergyBins: 11 time bins;\n",
      " time range (0.246242736042678, 110.24624273604267);\n",
      " 1 time segments;\n",
      " 4 energy bins;\n",
      " energy range (10.0, 160.0);\n",
      " 1 energy segments>\n"
     ]
    }
   ],
   "source": [
    "from gdt.core.binning.unbinned import bin_by_time\n",
    "\n",
    "# bin EventList using the bin_by_time algorithm and return a TimeEnergyBins object\n",
    "te_bins_binned = event_list.bin(bin_by_time, 10.0, event_deadtime=2.6e-6)\n",
    "print(te_bins_binned)"
   ]
  },
  {
   "cell_type": "markdown",
   "id": "4e7ba904-2ee4-4338-88f4-341411ec992f",
   "metadata": {},
   "source": [
    "Even without converting to a `TimeEnergyBins`, we can readily extract the count spectrum from the `EventList` using the `count_spectrum()` method. "
   ]
  },
  {
   "cell_type": "code",
   "execution_count": 53,
   "id": "c4861b2b-39b8-42c4-acad-aeb20c1de127",
   "metadata": {},
   "outputs": [
    {
     "name": "stdout",
     "output_type": "stream",
     "text": [
      "<EnergyBins: 4 bins;\n",
      " range (10.0, 160.0);\n",
      " 1 contiguous segments>\n"
     ]
    }
   ],
   "source": [
    "# extract the count spectrum as an EnergyBins object from the EventList\n",
    "count_spec = event_list.count_spectrum(event_deadtime=2.6e-6)\n",
    "print(count_spec)"
   ]
  },
  {
   "cell_type": "markdown",
   "id": "315f2890-7f9a-4e53-970b-9c3e496949e6",
   "metadata": {},
   "source": [
    "Note that if the energy calibration (ebounds) is not set for `EventList`, the `bin()` method will return a `TimeChannelBins` object and the `count_spectrum()` methods returns a `ChannelBins` object."
   ]
  },
  {
   "cell_type": "markdown",
   "id": "e59ce8ac-fc12-43fc-b9fe-edbd27cbc235",
   "metadata": {},
   "source": [
    "## Response Matrix"
   ]
  },
  {
   "cell_type": "markdown",
   "id": "bb9700fe-ba47-4fd0-ba17-f9a44c315f7c",
   "metadata": {},
   "source": [
    "A response matrix is a matrix that represents a detector energy response. Typically, a detector’s response will modify the incident spectrum so that the recorded spectrum is a convolution of the true incident spectrum with the detector response. Many factors may go into the calculation of the response matrix, such as energy dispersion, photon scattering, and absorption. Additionally, the magnitude of the response matrix is the effective area of the detector as a function of energy, accounting for factors such as the quantum efficiency of the detector. Often the response matrix contains significant off-diagonal contributions, which prevents matrix inversion, therefore estimates of the incident spectrum must be made indirectly via forward-folding techniques.\n",
    "\n",
    "To create a `ResponseMatrix` object, we need to provide a 2D array of effective areas that correspond to the number of incident photon bins and the number of output energy channels. We also need to provide the incident photon bin edges and the output energy channel edges. In our simple example, we will create a simple diagonal response where the input and output edges are the same."
   ]
  },
  {
   "cell_type": "code",
   "execution_count": 54,
   "id": "6fb3cbe4-cc3a-40a2-99ee-adfa453befa3",
   "metadata": {},
   "outputs": [
    {
     "name": "stdout",
     "output_type": "stream",
     "text": [
      "<ResponseMatrix: 6 energy bins; 6 channels>\n"
     ]
    }
   ],
   "source": [
    "from gdt.core.data_primitives import ResponseMatrix\n",
    "\n",
    "# create a ResponseMatrix from listed 2D matrix, photon bin edges, and energy channel edges\n",
    "matrix = np.diag([0.1, 0.2, 0.3, 0.2, 0.1, 0.1])\n",
    "emin = [10., 20., 40., 80., 160., 320.]\n",
    "emax = [20., 40., 80., 160., 320., 640.]\n",
    "chanlo = emin\n",
    "chanhi = emax\n",
    "rsp = ResponseMatrix(matrix, emin, emax, chanlo, chanhi)\n",
    "print(rsp)"
   ]
  },
  {
   "cell_type": "markdown",
   "id": "448cc130-e7ee-4877-a043-1889a98b8497",
   "metadata": {},
   "source": [
    "Similar to the other data primitives, there are several attributes provided. For example, we can easily obtain the widths of the incident photon bins or the centroids of the output energy bins like so:"
   ]
  },
  {
   "cell_type": "code",
   "execution_count": 55,
   "id": "766b72d2-a80b-47e6-b0a4-37bbb7c80f29",
   "metadata": {},
   "outputs": [
    {
     "name": "stdout",
     "output_type": "stream",
     "text": [
      "ResponseMatrix energy bin centroids: [ 14.14213562  28.28427125  56.56854249 113.13708499 226.27416998\n",
      " 452.54833996]\n",
      "ResposneMatrix photon bin widths: [ 10.  20.  40.  80. 160. 320.]\n"
     ]
    }
   ],
   "source": [
    "# return centroids of energy channels for ResponseMatrix\n",
    "print('ResponseMatrix energy bin centroids:', rsp.channel_centroids)\n",
    "\n",
    "# return widths of photon bins for ResponseMatrix\n",
    "print('ResposneMatrix photon bin widths:', rsp.photon_bin_widths)"
   ]
  },
  {
   "cell_type": "markdown",
   "id": "29260eab-9c79-4f69-a5b2-3acda248eefa",
   "metadata": {},
   "source": [
    "The effective area can be estimated at any arbitrary energy within the bounds of the response using the `effective_area()` method. "
   ]
  },
  {
   "cell_type": "code",
   "execution_count": 56,
   "id": "0ba06cd1-ce4e-4e64-9f1c-233651a8a36b",
   "metadata": {},
   "outputs": [
    {
     "name": "stdout",
     "output_type": "stream",
     "text": [
      "ResponseMatrix effective area at energy 50.0: 0.2710806010829534\n",
      "ResponseMatrix effective area at energy 135.0: 0.12418578120734841\n"
     ]
    }
   ],
   "source": [
    "# calculate effective area at energy value 50.0 for ResponseMatrix\n",
    "print('ResponseMatrix effective area at energy 50.0:', rsp.effective_area(50.0))\n",
    "\n",
    "# calculate effective area at energy value 135.0 for ResponseMatrix\n",
    "print('ResponseMatrix effective area at energy 135.0:', rsp.effective_area(135.0))"
   ]
  },
  {
   "cell_type": "markdown",
   "id": "6797e633-8cda-4a5e-8c7f-5d297284598a",
   "metadata": {},
   "source": [
    "Most importantly, any photon model can be folded through the response using the `fold_spectrum()` method to produce the detector-convolved count spectrum. While you can certainly write a simple photon model function to fold through the response, there are built-in models in the spectral functions module. In our example, we will fold a power law model from the Core GDT toolkit's `PowerLaw` class through our response."
   ]
  },
  {
   "cell_type": "code",
   "execution_count": 57,
   "id": "7536832a-3132-4ff6-9764-b9309bdaa97f",
   "metadata": {},
   "outputs": [
    {
     "name": "stdout",
     "output_type": "stream",
     "text": [
      "[7.39378818 6.43666647 4.20258271 1.21952025 0.26541351 0.11552794]\n"
     ]
    }
   ],
   "source": [
    "from gdt.core.spectra.functions import PowerLaw\n",
    "\n",
    "# initialize power law function\n",
    "pl = PowerLaw()\n",
    "\n",
    "# fold power law photon spectrum through ResponseMatrix to return a count spectrum\n",
    "count_spectrum = rsp.fold_spectrum(pl.fit_eval, (0.1, -2.2))\n",
    "print(count_spectrum)"
   ]
  },
  {
   "cell_type": "markdown",
   "id": "c832482b-11a0-4a33-828b-8a3d9ae93da7",
   "metadata": {},
   "source": [
    "Thus, we have produced the count spectrum in counts/second.\n",
    "\n",
    "The response can also be rebinned along the channel axis using the `rebin()` method, if desired. This may be useful in cases where the corresponding spectral data is rebinned, although keep in mind that rebinning causes loss of information. To rebin the response, we specify either the factor at which to combine bins or a list of bin edge indices defining the bin edges that will remain after rebinning."
   ]
  },
  {
   "cell_type": "code",
   "execution_count": 58,
   "id": "819ba090-aeec-409c-9316-c8963f82c771",
   "metadata": {},
   "outputs": [
    {
     "name": "stdout",
     "output_type": "stream",
     "text": [
      "<ResponseMatrix: 6 energy bins; 3 channels>\n"
     ]
    }
   ],
   "source": [
    "# rebin ResponseMatrix by a factor of 2\n",
    "rebinned_factor = rsp.rebin(factor=2)\n",
    "print(rebinned_factor)"
   ]
  },
  {
   "cell_type": "code",
   "execution_count": 59,
   "id": "fc89c4c4-bff5-444d-857e-8dff15996899",
   "metadata": {},
   "outputs": [
    {
     "name": "stdout",
     "output_type": "stream",
     "text": [
      "<ResponseMatrix: 6 energy bins; 2 channels>\n"
     ]
    }
   ],
   "source": [
    "# rebin ResponseMatrix with listed bin edge indices\n",
    "rebinned_edges = rsp.rebin(edge_indices=[0, 1, 5])\n",
    "print(rebinned_edges)"
   ]
  },
  {
   "cell_type": "markdown",
   "id": "00df86db-85f8-43d5-8c51-06dfc2c568ed",
   "metadata": {},
   "source": [
    "Finally, the input energy axis of the response can be resampled using the `resample()` method to increase or decrease the photon energy resolution or redefine the input photon bin edges. Keep in mind that this may introduce a systematic error via interpolation of the response, so you should always check to make sure the response behaves as expected after resampling. To resample, you can either specify the number of photon bins you want, in which case the bin edges are spaced logarithmically, or you can specify the edges of the bins. The photon bins can only be resampled within the energy bounds of the original response."
   ]
  },
  {
   "cell_type": "code",
   "execution_count": 60,
   "id": "e42c2171-249e-48a0-9f2e-13204cb804b4",
   "metadata": {},
   "outputs": [
    {
     "name": "stdout",
     "output_type": "stream",
     "text": [
      "<ResponseMatrix: 12 energy bins; 6 channels>\n"
     ]
    }
   ],
   "source": [
    "# resample the input energy axis of ResposneMatrix to have 12 photon bins\n",
    "resampled_num = rsp.resample(num_photon_bins=12)\n",
    "print(resampled_num)"
   ]
  },
  {
   "cell_type": "code",
   "execution_count": 61,
   "id": "88030e98-1e26-46df-b45f-983f41f5670f",
   "metadata": {},
   "outputs": [
    {
     "name": "stdout",
     "output_type": "stream",
     "text": [
      "<ResponseMatrix: 3 energy bins; 6 channels>\n"
     ]
    }
   ],
   "source": [
    "# resample the input energy axis of ResponseMatrix to have the listed bin edges\n",
    "resampled_edges = rsp.resample(photon_bin_edges=(10., 30., 90., 640.))\n",
    "print(resampled_edges)"
   ]
  },
  {
   "cell_type": "markdown",
   "id": "fc200ba9-5191-44c5-96b0-233df286949d",
   "metadata": {},
   "source": [
    "## Parameter"
   ]
  },
  {
   "cell_type": "markdown",
   "id": "256465ca-5b77-4991-a035-ca677cc572f2",
   "metadata": {},
   "source": [
    "A parameter in the context of the GDT is a variable that has an associated uncertainty regarding its value, and usually results from a fit to data. The `Parameter` class is a simple container for a value and the associated uncertainty and provides a few functions and different representations of the parameter.\n",
    "\n",
    "To create a `Parameter` object, we need to provide at least a value and the 1-sigma equivalent uncertainty. We can also provide other useful information, such as the name of the parameter, it’s units, and support over which it is valid."
   ]
  },
  {
   "cell_type": "code",
   "execution_count": 62,
   "id": "de73ac8a-0f76-42da-9d86-c998056d01ac",
   "metadata": {},
   "outputs": [
    {
     "name": "stdout",
     "output_type": "stream",
     "text": [
      "param1: 100.00 +/- 5.00\n"
     ]
    }
   ],
   "source": [
    "from gdt.core.data_primitives import Parameter\n",
    "\n",
    "# create Parameter with value of 100.0, symmetrical uncertainty of 5.0, and listed name\n",
    "param1 = Parameter(100.0, 5.0, name='param1')\n",
    "print(param1)"
   ]
  },
  {
   "cell_type": "code",
   "execution_count": 63,
   "id": "f44eff04-a01b-4a36-8388-06b93413fedc",
   "metadata": {},
   "outputs": [
    {
     "name": "stdout",
     "output_type": "stream",
     "text": [
      "Epeak: 100.00 +10.00/-5.00 keV\n"
     ]
    }
   ],
   "source": [
    "# create Parameter with value of 100.0, asymmetrical uncertainty of (-5.0, +10.0), listed name and units, and valid support from 0 to infinity\n",
    "param_epeak = Parameter(100.0, (5.0, 10.0), name='Epeak', units='keV', support=(0.0, np.inf))\n",
    "print(param_epeak)\n"
   ]
  },
  {
   "cell_type": "markdown",
   "id": "94102726-526e-4d39-805e-fee1c93615a1",
   "metadata": {},
   "source": [
    "In the first example, we assigned a symmetric 1-sigma uncertainty (5.0) to the parameter value, and in the second example, we assigned an asymmetric uncertainty. Once initialized, we can easily access multiple attributes like so:"
   ]
  },
  {
   "cell_type": "code",
   "execution_count": 64,
   "id": "25ffef21-bf22-46cb-9b9b-d1243ca8b9c1",
   "metadata": {},
   "outputs": [
    {
     "name": "stdout",
     "output_type": "stream",
     "text": [
      "Parameter name: Epeak\n"
     ]
    }
   ],
   "source": [
    "# print name of Parameter\n",
    "print('Parameter name:', param_epeak.name)"
   ]
  },
  {
   "cell_type": "code",
   "execution_count": 65,
   "id": "189860cc-5217-4ef3-b6c0-badef9ba7e7f",
   "metadata": {},
   "outputs": [
    {
     "name": "stdout",
     "output_type": "stream",
     "text": [
      "Parameter support range: (0.0, inf)\n"
     ]
    }
   ],
   "source": [
    "# print support range over which Parameter is valid\n",
    "print('Parameter support range:', param_epeak.support)"
   ]
  },
  {
   "cell_type": "code",
   "execution_count": 66,
   "id": "03291fc5-d393-4465-945a-44211ec866bb",
   "metadata": {},
   "outputs": [
    {
     "name": "stdout",
     "output_type": "stream",
     "text": [
      "Parameter uncertainty: (5.0, 10.0)\n"
     ]
    }
   ],
   "source": [
    "# print uncertainty of Parameter\n",
    "print('Parameter uncertainty:', param_epeak.uncertainty)"
   ]
  },
  {
   "cell_type": "code",
   "execution_count": 67,
   "id": "be42e9c4-e799-46f4-b462-92942d651d0e",
   "metadata": {},
   "outputs": [
    {
     "name": "stdout",
     "output_type": "stream",
     "text": [
      "Parameter units: keV\n"
     ]
    }
   ],
   "source": [
    "# print units of Parameter\n",
    "print('Parameter units:', param_epeak.units)"
   ]
  },
  {
   "cell_type": "markdown",
   "id": "8d1bb8de-f9f4-462e-ab57-af26b876e628",
   "metadata": {},
   "source": [
    "There are some other convenience functions, such as checking if the value is within the valid support using the `valid_value()` method."
   ]
  },
  {
   "cell_type": "code",
   "execution_count": 68,
   "id": "28d15946-dc12-4aeb-879b-caafbd31f882",
   "metadata": {},
   "outputs": [
    {
     "name": "stdout",
     "output_type": "stream",
     "text": [
      "Parameter is valid within support range: True\n"
     ]
    }
   ],
   "source": [
    "# check if Parameter value is allowed within Parameter range\n",
    "print('Parameter is valid within support range:', param_epeak.valid_value())"
   ]
  },
  {
   "cell_type": "markdown",
   "id": "b5376558-99d2-4f3c-b004-c2de6cb2de19",
   "metadata": {},
   "source": [
    "Additionally, the 1-sigma range can be returned using the `one_sigma_range()` method. "
   ]
  },
  {
   "cell_type": "code",
   "execution_count": 69,
   "id": "1c7ddf12-8d88-46de-b50e-fed92b94d337",
   "metadata": {},
   "outputs": [
    {
     "name": "stdout",
     "output_type": "stream",
     "text": [
      "Parameter 1-sigma range: (95.0, 110.0)\n"
     ]
    }
   ],
   "source": [
    "# print 1-sigma range for Parameter\n",
    "print('Parameter 1-sigma range:', param_epeak.one_sigma_range())"
   ]
  },
  {
   "cell_type": "markdown",
   "id": "45e9e856-f2e8-48a5-8459-ce8b1c85a590",
   "metadata": {},
   "source": [
    "And finally, the parameter can be represented in the common FITS format by the `to_fits_value()` method. "
   ]
  },
  {
   "cell_type": "code",
   "execution_count": 70,
   "id": "574a2e80-a4fe-4886-966d-8176388d8867",
   "metadata": {},
   "outputs": [
    {
     "name": "stdout",
     "output_type": "stream",
     "text": [
      "Parameter in FITS format: (100.0, 10.0, 5.0)\n"
     ]
    }
   ],
   "source": [
    "# print Parameter in common FITS format\n",
    "print('Parameter in FITS format:', param_epeak.to_fits_value())"
   ]
  },
  {
   "cell_type": "markdown",
   "id": "55771303-f1b4-42c5-be28-64f0ec000a64",
   "metadata": {},
   "source": [
    "Congratulations, you've completed the lesson on data primitives!"
   ]
  }
 ],
 "metadata": {
  "kernelspec": {
   "display_name": "Python 3 (ipykernel)",
   "language": "python",
   "name": "python3"
  },
  "language_info": {
   "codemirror_mode": {
    "name": "ipython",
    "version": 3
   },
   "file_extension": ".py",
   "mimetype": "text/x-python",
   "name": "python",
   "nbconvert_exporter": "python",
   "pygments_lexer": "ipython3",
   "version": "3.9.6"
  }
 },
 "nbformat": 4,
 "nbformat_minor": 5
}
